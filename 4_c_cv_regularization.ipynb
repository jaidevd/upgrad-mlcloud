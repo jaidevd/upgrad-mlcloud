{
 "cells": [
  {
   "cell_type": "markdown",
   "metadata": {},
   "source": [
    "# Cross-Validation & Regularization"
   ]
  },
  {
   "cell_type": "code",
   "execution_count": 1,
   "metadata": {},
   "outputs": [],
   "source": [
    "from sklearn.datasets import load_diabetes\n",
    "from pyspark.ml.regression import LinearRegression\n",
    "from pyspark.ml.feature import VectorAssembler\n",
    "import pandas as pd\n",
    "import numpy as np\n",
    "import matplotlib.pyplot as plt\n",
    "%matplotlib inline"
   ]
  },
  {
   "cell_type": "code",
   "execution_count": 2,
   "metadata": {},
   "outputs": [
    {
     "name": "stdout",
     "output_type": "stream",
     "text": [
      "+--------------------+------------------+-------------------+--------------------+--------------------+-------------------+-------------------+--------------------+-------------------+-------------------+-----+--------------------+\n",
      "|                 age|               sex|                bmi|                  bp|                  s1|                 s2|                 s3|                  s4|                 s5|                 s6|    y|            features|\n",
      "+--------------------+------------------+-------------------+--------------------+--------------------+-------------------+-------------------+--------------------+-------------------+-------------------+-----+--------------------+\n",
      "|  0.0380759064334241|0.0506801187398187| 0.0616962065186885|  0.0218723549949558| -0.0442234984244464|-0.0348207628376986|-0.0434008456520269|-0.00259226199818282| 0.0199084208763183|-0.0176461251598052|151.0|[0.03807590643342...|\n",
      "|-0.00188201652779104|-0.044641636506989|-0.0514740612388061| -0.0263278347173518|-0.00844872411121698| -0.019163339748222| 0.0744115640787594| -0.0394933828740919|-0.0683297436244215|  -0.09220404962683| 75.0|[-0.0018820165277...|\n",
      "|  0.0852989062966783|0.0506801187398187| 0.0444512133365941|-0.00567061055493425| -0.0455994512826475|-0.0341944659141195|-0.0323559322397657|-0.00259226199818282|0.00286377051894013|-0.0259303389894746|141.0|[0.08529890629667...|\n",
      "| -0.0890629393522603|-0.044641636506989|-0.0115950145052127| -0.0366564467985606|     0.0121905687618| 0.0249905933641021|-0.0360375700438527|  0.0343088588777263| 0.0226920225667445|-0.0093619113301358|206.0|[-0.0890629393522...|\n",
      "| 0.00538306037424807|-0.044641636506989|-0.0363846922044735|  0.0218723549949558| 0.00393485161259318| 0.0155961395104161| 0.0081420836051921|-0.00259226199818282|-0.0319914449413559|-0.0466408735636482|135.0|[0.00538306037424...|\n",
      "+--------------------+------------------+-------------------+--------------------+--------------------+-------------------+-------------------+--------------------+-------------------+-------------------+-----+--------------------+\n",
      "only showing top 5 rows\n",
      "\n"
     ]
    }
   ],
   "source": [
    "diabetes = load_diabetes()\n",
    "df = pd.DataFrame(diabetes.data, columns=diabetes.feature_names)\n",
    "df['y'] = diabetes.target\n",
    "sdf = spark.createDataFrame(df)\n",
    "\n",
    "assembler = VectorAssembler(inputCols=[c for c in sdf.columns if c != 'y'],\n",
    "                            outputCol='features')\n",
    "dataset = assembler.transform(sdf)\n",
    "dataset.show(5)"
   ]
  },
  {
   "cell_type": "markdown",
   "metadata": {},
   "source": [
    "## We haven't tested models on unseen data!"
   ]
  },
  {
   "cell_type": "code",
   "execution_count": 3,
   "metadata": {},
   "outputs": [
    {
     "name": "stdout",
     "output_type": "stream",
     "text": [
      "R2 (training):  0.5458409627560749\n",
      "R2 (testing):  0.4801422476078677\n"
     ]
    }
   ],
   "source": [
    "train, test = dataset.randomSplit([0.5, 0.5])\n",
    "lr = LinearRegression(featuresCol='features', labelCol='y')\n",
    "model = lr.fit(train)\n",
    "\n",
    "# Evaluate on training data\n",
    "summary_train = model.evaluate(train)\n",
    "print('R2 (training): ', summary_train.r2)\n",
    "\n",
    "# Evaluate on training data\n",
    "summary_test = model.evaluate(test)\n",
    "print('R2 (testing): ', summary_test.r2)"
   ]
  },
  {
   "cell_type": "markdown",
   "metadata": {},
   "source": [
    "## Increase training fraction?"
   ]
  },
  {
   "cell_type": "code",
   "execution_count": 6,
   "metadata": {},
   "outputs": [
    {
     "data": {
      "text/plain": [
       "<matplotlib.legend.Legend at 0x7f7936aacb70>"
      ]
     },
     "execution_count": 6,
     "metadata": {},
     "output_type": "execute_result"
    },
    {
     "data": {
      "image/png": "[encoded data removed]",
      "text/plain": [
       "<Figure size 432x288 with 1 Axes>"
      ]
     },
     "metadata": {
      "needs_background": "light"
     },
     "output_type": "display_data"
    }
   ],
   "source": [
    "p_train = [0.6, 0.7, 0.8, 0.9]\n",
    "train_r2 = []\n",
    "test_r2 = []\n",
    "\n",
    "for p in p_train:\n",
    "    train, test = dataset.randomSplit([p, 1 - p])\n",
    "    model = lr.fit(train)\n",
    "    \n",
    "    # Evaluate on training data\n",
    "    summary_train = model.evaluate(train)\n",
    "    train_r2.append(summary_train.r2)\n",
    "\n",
    "    # Evaluate on training data\n",
    "    summary_test = model.evaluate(test)\n",
    "    test_r2.append(summary_test.r2)\n",
    "\n",
    "plt.plot(p_train, train_r2, 'ro-', label='train')\n",
    "plt.plot(p_train, test_r2, 'g', label='test')\n",
    "plt.xlabel('Training Size')\n",
    "plt.ylabel('R2')\n",
    "plt.legend()"
   ]
  },
  {
   "cell_type": "markdown",
   "metadata": {},
   "source": [
    "## Question: How do we interpret this chart?"
   ]
  },
  {
   "cell_type": "markdown",
   "metadata": {},
   "source": [
    "# Regularization for solving Ill-conditioned problems\n",
    "\n",
    "## L2 Regularization:\n",
    "\n",
    "$$ \\mathbf{E(\\mathbf{\\beta})} = SSE(\\mathbf{\\beta}) + \\frac{\\lambda}{2}\\|\\mathbf{\\beta}\\|_{2}^{2}$$\n",
    "\n",
    "\n",
    "### The _L2_ norm of a vector $\\mathbf{x}$ is denoted as $\\|\\mathbf{x}\\|^{2}_{2}$ (aka the _Euclidean_ or _Frobenius_ norm)\n",
    "\n",
    "## L1 Regularization (aka Lasso):\n",
    "\n",
    "$$ \\mathbf{E(\\mathbf{\\beta})} = SSE(\\mathbf{\\beta}) + \\lambda\\|\\mathbf{\\beta}\\|_{1}$$\n",
    "\n",
    "\n",
    "### The _L1_ norm of a vector $\\mathbf{x}$ is denoted as $\\|\\mathbf{x}\\|_{1}$ (aka the _Taxicab_ or _Manhattan_ norm)\n",
    "\n",
    "---\n",
    "\n",
    "## ElasticNet Regularization (Combining L1 and L2)\n",
    "\n",
    "$$ \\mathbf{E(\\mathbf{\\beta})} = SSE(\\mathbf{\\beta}) + \\lambda\\left[\\frac{1}{2}(1 - \\alpha)\\|\\mathbf{\\beta}\\|_{2}^{2} + \\alpha\\|\\mathbf{\\beta}\\|_{1}\\right]$$\n",
    "\n",
    "\n",
    "**Note**: In MLlib models, `elasticNetParam` corresponds to $\\alpha$ and `regParam` corresponds to $\\lambda$, therefore:\n",
    "  * For using L2 regularization set `elasticNetParam = 0` and `regParam > 0`\n",
    "  * For using L1 regularization set `elasticNetParam = 1` and `regParam > 0`\n",
    "  * For using ElasticNet, set both to a nonzero value"
   ]
  },
  {
   "cell_type": "markdown",
   "metadata": {},
   "source": [
    "### Using L2 regularization on the Diabetes dataset"
   ]
  },
  {
   "cell_type": "code",
   "execution_count": 9,
   "metadata": {},
   "outputs": [
    {
     "name": "stdout",
     "output_type": "stream",
     "text": [
      "R2 (training):  0.5162697284908986\n",
      "R2 (testing):  0.5043453419682258\n"
     ]
    }
   ],
   "source": [
    "train, test = dataset.randomSplit([0.7, 0.3])\n",
    "lr = LinearRegression(featuresCol='features', labelCol='y', elasticNetParam=0, regParam=1)\n",
    "model = lr.fit(train)\n",
    "\n",
    "# Evaluate on training data\n",
    "summary_train = model.evaluate(train)\n",
    "print('R2 (training): ', summary_train.r2)\n",
    "\n",
    "# Evaluate on training data\n",
    "summary_test = model.evaluate(test)\n",
    "print('R2 (testing): ', summary_test.r2)"
   ]
  },
  {
   "cell_type": "markdown",
   "metadata": {},
   "source": [
    "## Choosing the right value of $\\lambda$"
   ]
  },
  {
   "cell_type": "code",
   "execution_count": 10,
   "metadata": {},
   "outputs": [],
   "source": [
    "valid_lambdas = np.logspace(-1, 1, 20)"
   ]
  },
  {
   "cell_type": "code",
   "execution_count": 11,
   "metadata": {},
   "outputs": [
    {
     "data": {
      "text/plain": [
       "array([ 0.1       ,  0.1274275 ,  0.16237767,  0.20691381,  0.26366509,\n",
       "        0.33598183,  0.42813324,  0.54555948,  0.6951928 ,  0.88586679,\n",
       "        1.12883789,  1.43844989,  1.83298071,  2.33572147,  2.97635144,\n",
       "        3.79269019,  4.83293024,  6.15848211,  7.8475997 , 10.        ])"
      ]
     },
     "execution_count": 11,
     "metadata": {},
     "output_type": "execute_result"
    }
   ],
   "source": [
    "valid_lambdas"
   ]
  },
  {
   "cell_type": "code",
   "execution_count": 12,
   "metadata": {},
   "outputs": [
    {
     "data": {
      "text/plain": [
       "<matplotlib.legend.Legend at 0x7f7936826ef0>"
      ]
     },
     "execution_count": 12,
     "metadata": {},
     "output_type": "execute_result"
    },
    {
     "data": {
      "image/png": "[encoded data removed]",
      "text/plain": [
       "<Figure size 432x288 with 1 Axes>"
      ]
     },
     "metadata": {
      "needs_background": "light"
     },
     "output_type": "display_data"
    }
   ],
   "source": [
    "train_r2 = []\n",
    "test_r2 = []\n",
    "train, test = dataset.randomSplit([0.7, 0.3])\n",
    "\n",
    "for l in valid_lambdas:    \n",
    "    lr = LinearRegression(featuresCol='features', labelCol='y', elasticNetParam=0, regParam=l)\n",
    "    model = lr.fit(train)\n",
    "\n",
    "    # Evaluate on training data\n",
    "    summary_train = model.evaluate(train)\n",
    "    train_r2.append(summary_train.r2)\n",
    "\n",
    "    # Evaluate on training data\n",
    "    summary_test = model.evaluate(test)\n",
    "    test_r2.append(summary_test.r2)\n",
    "\n",
    "    \n",
    "plt.plot(valid_lambdas, train_r2, 'ro-', label='train')\n",
    "plt.plot(valid_lambdas, test_r2, 'go-', label='test')\n",
    "plt.xlabel('$\\lambda$')\n",
    "plt.ylabel('R2')\n",
    "plt.xscale('log')\n",
    "plt.legend()"
   ]
  },
  {
   "cell_type": "markdown",
   "metadata": {},
   "source": [
    "### Exercise: Extend the search for $\\lambda$ further, by inspecting more values. (already provided)"
   ]
  },
  {
   "cell_type": "code",
   "execution_count": 13,
   "metadata": {},
   "outputs": [],
   "source": [
    "valid_lambdas = np.logspace(0, 2, 20)"
   ]
  },
  {
   "cell_type": "code",
   "execution_count": 14,
   "metadata": {},
   "outputs": [
    {
     "data": {
      "text/plain": [
       "<matplotlib.legend.Legend at 0x7f79366e1d30>"
      ]
     },
     "execution_count": 14,
     "metadata": {},
     "output_type": "execute_result"
    },
    {
     "data": {
      "image/png": "[encoded data removed]",
      "text/plain": [
       "<Figure size 432x288 with 1 Axes>"
      ]
     },
     "metadata": {
      "needs_background": "light"
     },
     "output_type": "display_data"
    }
   ],
   "source": [
    "train_r2 = []\n",
    "test_r2 = []\n",
    "train, test = dataset.randomSplit([0.7, 0.3])\n",
    "\n",
    "for l in valid_lambdas:    \n",
    "    lr = LinearRegression(featuresCol='features', labelCol='y', elasticNetParam=0, regParam=l)\n",
    "    model = lr.fit(train)\n",
    "\n",
    "    # Evaluate on training data\n",
    "    summary_train = model.evaluate(train)\n",
    "    train_r2.append(summary_train.r2)\n",
    "\n",
    "    # Evaluate on training data\n",
    "    summary_test = model.evaluate(test)\n",
    "    test_r2.append(summary_test.r2)\n",
    "\n",
    "    \n",
    "plt.plot(valid_lambdas, train_r2, 'ro-', label='train')\n",
    "plt.plot(valid_lambdas, test_r2, 'go-', label='test')\n",
    "plt.xlabel('$\\lambda$')\n",
    "plt.ylabel('R2')\n",
    "plt.xscale('log')\n",
    "plt.legend()"
   ]
  },
  {
   "cell_type": "markdown",
   "metadata": {},
   "source": [
    "## Using L1 Regularization"
   ]
  },
  {
   "cell_type": "code",
   "execution_count": 15,
   "metadata": {},
   "outputs": [
    {
     "name": "stdout",
     "output_type": "stream",
     "text": [
      "R2 (training):  0.5248937842866118\n",
      "R2 (testing):  0.4714199030214574\n"
     ]
    }
   ],
   "source": [
    "train, test = dataset.randomSplit([0.7, 0.3])\n",
    "lr = LinearRegression(featuresCol='features', labelCol='y', elasticNetParam=1, regParam=0.3)\n",
    "model = lr.fit(train)\n",
    "\n",
    "# Evaluate on training data\n",
    "summary_train = model.evaluate(train)\n",
    "print('R2 (training): ', summary_train.r2)\n",
    "\n",
    "# Evaluate on training data\n",
    "summary_test = model.evaluate(test)\n",
    "print('R2 (testing): ', summary_test.r2)"
   ]
  },
  {
   "cell_type": "markdown",
   "metadata": {},
   "source": [
    "### Choosing the right value of $\\lambda$ for L1"
   ]
  },
  {
   "cell_type": "code",
   "execution_count": 18,
   "metadata": {},
   "outputs": [],
   "source": [
    "valid_lambdas = np.linspace(0, 10, 20)"
   ]
  },
  {
   "cell_type": "code",
   "execution_count": 19,
   "metadata": {},
   "outputs": [
    {
     "data": {
      "text/plain": [
       "<matplotlib.legend.Legend at 0x7f793671a160>"
      ]
     },
     "execution_count": 19,
     "metadata": {},
     "output_type": "execute_result"
    },
    {
     "data": {
      "image/png": "[encoded data removed]",
      "text/plain": [
       "<Figure size 432x288 with 1 Axes>"
      ]
     },
     "metadata": {
      "needs_background": "light"
     },
     "output_type": "display_data"
    }
   ],
   "source": [
    "train_r2 = []\n",
    "test_r2 = []\n",
    "train, test = dataset.randomSplit([0.7, 0.3])\n",
    "\n",
    "for l in valid_lambdas:    \n",
    "    lr = LinearRegression(featuresCol='features', labelCol='y', elasticNetParam=1, regParam=l)\n",
    "    model = lr.fit(train)\n",
    "\n",
    "    # Evaluate on training data\n",
    "    summary_train = model.evaluate(train)\n",
    "    train_r2.append(summary_train.r2)\n",
    "\n",
    "    # Evaluate on training data\n",
    "    summary_test = model.evaluate(test)\n",
    "    test_r2.append(summary_test.r2)\n",
    "\n",
    "    \n",
    "plt.plot(valid_lambdas, train_r2, 'ro-', label='train')\n",
    "plt.plot(valid_lambdas, test_r2, 'go-', label='test')\n",
    "plt.xlabel('$\\lambda$')\n",
    "plt.ylabel('R2')\n",
    "#plt.xscale('log')\n",
    "plt.legend()"
   ]
  },
  {
   "cell_type": "markdown",
   "metadata": {},
   "source": [
    "### Sparsity from the L1 Norm"
   ]
  },
  {
   "cell_type": "code",
   "execution_count": 22,
   "metadata": {},
   "outputs": [],
   "source": [
    "# Fit the model\n",
    "l = 5\n",
    "lr = LinearRegression(featuresCol='features', labelCol='y', elasticNetParam=1, regParam=l)\n",
    "model = lr.fit(dataset)"
   ]
  },
  {
   "cell_type": "code",
   "execution_count": 23,
   "metadata": {},
   "outputs": [
    {
     "data": {
      "text/plain": [
       "<matplotlib.axes._subplots.AxesSubplot at 0x7f7936502780>"
      ]
     },
     "execution_count": 23,
     "metadata": {},
     "output_type": "execute_result"
    },
    {
     "data": {
      "image/png": "[encoded data removed]",
      "text/plain": [
       "<Figure size 432x288 with 1 Axes>"
      ]
     },
     "metadata": {
      "needs_background": "light"
     },
     "output_type": "display_data"
    }
   ],
   "source": [
    "# See coefficients\n",
    "pd.Series(np.array(model.coefficients), index=assembler.getInputCols()).plot(kind='bar')"
   ]
  },
  {
   "cell_type": "code",
   "execution_count": null,
   "metadata": {},
   "outputs": [],
   "source": []
  }
 ],
 "metadata": {
  "kernelspec": {
   "display_name": "Python 3",
   "language": "python",
   "name": "python3"
  },
  "language_info": {
   "codemirror_mode": {
    "name": "ipython",
    "version": 3
   },
   "file_extension": ".py",
   "mimetype": "text/x-python",
   "name": "python",
   "nbconvert_exporter": "python",
   "pygments_lexer": "ipython3",
   "version": "3.6.8"
  }
 },
 "nbformat": 4,
 "nbformat_minor": 2
}
