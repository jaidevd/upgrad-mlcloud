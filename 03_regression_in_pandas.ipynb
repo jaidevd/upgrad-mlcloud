{
 "cells": [
  {
   "cell_type": "markdown",
   "metadata": {},
   "source": [
    "# Part 3: Regression in Pandas"
   ]
  },
  {
   "cell_type": "code",
   "execution_count": null,
   "metadata": {
    "collapsed": false,
    "jupyter": {
     "outputs_hidden": false
    }
   },
   "outputs": [],
   "source": [
    "\"\"\"\n",
    "----------------------------------------------------------------------\n",
    "Filename : 03_regression_in_pandas_sm.py\n",
    "Date     : 12th Dec, 2013\n",
    "Author   : Jaidev Deshpande\n",
    "Purpose  : Introduction to linear regression through Pandas and Statsmodels\n",
    "Libraries: NumPy, Pandas, Matplotlib\n",
    "----------------------------------------------------------------------\n",
    "\"\"\""
   ]
  },
  {
   "cell_type": "code",
   "execution_count": 1,
   "metadata": {
    "collapsed": false,
    "jupyter": {
     "outputs_hidden": false
    }
   },
   "outputs": [],
   "source": [
    "# standard library imports\n",
    "from os.path import join\n",
    "\n",
    "# system library imports\n",
    "import numpy as np\n",
    "import matplotlib.pyplot as plt\n",
    "import pandas as pd"
   ]
  },
  {
   "cell_type": "code",
   "execution_count": 2,
   "metadata": {
    "collapsed": false,
    "jupyter": {
     "outputs_hidden": false
    }
   },
   "outputs": [],
   "source": [
    "# Files to load during this part.\n",
    "longevity = join('data','longevity.csv')\n",
    "longevity = pd.read_csv(longevity)"
   ]
  },
  {
   "cell_type": "code",
   "execution_count": 8,
   "metadata": {
    "collapsed": false,
    "jupyter": {
     "outputs_hidden": false
    }
   },
   "outputs": [
    {
     "data": {
      "text/html": [
       "<div>\n",
       "<style scoped>\n",
       "    .dataframe tbody tr th:only-of-type {\n",
       "        vertical-align: middle;\n",
       "    }\n",
       "\n",
       "    .dataframe tbody tr th {\n",
       "        vertical-align: top;\n",
       "    }\n",
       "\n",
       "    .dataframe thead th {\n",
       "        text-align: right;\n",
       "    }\n",
       "</style>\n",
       "<table border=\"1\" class=\"dataframe\">\n",
       "  <thead>\n",
       "    <tr style=\"text-align: right;\">\n",
       "      <th></th>\n",
       "      <th>Smokes</th>\n",
       "      <th>AgeAtDeath</th>\n",
       "    </tr>\n",
       "  </thead>\n",
       "  <tbody>\n",
       "    <tr>\n",
       "      <th>0</th>\n",
       "      <td>1</td>\n",
       "      <td>75</td>\n",
       "    </tr>\n",
       "    <tr>\n",
       "      <th>1</th>\n",
       "      <td>1</td>\n",
       "      <td>72</td>\n",
       "    </tr>\n",
       "    <tr>\n",
       "      <th>2</th>\n",
       "      <td>1</td>\n",
       "      <td>66</td>\n",
       "    </tr>\n",
       "    <tr>\n",
       "      <th>3</th>\n",
       "      <td>1</td>\n",
       "      <td>74</td>\n",
       "    </tr>\n",
       "    <tr>\n",
       "      <th>4</th>\n",
       "      <td>1</td>\n",
       "      <td>69</td>\n",
       "    </tr>\n",
       "  </tbody>\n",
       "</table>\n",
       "</div>"
      ],
      "text/plain": [
       "   Smokes  AgeAtDeath\n",
       "0       1          75\n",
       "1       1          72\n",
       "2       1          66\n",
       "3       1          74\n",
       "4       1          69"
      ]
     },
     "execution_count": 8,
     "metadata": {},
     "output_type": "execute_result"
    }
   ],
   "source": [
    "longevity.head()"
   ]
  },
  {
   "cell_type": "markdown",
   "metadata": {},
   "source": [
    "## Regression in Pandas"
   ]
  },
  {
   "cell_type": "code",
   "execution_count": 6,
   "metadata": {
    "collapsed": false,
    "jupyter": {
     "outputs_hidden": false
    }
   },
   "outputs": [],
   "source": [
    "def mean_squared_error(df,show_plot=True):\n",
    "    \"\"\"\n",
    "    Get the mean squared error obtained when fitting a straight line\n",
    "    through the longevity data.\n",
    "    \"\"\"\n",
    "    age_at_death = df['AgeAtDeath']\n",
    "    unique_ages = age_at_death.unique()\n",
    "    unique_ages.sort()\n",
    "    agediff = np.zeros((age_at_death.shape[0],unique_ages.shape[0]),\n",
    "                        dtype=float)\n",
    "    for i in range(agediff.shape[1]):\n",
    "        agediff[:,i] = (age_at_death - unique_ages[i])**2\n",
    "    mse_age = agediff.mean(0)\n",
    "    if show_plot:\n",
    "        plt.figure(figsize=(20,10))\n",
    "        plt.plot(unique_ages, mse_age,'r.', markersize=12)\n",
    "        plt.plot(unique_ages, mse_age, 'b--')\n",
    "        plt.grid()\n",
    "        plt.xlabel('Estimate of Age')\n",
    "        plt.ylabel('Mean Squared Error')\n",
    "        plt.show()\n",
    "    return mse_age\n",
    "\n",
    "def root_mean_squared_error(df,show_plot=False):\n",
    "    return np.sqrt(mean_squared_error(df,show_plot=show_plot))"
   ]
  },
  {
   "cell_type": "code",
   "execution_count": 7,
   "metadata": {
    "collapsed": false,
    "jupyter": {
     "outputs_hidden": false
    }
   },
   "outputs": [
    {
     "data": {
      "image/png": "[encoded data removed]",
      "text/plain": [
       "<Figure size 1440x720 with 1 Axes>"
      ]
     },
     "metadata": {
      "needs_background": "light"
     },
     "output_type": "display_data"
    },
    {
     "name": "stdout",
     "output_type": "stream",
     "text": [
      "32.991\n",
      "5.743779243668754\n"
     ]
    }
   ],
   "source": [
    "mse = mean_squared_error(longevity)\n",
    "print(mse.min())\n",
    "rmse = root_mean_squared_error(longevity)\n",
    "print(rmse.min())"
   ]
  },
  {
   "cell_type": "code",
   "execution_count": 9,
   "metadata": {
    "collapsed": false,
    "jupyter": {
     "outputs_hidden": false
    }
   },
   "outputs": [],
   "source": [
    "def plot_ols_fitted(df, xcol, ycol):\n",
    "    \"\"\"\n",
    "    Fit an OLS model with the data contained in `df`,\n",
    "    where `xcol` and `ycol` specify the columns to consider\n",
    "    as the `x` and `y` axes respectively.\n",
    "    \"\"\"\n",
    "    df_ols = pd.ols(x=df[xcol],y=df[ycol])\n",
    "    df['estimate'] = df_ols.y_fitted\n",
    "    fig = plt.figure(figsize=(20,10))\n",
    "    axes = fig.add_subplot(111)\n",
    "    pd.tools.plotting.scatter_plot(df, xcol, ycol, ax=axes)\n",
    "    df.plot(xcol,'estimate',c='g',ax=axes,lw=5)\n",
    "    plt.show()\n",
    "    return df_ols"
   ]
  },
  {
   "cell_type": "code",
   "execution_count": 10,
   "metadata": {
    "collapsed": false,
    "jupyter": {
     "outputs_hidden": false
    }
   },
   "outputs": [
    {
     "ename": "AttributeError",
     "evalue": "module 'pandas' has no attribute 'ols'",
     "output_type": "error",
     "traceback": [
      "\u001b[0;31m---------------------------------------------------------------------------\u001b[0m",
      "\u001b[0;31mAttributeError\u001b[0m                            Traceback (most recent call last)",
      "\u001b[0;32m<ipython-input-10-7982cb3eef02>\u001b[0m in \u001b[0;36m<module>\u001b[0;34m\u001b[0m\n\u001b[0;32m----> 1\u001b[0;31m \u001b[0mplot_ols_fitted\u001b[0m\u001b[0;34m(\u001b[0m\u001b[0mhwg\u001b[0m\u001b[0;34m,\u001b[0m \u001b[0;34m'Height'\u001b[0m\u001b[0;34m,\u001b[0m \u001b[0;34m'Weight'\u001b[0m\u001b[0;34m)\u001b[0m\u001b[0;34m\u001b[0m\u001b[0;34m\u001b[0m\u001b[0m\n\u001b[0m",
      "\u001b[0;32m<ipython-input-9-e466e605bb60>\u001b[0m in \u001b[0;36mplot_ols_fitted\u001b[0;34m(df, xcol, ycol)\u001b[0m\n\u001b[1;32m      5\u001b[0m     \u001b[0;32mas\u001b[0m \u001b[0mthe\u001b[0m\u001b[0;31m \u001b[0m\u001b[0;31m`\u001b[0m\u001b[0mx\u001b[0m\u001b[0;31m`\u001b[0m \u001b[0;32mand\u001b[0m\u001b[0;31m \u001b[0m\u001b[0;31m`\u001b[0m\u001b[0my\u001b[0m\u001b[0;31m`\u001b[0m \u001b[0maxes\u001b[0m \u001b[0mrespectively\u001b[0m\u001b[0;34m.\u001b[0m\u001b[0;34m\u001b[0m\u001b[0;34m\u001b[0m\u001b[0m\n\u001b[1;32m      6\u001b[0m     \"\"\"\n\u001b[0;32m----> 7\u001b[0;31m     \u001b[0mdf_ols\u001b[0m \u001b[0;34m=\u001b[0m \u001b[0mpd\u001b[0m\u001b[0;34m.\u001b[0m\u001b[0mols\u001b[0m\u001b[0;34m(\u001b[0m\u001b[0mx\u001b[0m\u001b[0;34m=\u001b[0m\u001b[0mdf\u001b[0m\u001b[0;34m[\u001b[0m\u001b[0mxcol\u001b[0m\u001b[0;34m]\u001b[0m\u001b[0;34m,\u001b[0m\u001b[0my\u001b[0m\u001b[0;34m=\u001b[0m\u001b[0mdf\u001b[0m\u001b[0;34m[\u001b[0m\u001b[0mycol\u001b[0m\u001b[0;34m]\u001b[0m\u001b[0;34m)\u001b[0m\u001b[0;34m\u001b[0m\u001b[0;34m\u001b[0m\u001b[0m\n\u001b[0m\u001b[1;32m      8\u001b[0m     \u001b[0mdf\u001b[0m\u001b[0;34m[\u001b[0m\u001b[0;34m'estimate'\u001b[0m\u001b[0;34m]\u001b[0m \u001b[0;34m=\u001b[0m \u001b[0mdf_ols\u001b[0m\u001b[0;34m.\u001b[0m\u001b[0my_fitted\u001b[0m\u001b[0;34m\u001b[0m\u001b[0;34m\u001b[0m\u001b[0m\n\u001b[1;32m      9\u001b[0m     \u001b[0mfig\u001b[0m \u001b[0;34m=\u001b[0m \u001b[0mplt\u001b[0m\u001b[0;34m.\u001b[0m\u001b[0mfigure\u001b[0m\u001b[0;34m(\u001b[0m\u001b[0mfigsize\u001b[0m\u001b[0;34m=\u001b[0m\u001b[0;34m(\u001b[0m\u001b[0;36m20\u001b[0m\u001b[0;34m,\u001b[0m\u001b[0;36m10\u001b[0m\u001b[0;34m)\u001b[0m\u001b[0;34m)\u001b[0m\u001b[0;34m\u001b[0m\u001b[0;34m\u001b[0m\u001b[0m\n",
      "\u001b[0;31mAttributeError\u001b[0m: module 'pandas' has no attribute 'ols'"
     ]
    }
   ],
   "source": [
    "plot_ols_fitted(hwg, 'Height', 'Weight')"
   ]
  },
  {
   "cell_type": "code",
   "execution_count": null,
   "metadata": {
    "collapsed": false,
    "jupyter": {
     "outputs_hidden": false
    }
   },
   "outputs": [],
   "source": [
    "def compare_sites_by_advertising(df):\n",
    "    \"\"\"\n",
    "    Prints some vital statistics of the pageviews data.\n",
    "    \"\"\"\n",
    "    advertised = df[df['HasAdvertising']=='Yes']\n",
    "    nonadvert = df[df['HasAdvertising']=='No']\n",
    "    print \"Sites with advertising:\"\n",
    "    print \"=\"*80\n",
    "    print \"Highest Rank\" + 2*\"\\t\", advertised['Rank'].min()\n",
    "    print \"Mean PageViews\" + 2*\"\\t\", advertised['PageViews'].mean()\n",
    "    print \"Mean UniqueVisitors\" + \"\\t\", advertised['UniqueVisitors'].mean()\n",
    "    print \"\\n\"\n",
    "    print \"Sites w/o advertising:\"\n",
    "    print \"=\"*80\n",
    "    print \"Highest Rank\" + 2*\"\\t\", nonadvert['Rank'].min()\n",
    "    print \"Mean PageViews\" + 2*\"\\t\", nonadvert['PageViews'].mean()\n",
    "    print \"Mean UniqueVisitors\" + \"\\t\", nonadvert['UniqueVisitors'].mean()"
   ]
  },
  {
   "cell_type": "code",
   "execution_count": null,
   "metadata": {
    "collapsed": false,
    "jupyter": {
     "outputs_hidden": false
    }
   },
   "outputs": [],
   "source": [
    "compare_sites_by_advertising(pageviews)"
   ]
  },
  {
   "cell_type": "code",
   "execution_count": null,
   "metadata": {
    "collapsed": false,
    "jupyter": {
     "outputs_hidden": false
    }
   },
   "outputs": [],
   "source": [
    "pageviews.columns"
   ]
  },
  {
   "cell_type": "code",
   "execution_count": null,
   "metadata": {
    "collapsed": false,
    "jupyter": {
     "outputs_hidden": false
    }
   },
   "outputs": [],
   "source": [
    "pageviews['UniqueVisitors'] = pageviews['UniqueVisitors'].apply(np.log10)\n",
    "pageviews['PageViews'] = pageviews['PageViews'].apply(np.log10)"
   ]
  },
  {
   "cell_type": "code",
   "execution_count": null,
   "metadata": {
    "collapsed": false,
    "jupyter": {
     "outputs_hidden": false
    }
   },
   "outputs": [],
   "source": [
    "fig = plt.figure(figsize=(20,10))\n",
    "axes = fig.add_subplot(111)\n",
    "pd.tools.plotting.scatter_plot(pageviews, 'UniqueVisitors', 'PageViews', ax=axes, grid=True)\n",
    "pols = pd.ols(x=pageviews['UniqueVisitors'],y=pageviews['PageViews'])\n",
    "pageviews['estimate'] = pols.y_fitted\n",
    "pageviews.plot('UniqueVisitors','estimate',c='g',lw=5)\n",
    "plt.show()"
   ]
  },
  {
   "cell_type": "markdown",
   "metadata": {},
   "source": [
    "### Exercise: Which is the highest ranked non-English website?"
   ]
  },
  {
   "cell_type": "markdown",
   "metadata": {},
   "source": [
    "### Exercise: Is an English website more likely to be popular? (Hint: decide using number of unique visitors.)"
   ]
  }
 ],
 "metadata": {
  "kernelspec": {
   "display_name": "Python 3",
   "language": "python",
   "name": "python3"
  },
  "language_info": {
   "codemirror_mode": {
    "name": "ipython",
    "version": 3
   },
   "file_extension": ".py",
   "mimetype": "text/x-python",
   "name": "python",
   "nbconvert_exporter": "python",
   "pygments_lexer": "ipython3",
   "version": "3.6.8"
  }
 },
 "nbformat": 4,
 "nbformat_minor": 4
}
