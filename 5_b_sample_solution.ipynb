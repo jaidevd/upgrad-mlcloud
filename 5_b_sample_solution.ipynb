{
 "cells": [
  {
   "cell_type": "code",
   "execution_count": 1,
   "metadata": {},
   "outputs": [],
   "source": [
    "from pyspark.sql.functions import to_timestamp\n",
    "from pyspark.sql.functions import abs as psabs\n",
    "from pyspark.sql.functions import from_utc_timestamp"
   ]
  },
  {
   "cell_type": "code",
   "execution_count": 2,
   "metadata": {},
   "outputs": [],
   "source": [
    "df = sqlContext.read.csv('data/nyc/train-dev.csv', header=True, inferSchema=True)"
   ]
  },
  {
   "cell_type": "code",
   "execution_count": 3,
   "metadata": {},
   "outputs": [],
   "source": [
    "# Using a smaller dataset of 10M rows\n",
    "df = df.limit(10000000)"
   ]
  },
  {
   "cell_type": "code",
   "execution_count": 3,
   "metadata": {},
   "outputs": [
    {
     "name": "stdout",
     "output_type": "stream",
     "text": [
      "root\n",
      " |-- key: timestamp (nullable = true)\n",
      " |-- fare_amount: double (nullable = true)\n",
      " |-- pickup_datetime: string (nullable = true)\n",
      " |-- pickup_longitude: double (nullable = true)\n",
      " |-- pickup_latitude: double (nullable = true)\n",
      " |-- dropoff_longitude: double (nullable = true)\n",
      " |-- dropoff_latitude: double (nullable = true)\n",
      " |-- passenger_count: integer (nullable = true)\n",
      "\n"
     ]
    }
   ],
   "source": [
    "df.printSchema()"
   ]
  },
  {
   "cell_type": "code",
   "execution_count": 4,
   "metadata": {},
   "outputs": [],
   "source": [
    "# Keep only relevant columns\n",
    "usecols = [c for c in df.columns if c != 'key']\n",
    "df = df.select(*usecols)"
   ]
  },
  {
   "cell_type": "code",
   "execution_count": 5,
   "metadata": {},
   "outputs": [],
   "source": [
    "# Removing outliers - filter fares that are negative or too large.\n",
    "df = df.filter(df['fare_amount'] > 0)\n",
    "df = df.filter(df['fare_amount'] <= 250)"
   ]
  },
  {
   "cell_type": "code",
   "execution_count": 6,
   "metadata": {},
   "outputs": [],
   "source": [
    "# Removing outliers - filter passenger counts that are negative or too large.\n",
    "df = df.filter(df['passenger_count'] > 0)\n",
    "df = df.filter(df['passenger_count'] <= 10)"
   ]
  },
  {
   "cell_type": "code",
   "execution_count": 7,
   "metadata": {},
   "outputs": [],
   "source": [
    "# Cleaning data - NYC lies between 73 and 75 degrees West, and 40 and 42 degrees north.\n",
    "# Remove trips that have pickup or dropoff coordinates outside NYC.\n",
    "\n",
    "LEFT, RIGHT, BOTTOM, TOP =  -75, -73, 40, 42\n",
    "df = df.filter(df['pickup_longitude'] >= LEFT)\n",
    "df = df.filter(df['pickup_longitude'] <= RIGHT)\n",
    "df = df.filter(df['pickup_latitude'] <= TOP)\n",
    "df = df.filter(df['pickup_latitude'] >= BOTTOM)\n",
    "df = df.filter(df['dropoff_latitude'] >= BOTTOM)\n",
    "df = df.filter(df['dropoff_latitude'] <= TOP)\n",
    "df = df.filter(df['dropoff_longitude'] <= RIGHT)\n",
    "df = df.filter(df['dropoff_longitude'] >= LEFT)"
   ]
  },
  {
   "cell_type": "code",
   "execution_count": 8,
   "metadata": {},
   "outputs": [],
   "source": [
    "# Approximate the physical distance between pickup and dropoffs using the L1 norm.\n",
    "# (Remember that Manhattan is in NYC!)\n",
    "\n",
    "x1 = df['pickup_longitude']\n",
    "y1 = df['pickup_latitude']\n",
    "x2 = df['dropoff_longitude']\n",
    "y2 = df['dropoff_latitude']\n",
    "\n",
    "df = df.withColumn('l1', psabs(x1 - x2) + psabs(y1 - y2))"
   ]
  },
  {
   "cell_type": "code",
   "execution_count": 9,
   "metadata": {},
   "outputs": [],
   "source": [
    "# Prices may depend on time of day! (Note that original timestamps are in UTC)\n",
    "df = df.withColumn('datetime', df['pickup_datetime'].substr(0, 19))"
   ]
  },
  {
   "cell_type": "code",
   "execution_count": 10,
   "metadata": {},
   "outputs": [],
   "source": [
    "# Convert the timestamps to New York time.\n",
    "df = df.withColumn('NYTime', from_utc_timestamp('datetime', 'EST'))"
   ]
  },
  {
   "cell_type": "code",
   "execution_count": 11,
   "metadata": {},
   "outputs": [],
   "source": [
    "# Extract features from the timestamps.\n",
    "\n",
    "from pyspark.sql.functions import year, month, dayofweek, hour\n",
    "df = df.withColumn('year', year(df['NYTime']))\n",
    "df = df.withColumn('month', month(df['NYTime']))\n",
    "df = df.withColumn('day', dayofweek(df['NYTime']))\n",
    "df = df.withColumn('hour', hour(df['NYTime']))"
   ]
  },
  {
   "cell_type": "code",
   "execution_count": 12,
   "metadata": {},
   "outputs": [
    {
     "name": "stdout",
     "output_type": "stream",
     "text": [
      "+----+-----+---+----+-------------------+\n",
      "|year|month|day|hour|             NYTime|\n",
      "+----+-----+---+----+-------------------+\n",
      "|2009|    6|  2|  12|2009-06-15 12:26:21|\n",
      "|2010|    1|  3|  11|2010-01-05 11:52:16|\n",
      "|2011|    8|  4|  19|2011-08-17 19:35:00|\n",
      "|2012|    4|  6|  23|2012-04-20 23:30:42|\n",
      "|2010|    3|  3|   2|2010-03-09 02:51:00|\n",
      "|2011|    1|  5|   4|2011-01-06 04:50:45|\n",
      "|2012|   11|  3|  15|2012-11-20 15:35:00|\n",
      "|2012|    1|  4|  12|2012-01-04 12:22:00|\n",
      "|2012|   12|  2|   8|2012-12-03 08:10:00|\n",
      "|2009|    9|  3|  20|2009-09-01 20:11:00|\n",
      "|2012|    4|  1|   2|2012-04-08 02:30:50|\n",
      "|2009|   11|  5|  20|2009-11-05 20:04:03|\n",
      "|2013|    7|  3|  14|2013-07-02 14:54:00|\n",
      "|2011|    4|  3|  12|2011-04-05 12:11:05|\n",
      "|2014|    2|  4|   2|2014-02-19 02:22:00|\n",
      "|2009|    7|  4|  11|2009-07-22 11:08:00|\n",
      "|2010|    7|  4|   9|2010-07-07 09:52:00|\n",
      "|2014|   12|  7|  15|2014-12-06 15:36:22|\n",
      "|2010|    9|  3|   8|2010-09-07 08:18:00|\n",
      "|2013|    2|  3|   7|2013-02-12 07:15:46|\n",
      "+----+-----+---+----+-------------------+\n",
      "only showing top 20 rows\n",
      "\n"
     ]
    }
   ],
   "source": [
    "df.select('year', 'month', 'day', 'hour', 'NYTime').show()"
   ]
  },
  {
   "cell_type": "code",
   "execution_count": 13,
   "metadata": {},
   "outputs": [],
   "source": [
    "# Drop rows containing null values\n",
    "df = df.dropna()"
   ]
  },
  {
   "cell_type": "code",
   "execution_count": 14,
   "metadata": {},
   "outputs": [],
   "source": [
    "featureCols = [c for c in df.columns if c not in ['datetime', 'NYTime', 'pickup_datetime']]"
   ]
  },
  {
   "cell_type": "code",
   "execution_count": 15,
   "metadata": {},
   "outputs": [],
   "source": [
    "from pyspark.ml.feature import VectorAssembler\n",
    "assembler = VectorAssembler(inputCols=featureCols, outputCol='features')\n",
    "df = assembler.transform(df)"
   ]
  },
  {
   "cell_type": "code",
   "execution_count": 16,
   "metadata": {},
   "outputs": [],
   "source": [
    "train, test = df.randomSplit([0.66, 0.33])"
   ]
  },
  {
   "cell_type": "code",
   "execution_count": 17,
   "metadata": {},
   "outputs": [],
   "source": [
    "from pyspark.ml.regression import LinearRegression"
   ]
  },
  {
   "cell_type": "code",
   "execution_count": 18,
   "metadata": {},
   "outputs": [],
   "source": [
    "lr = LinearRegression(featuresCol='features', labelCol='fare_amount')\n",
    "model = lr.fit(train)\n",
    "summary = model.evaluate(test)"
   ]
  },
  {
   "cell_type": "code",
   "execution_count": 19,
   "metadata": {},
   "outputs": [
    {
     "data": {
      "text/plain": [
       "2.561848262197059e-12"
      ]
     },
     "execution_count": 19,
     "metadata": {},
     "output_type": "execute_result"
    }
   ],
   "source": [
    "summary.rootMeanSquaredError"
   ]
  },
  {
   "cell_type": "code",
   "execution_count": 20,
   "metadata": {},
   "outputs": [
    {
     "data": {
      "text/plain": [
       "1.0"
      ]
     },
     "execution_count": 20,
     "metadata": {},
     "output_type": "execute_result"
    }
   ],
   "source": [
    "summary.r2"
   ]
  },
  {
   "cell_type": "code",
   "execution_count": null,
   "metadata": {},
   "outputs": [],
   "source": []
  }
 ],
 "metadata": {
  "kernelspec": {
   "display_name": "Python 3",
   "language": "python",
   "name": "python3"
  },
  "language_info": {
   "codemirror_mode": {
    "name": "ipython",
    "version": 3
   },
   "file_extension": ".py",
   "mimetype": "text/x-python",
   "name": "python",
   "nbconvert_exporter": "python",
   "pygments_lexer": "ipython3",
   "version": "3.6.8"
  }
 },
 "nbformat": 4,
 "nbformat_minor": 2
}
