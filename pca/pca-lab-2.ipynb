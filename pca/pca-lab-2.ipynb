{
 "cells": [
  {
   "cell_type": "markdown",
   "metadata": {},
   "source": [
    "# Content-based Recommendations with PCA\n",
    "## Similar movies have similar tags. How well is this similarity captured with PCA?"
   ]
  },
  {
   "cell_type": "code",
   "execution_count": null,
   "metadata": {},
   "outputs": [],
   "source": [
    "df = sqlContext.read.csv('data/movielens-tag-relevance.csv', header=True, inferSchema=True)"
   ]
  },
  {
   "cell_type": "code",
   "execution_count": null,
   "metadata": {},
   "outputs": [],
   "source": [
    "import random\n",
    "colsToShow = ['title'] + [random.choice(df.columns) for i in range(4)]\n",
    "df.select(*colsToShow).show()"
   ]
  },
  {
   "cell_type": "code",
   "execution_count": null,
   "metadata": {},
   "outputs": [],
   "source": [
    "from pyspark.ml.feature import VectorAssembler, StandardScaler"
   ]
  },
  {
   "cell_type": "code",
   "execution_count": null,
   "metadata": {},
   "outputs": [],
   "source": [
    "newCols = []\n",
    "\n",
    "for c in df.columns:\n",
    "    if \".\" in c:\n",
    "        new_column = c.replace('.', '_')\n",
    "        df = df.withColumnRenamed(c, new_column)\n",
    "        newCols.append(new_column)\n",
    "    else:\n",
    "        newCols.append(c)"
   ]
  },
  {
   "cell_type": "code",
   "execution_count": null,
   "metadata": {},
   "outputs": [],
   "source": [
    "assembler = VectorAssembler(inputCols=[c for c in newCols if c != 'title'],\n",
    "                            outputCol='features')\n",
    "scaler    = StandardScaler(inputCol='features', outputCol='normFeats', withMean=True)\n",
    "\n",
    "df          = assembler.transform(df)\n",
    "scalerModel = scaler.fit(df)\n",
    "df          = scalerModel.transform(df)"
   ]
  },
  {
   "cell_type": "markdown",
   "metadata": {},
   "source": [
    "## PCA"
   ]
  },
  {
   "cell_type": "code",
   "execution_count": null,
   "metadata": {},
   "outputs": [],
   "source": [
    "rdd = df.select('normFeats').rdd"
   ]
  },
  {
   "cell_type": "code",
   "execution_count": null,
   "metadata": {},
   "outputs": [],
   "source": [
    "from pyspark.mllib.linalg.distributed import RowMatrix\n",
    "from pyspark.mllib.linalg import Vectors"
   ]
  },
  {
   "cell_type": "code",
   "execution_count": null,
   "metadata": {},
   "outputs": [],
   "source": [
    "vectors = rdd.map(Vectors.dense)"
   ]
  },
  {
   "cell_type": "code",
   "execution_count": null,
   "metadata": {},
   "outputs": [],
   "source": [
    "matrix = RowMatrix(vectors)"
   ]
  },
  {
   "cell_type": "markdown",
   "metadata": {},
   "source": [
    "## Get the PCs"
   ]
  },
  {
   "cell_type": "code",
   "execution_count": null,
   "metadata": {},
   "outputs": [],
   "source": [
    "pc = matrix.computePrincipalComponents(500)\n",
    "matrix_reduced = matrix.multiply(pc)"
   ]
  },
  {
   "cell_type": "markdown",
   "metadata": {},
   "source": [
    "## Nearest Neighbour Search in PC space"
   ]
  },
  {
   "cell_type": "code",
   "execution_count": null,
   "metadata": {},
   "outputs": [],
   "source": [
    "import numpy as np\n",
    "X = matrix_reduced.rows.map(np.array).collect()\n",
    "X = np.array(X)"
   ]
  },
  {
   "cell_type": "code",
   "execution_count": null,
   "metadata": {},
   "outputs": [],
   "source": [
    "titles = df.select('title').toPandas()"
   ]
  },
  {
   "cell_type": "code",
   "execution_count": null,
   "metadata": {},
   "outputs": [],
   "source": [
    "import pandas as pd\n",
    "pdf = pd.DataFrame(X, index=titles['title'])"
   ]
  },
  {
   "cell_type": "code",
   "execution_count": null,
   "metadata": {},
   "outputs": [],
   "source": [
    "pdf.head()"
   ]
  },
  {
   "cell_type": "code",
   "execution_count": null,
   "metadata": {},
   "outputs": [],
   "source": [
    "from sklearn.neighbors import NearestNeighbors"
   ]
  },
  {
   "cell_type": "code",
   "execution_count": null,
   "metadata": {},
   "outputs": [],
   "source": [
    "n_pcs = 2\n",
    "nn = NearestNeighbors()\n",
    "nn = nn.fit(X[:, :n_pcs])\n",
    "neighbors = nn.kneighbors(pdf.loc['Toy Story (1995)'].values[:n_pcs].reshape(1, -1), return_distance=False)\n",
    "pdf.index[neighbors.ravel()].tolist()"
   ]
  },
  {
   "cell_type": "markdown",
   "metadata": {},
   "source": [
    "<table>\n",
    "    <tr>\n",
    "        <td><img src=\"https://upload.wikimedia.org/wikipedia/en/1/13/Toy_Story.jpg\"></img></td>\n",
    "        <td><img src=\"https://upload.wikimedia.org/wikipedia/en/c/cf/Poster_for_Dirty_Laundry.jpg\"></img></td>\n",
    "        <td><img src=\"https://upload.wikimedia.org/wikipedia/en/e/ef/Empire_of_Dreams.png\"></img></td>\n",
    "        <td><img src=\"https://upload.wikimedia.org/wikipedia/commons/thumb/d/df/The_Ten_Commandments_%281956_film_poster%29.jpg/313px-The_Ten_Commandments_%281956_film_poster%29.jpg\"></img></td>\n",
    "        <td><img src=\"https://upload.wikimedia.org/wikipedia/en/2/2a/Bloodofheroes.jpg\"></img></td>\n",
    "        \n",
    "</table>"
   ]
  },
  {
   "cell_type": "markdown",
   "metadata": {},
   "source": [
    "## Increase the number of Principal Components"
   ]
  },
  {
   "cell_type": "code",
   "execution_count": null,
   "metadata": {},
   "outputs": [],
   "source": [
    "n_pcs = 10\n",
    "nn = NearestNeighbors()\n",
    "nn = nn.fit(X[:, :n_pcs])\n",
    "neighbors = nn.kneighbors(pdf.loc['Toy Story (1995)'].values[:n_pcs].reshape(1, -1), return_distance=False)\n",
    "pdf.index[neighbors.ravel()].tolist()"
   ]
  },
  {
   "cell_type": "markdown",
   "metadata": {},
   "source": [
    "<table>\n",
    "    <tr>\n",
    "        <td><img src=\"https://upload.wikimedia.org/wikipedia/en/1/13/Toy_Story.jpg\"></img></td>\n",
    "        <td><img src=\"https://upload.wikimedia.org/wikipedia/en/2/29/Finding_Nemo.jpg\"></img></td>\n",
    "        <td><img src=\"https://upload.wikimedia.org/wikipedia/en/6/63/Monsters_Inc.JPG\"></img></td>\n",
    "        <td><img src=\"https://upload.wikimedia.org/wikipedia/en/c/cc/A_Bug%27s_Life.jpg\"></img></td>\n",
    "        <td><img src=\"https://upload.wikimedia.org/wikipedia/en/5/50/RatatouillePoster.jpg\"></img></td>\n",
    "        \n",
    "</table>"
   ]
  },
  {
   "cell_type": "code",
   "execution_count": null,
   "metadata": {},
   "outputs": [],
   "source": [
    "n_pcs = 100\n",
    "nn = NearestNeighbors()\n",
    "nn = nn.fit(X[:, :n_pcs])\n",
    "neighbors = nn.kneighbors(pdf.loc['Toy Story (1995)'].values[:n_pcs].reshape(1, -1), return_distance=False)\n",
    "pdf.index[neighbors.ravel()].tolist()"
   ]
  },
  {
   "cell_type": "code",
   "execution_count": null,
   "metadata": {},
   "outputs": [],
   "source": [
    "n_pcs = 500\n",
    "nn = NearestNeighbors()\n",
    "nn = nn.fit(X[:, :n_pcs])\n",
    "neighbors = nn.kneighbors(pdf.loc['Toy Story (1995)'].values[:n_pcs].reshape(1, -1), return_distance=False)\n",
    "pdf.index[neighbors.ravel()].tolist()"
   ]
  }
 ],
 "metadata": {
  "kernelspec": {
   "display_name": "Python 3",
   "language": "python",
   "name": "python3"
  },
  "language_info": {
   "codemirror_mode": {
    "name": "ipython",
    "version": 3
   },
   "file_extension": ".py",
   "mimetype": "text/x-python",
   "name": "python",
   "nbconvert_exporter": "python",
   "pygments_lexer": "ipython3",
   "version": "3.7.7"
  }
 },
 "nbformat": 4,
 "nbformat_minor": 4
}
