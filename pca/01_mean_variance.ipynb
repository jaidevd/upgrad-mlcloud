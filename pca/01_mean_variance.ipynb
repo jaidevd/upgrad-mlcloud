{
 "cells": [
  {
   "cell_type": "markdown",
   "metadata": {},
   "source": [
    "# Descriptive Statistics"
   ]
  },
  {
   "cell_type": "code",
   "execution_count": null,
   "metadata": {},
   "outputs": [],
   "source": [
    "import numpy as np\n",
    "import pandas as pd\n",
    "from functools import reduce\n",
    "import matplotlib.pyplot as plt\n",
    "%matplotlib inline"
   ]
  },
  {
   "cell_type": "markdown",
   "metadata": {},
   "source": [
    "## Arithmetic mean\n",
    "## $$ \\mathbf{\\mu_{x}} = E[X] = \\frac{x_{1} + x_{2} ... x_{N}}{N}$$"
   ]
  },
  {
   "cell_type": "code",
   "execution_count": null,
   "metadata": {},
   "outputs": [],
   "source": [
    "# A sequence of 1M normally distributed numbers\n",
    "X = np.random.normal(loc=0.25, scale=0.10, size=(1000000,))\n",
    "_ = plt.hist(X, bins=50)"
   ]
  },
  {
   "cell_type": "code",
   "execution_count": null,
   "metadata": {},
   "outputs": [],
   "source": [
    "print(X.mean())"
   ]
  },
  {
   "cell_type": "code",
   "execution_count": null,
   "metadata": {},
   "outputs": [],
   "source": [
    "print(X.std())"
   ]
  },
  {
   "cell_type": "markdown",
   "metadata": {},
   "source": [
    "## Why is this important?"
   ]
  },
  {
   "cell_type": "code",
   "execution_count": null,
   "metadata": {},
   "outputs": [],
   "source": [
    "from scipy.stats import probplot"
   ]
  },
  {
   "cell_type": "code",
   "execution_count": null,
   "metadata": {},
   "outputs": [],
   "source": [
    "probplot(X, (0.25, 10), plot=plt)"
   ]
  },
  {
   "cell_type": "code",
   "execution_count": null,
   "metadata": {},
   "outputs": [],
   "source": [
    "Y = np.random.poisson(size=(1000000,))\n",
    "probplot(Y, (Y.mean(), Y.std()), plot=plt)\n",
    "plt.figure()\n",
    "_ = plt.hist(Y, bins=50)"
   ]
  },
  {
   "cell_type": "markdown",
   "metadata": {},
   "source": [
    "## Mean as a function of the means of parts\n",
    "1. ### Divide $X$ into $k$ equal-sized partitions, $\\{p_{1}, p_{2}, p_{3} ... p_{k}\\}$, where size of each partition is $n$\n",
    "2. ### Then $E[X]$ is defined as the mean of the means of each partition, i.e.\n",
    "\n",
    "$$ E[X] = \\frac{E[p_{1}] + E[p_{2}] ... E[p_{k}]}{k} $$\n",
    "\n",
    "$$ \\therefore E[X] = \\frac{\\frac{p_{1}}{n} + \\frac{p_{2}}{n} ... \\frac{p_{k}}{n}}{k} $$\n",
    "\n",
    "$$ \\therefore E[X] = \\frac{p_{1} + p_{2} ... p_{k}}{nk} $$"
   ]
  },
  {
   "cell_type": "code",
   "execution_count": null,
   "metadata": {},
   "outputs": [],
   "source": [
    "k = 1000"
   ]
  },
  {
   "cell_type": "code",
   "execution_count": null,
   "metadata": {},
   "outputs": [],
   "source": [
    "partitions = np.split(X, k)"
   ]
  },
  {
   "cell_type": "code",
   "execution_count": null,
   "metadata": {},
   "outputs": [],
   "source": [
    "meanMap = map(np.mean, partitions)"
   ]
  },
  {
   "cell_type": "code",
   "execution_count": null,
   "metadata": {},
   "outputs": [],
   "source": [
    "meanReduce = reduce(lambda x, y: x + y, meanMap) / k\n",
    "print(meanReduce)"
   ]
  },
  {
   "cell_type": "code",
   "execution_count": null,
   "metadata": {},
   "outputs": [],
   "source": [
    "# Simpler implementation from the second example:"
   ]
  },
  {
   "cell_type": "code",
   "execution_count": null,
   "metadata": {},
   "outputs": [],
   "source": [
    "meanMap = map(np.sum, partitions)\n",
    "meanReduce = reduce(lambda x, y: x + y, meanMap) / X.shape[0]\n",
    "print(meanReduce)"
   ]
  },
  {
   "cell_type": "markdown",
   "metadata": {},
   "source": [
    "## Exercise: Find the mean of the sequence $Z$ below.\n",
    "## Use three different partition sizes, and check if the result changes\n",
    "## Is it a Gaussian distribution?"
   ]
  },
  {
   "cell_type": "code",
   "execution_count": null,
   "metadata": {},
   "outputs": [],
   "source": [
    "Z = np.random.beta(2, 5, size=(1000000,))"
   ]
  },
  {
   "cell_type": "code",
   "execution_count": null,
   "metadata": {},
   "outputs": [],
   "source": [
    "# enter code here"
   ]
  },
  {
   "cell_type": "markdown",
   "metadata": {},
   "source": [
    "## Mode & Median\n",
    "\n",
    "### Median - midpoint of a _sorted_ sequence of values"
   ]
  },
  {
   "cell_type": "code",
   "execution_count": null,
   "metadata": {},
   "outputs": [],
   "source": [
    "np.median(Z)"
   ]
  },
  {
   "cell_type": "code",
   "execution_count": null,
   "metadata": {},
   "outputs": [],
   "source": [
    "middle = int(Z.shape[0] / 2)\n",
    "sort_z = np.sort(Z)\n",
    "left = sort_z[:middle]\n",
    "right = sort_z[middle:]\n",
    "\n",
    "median = (left[-1] + right[0]) / 2\n",
    "print(median)"
   ]
  },
  {
   "cell_type": "markdown",
   "metadata": {},
   "source": [
    "### Mode - the most frequently occuring value"
   ]
  },
  {
   "cell_type": "code",
   "execution_count": null,
   "metadata": {},
   "outputs": [],
   "source": [
    "from collections import Counter\n",
    "counter = Counter(['apple', 'orange', 'banana', 'apple', 'apple', 'orange', 'banana', 'orange', 'banana', 'apple'])\n",
    "counter"
   ]
  },
  {
   "cell_type": "code",
   "execution_count": null,
   "metadata": {},
   "outputs": [],
   "source": [
    "counter.most_common(1)"
   ]
  },
  {
   "cell_type": "code",
   "execution_count": null,
   "metadata": {},
   "outputs": [],
   "source": [
    "df = pd.read_csv('data/hwg.csv')\n",
    "df.head()"
   ]
  },
  {
   "cell_type": "code",
   "execution_count": null,
   "metadata": {},
   "outputs": [],
   "source": [
    "df['Gender'].mode()"
   ]
  },
  {
   "cell_type": "code",
   "execution_count": null,
   "metadata": {},
   "outputs": [],
   "source": [
    "df['Gender'].value_counts()"
   ]
  },
  {
   "cell_type": "markdown",
   "metadata": {},
   "source": [
    "## Variance and Standard Deviation\n",
    "## $$ V[X] = E[(X - \\mu)^2]$$\n",
    "### where\n",
    "## $$ \\mu = E[X] $$\n",
    "\n",
    "### The arithmetic mean is a linear operator, thus,\n",
    "## $$ V = E[(X - \\mu)^2]$$\n",
    "## $$ \\therefore V = E[X^2 - 2X\\mu + \\mu^2] $$\n",
    "## $$ \\therefore V = E[X^2] - 2E[X]\\mu + \\mu^2 $$\n",
    "## $$ \\therefore V = E[X^2] - 2\\mu^2 + \\mu^2 $$\n",
    "## $$ \\therefore V = E[X^2] - \\mu^2 $$"
   ]
  },
  {
   "cell_type": "code",
   "execution_count": null,
   "metadata": {},
   "outputs": [],
   "source": [
    "mu = meanReduce"
   ]
  },
  {
   "cell_type": "code",
   "execution_count": null,
   "metadata": {},
   "outputs": [],
   "source": [
    "mu_sq = meanReduce ** 2"
   ]
  },
  {
   "cell_type": "markdown",
   "metadata": {},
   "source": [
    "## Exercise: Calculate the variance of $\\mathbf{x}$\n",
    "### Hint: Use the following function to square the elements in a sequence:"
   ]
  },
  {
   "cell_type": "code",
   "execution_count": null,
   "metadata": {},
   "outputs": [],
   "source": [
    "def square_sequence(x):\n",
    "    return [i ** 2 for i in x]"
   ]
  },
  {
   "cell_type": "code",
   "execution_count": null,
   "metadata": {},
   "outputs": [],
   "source": [
    "# enter code here"
   ]
  },
  {
   "cell_type": "code",
   "execution_count": null,
   "metadata": {},
   "outputs": [],
   "source": [
    "print(X.var())"
   ]
  },
  {
   "cell_type": "markdown",
   "metadata": {},
   "source": [
    "## Exercise: Normalize the following dataset \n",
    "### Step 1: Centering - subtract the mean of each column from that column\n",
    "### Step 2: Scaling - Divide the centered values of each column by the standard deviation of that column\n",
    "### Hint: use the `np.mean` and `np.var` (or `np.std`) functions"
   ]
  },
  {
   "cell_type": "code",
   "execution_count": null,
   "metadata": {},
   "outputs": [],
   "source": [
    "df = pd.read_csv('data/hwg.csv')\n",
    "X = df\n",
    "df.head()"
   ]
  },
  {
   "cell_type": "code",
   "execution_count": null,
   "metadata": {},
   "outputs": [],
   "source": [
    "# enter code here"
   ]
  }
 ],
 "metadata": {
  "kernelspec": {
   "display_name": "Python 3",
   "language": "python",
   "name": "python3"
  },
  "language_info": {
   "codemirror_mode": {
    "name": "ipython",
    "version": 3
   },
   "file_extension": ".py",
   "mimetype": "text/x-python",
   "name": "python",
   "nbconvert_exporter": "python",
   "pygments_lexer": "ipython3",
   "version": "3.7.3"
  }
 },
 "nbformat": 4,
 "nbformat_minor": 4
}
