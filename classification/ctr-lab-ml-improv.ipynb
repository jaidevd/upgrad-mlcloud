{
 "cells": [
  {
   "cell_type": "code",
   "execution_count": 1,
   "metadata": {},
   "outputs": [
    {
     "data": {
      "application/vnd.jupyter.widget-view+json": {
       "model_id": "f30eb4f18be14685b0c339da467352dc",
       "version_major": 2,
       "version_minor": 0
      },
      "text/plain": [
       "VBox()"
      ]
     },
     "metadata": {},
     "output_type": "display_data"
    },
    {
     "name": "stdout",
     "output_type": "stream",
     "text": [
      "Starting Spark application\n"
     ]
    },
    {
     "data": {
      "text/html": [
       "<table>\n",
       "<tr><th>ID</th><th>YARN Application ID</th><th>Kind</th><th>State</th><th>Spark UI</th><th>Driver log</th><th>Current session?</th></tr><tr><td>0</td><td>application_1589623986229_0001</td><td>pyspark</td><td>idle</td><td><a target=\"_blank\" href=\"http://ip-172-31-92-100.ec2.internal:20888/proxy/application_1589623986229_0001/\">Link</a></td><td><a target=\"_blank\" href=\"http://ip-172-31-80-168.ec2.internal:8042/node/containerlogs/container_1589623986229_0001_01_000001/livy\">Link</a></td><td>✔</td></tr></table>"
      ],
      "text/plain": [
       "<IPython.core.display.HTML object>"
      ]
     },
     "metadata": {},
     "output_type": "display_data"
    },
    {
     "data": {
      "application/vnd.jupyter.widget-view+json": {
       "model_id": "",
       "version_major": 2,
       "version_minor": 0
      },
      "text/plain": [
       "FloatProgress(value=0.0, bar_style='info', description='Progress:', layout=Layout(height='25px', width='50%'),…"
      ]
     },
     "metadata": {},
     "output_type": "display_data"
    },
    {
     "name": "stdout",
     "output_type": "stream",
     "text": [
      "SparkSession available as 'spark'.\n"
     ]
    },
    {
     "data": {
      "application/vnd.jupyter.widget-view+json": {
       "model_id": "",
       "version_major": 2,
       "version_minor": 0
      },
      "text/plain": [
       "FloatProgress(value=0.0, bar_style='info', description='Progress:', layout=Layout(height='25px', width='50%'),…"
      ]
     },
     "metadata": {},
     "output_type": "display_data"
    },
    {
     "name": "stdout",
     "output_type": "stream",
     "text": [
      "root\n",
      " |-- click: boolean (nullable = true)\n",
      " |-- C1: integer (nullable = true)\n",
      " |-- banner_pos: integer (nullable = true)\n",
      " |-- site_id: string (nullable = true)\n",
      " |-- site_domain: string (nullable = true)\n",
      " |-- site_category: string (nullable = true)\n",
      " |-- app_id: string (nullable = true)\n",
      " |-- app_domain: string (nullable = true)\n",
      " |-- app_category: string (nullable = true)\n",
      " |-- device_id: string (nullable = true)\n",
      " |-- device_ip: string (nullable = true)\n",
      " |-- device_model: string (nullable = true)\n",
      " |-- device_type: integer (nullable = true)\n",
      " |-- device_conn_type: integer (nullable = true)\n",
      " |-- C14: integer (nullable = true)\n",
      " |-- C15: integer (nullable = true)\n",
      " |-- C16: integer (nullable = true)\n",
      " |-- C17: integer (nullable = true)\n",
      " |-- C18: integer (nullable = true)\n",
      " |-- C19: integer (nullable = true)\n",
      " |-- C20: integer (nullable = true)\n",
      " |-- C21: integer (nullable = true)\n",
      " |-- month: integer (nullable = true)\n",
      " |-- dayofweek: integer (nullable = true)\n",
      " |-- day: integer (nullable = true)\n",
      " |-- hour: integer (nullable = true)\n",
      " |-- y: integer (nullable = true)"
     ]
    }
   ],
   "source": [
    "df = sqlContext.read.csv('s3a://sparkdemonstration/10M.csv', header=True, inferSchema=True)\n",
    "\n",
    "from pyspark.sql.types import IntegerType\n",
    "from math import floor\n",
    "from pyspark.sql.functions import rand\n",
    "from pyspark.sql.functions import col\n",
    "\n",
    "def stratifiedSample(df, N, labelCol=\"y\"):\n",
    "    ctx = df.groupby(labelCol).count()\n",
    "    ctx = ctx.withColumn('frac', col(\"count\") / df.count())\n",
    "    frac = ctx.select(\"y\", \"frac\").rdd.collectAsMap()\n",
    "    pos = int(floor(frac[1] * N))\n",
    "    neg = int(floor(frac[0] * N))\n",
    "    posDF = df.filter(col(labelCol) == 1).orderBy(rand()).limit(pos)\n",
    "    negDF = df.filter(col(labelCol) == 0).orderBy(rand()).limit(neg)\n",
    "    return posDF.unionAll(negDF).orderBy(rand())\n",
    "\n",
    "df = df.withColumn(\"y\", df[\"click\"].cast(IntegerType()))\n",
    "xdf = stratifiedSample(df, 1_000_000)\n",
    "\n",
    "xdf.printSchema()"
   ]
  },
  {
   "cell_type": "code",
   "execution_count": 2,
   "metadata": {},
   "outputs": [
    {
     "data": {
      "application/vnd.jupyter.widget-view+json": {
       "model_id": "7a166ace34d34f93a9b52cdd22fa266c",
       "version_major": 2,
       "version_minor": 0
      },
      "text/plain": [
       "VBox()"
      ]
     },
     "metadata": {},
     "output_type": "display_data"
    },
    {
     "data": {
      "application/vnd.jupyter.widget-view+json": {
       "model_id": "",
       "version_major": 2,
       "version_minor": 0
      },
      "text/plain": [
       "FloatProgress(value=0.0, bar_style='info', description='Progress:', layout=Layout(height='25px', width='50%'),…"
      ]
     },
     "metadata": {},
     "output_type": "display_data"
    },
    {
     "name": "stdout",
     "output_type": "stream",
     "text": [
      "+----+----------+-----------+-------------+----------+------------+------------+-----------+----------------+-----+---+---+----+---+----+------+---+\n",
      "|  C1|banner_pos|site_domain|site_category|app_domain|app_category|device_model|device_type|device_conn_type|  C14|C15|C16| C17|C18| C19|   C20|C21|\n",
      "+----+----------+-----------+-------------+----------+------------+------------+-----------+----------------+-----+---+---+----+---+----+------+---+\n",
      "|1005|         0|   d262cf1e|     f66779e6|  7801e8d9|    07d7df22|    c1a17447|          1|               0|22202|320| 50|2558|  0| 417|100004|163|\n",
      "|1005|         0|   f3845767|     28905ebd|  7801e8d9|    07d7df22|    be87996b|          1|               2|15699|320| 50|1722|  0|  35|100084| 79|\n",
      "|1005|         1|   9cf7de2f|     f028772b|  7801e8d9|    07d7df22|    1ccc7835|          1|               0|16615|320| 50|1863|  3|  39|    -1| 23|\n",
      "|1005|         0|   c4e18dd6|     50e219e0|  5c5a694b|    0f2161f8|    d4897fef|          1|               0| 4687|320| 50| 423|  2|  39|100148| 32|\n",
      "|1005|         0|   c4e18dd6|     50e219e0|  6f7ca2ba|    0f2161f8|    1f0bc64f|          1|               0|23804|320| 50|2726|  3| 803|100034|229|\n",
      "|1005|         0|   f3845767|     28905ebd|  7801e8d9|    07d7df22|    2203a096|          1|               0|22106|320| 50|2545|  0|  35|100084|221|\n",
      "|1010|         1|   c4e18dd6|     50e219e0|  7801e8d9|    0f2161f8|    84ebbcd4|          4|               2|15705|320| 50|1722|  0|  35|    -1| 79|\n",
      "|1005|         1|   7e091613|     f028772b|  7801e8d9|    07d7df22|    d4897fef|          1|               0|22815|320| 50|2647|  2|  35|100148| 23|\n",
      "|1005|         0|   964a3bd1|     f028772b|  7801e8d9|    07d7df22|    d1cbe61f|          1|               0|22798|320| 50|2645|  3|  35|    -1| 23|\n",
      "|1005|         0|   f3845767|     28905ebd|  7801e8d9|    07d7df22|    8a4875bd|          1|               0|15699|320| 50|1722|  0|  35|    -1| 79|\n",
      "|1005|         0|   c4e18dd6|     50e219e0|  ae637522|    0f2161f8|    f8d834d0|          1|               3|21189|320| 50|2424|  1| 161|100189| 71|\n",
      "|1005|         0|   98572c79|     f028772b|  7801e8d9|    07d7df22|    d780319b|          1|               0|21833|320| 50|2522|  0|  35|    -1|221|\n",
      "|1005|         0|   f3845767|     28905ebd|  7801e8d9|    07d7df22|    7dc3b26e|          1|               0|15702|320| 50|1722|  0|  35|    -1| 79|\n",
      "|1005|         0|   f3845767|     28905ebd|  7801e8d9|    07d7df22|    f07e20f8|          1|               2|20108|320| 50|2299|  2|1327|100084| 52|\n",
      "|1005|         1|   7e091613|     f028772b|  7801e8d9|    07d7df22|    d4897fef|          1|               0|22142|320| 50|2550|  0| 547|100148| 51|\n",
      "|1005|         0|   c4e18dd6|     50e219e0|  5c5a694b|    0f2161f8|    4ceb2e0b|          1|               0| 4687|320| 50| 423|  2|  39|100148| 32|\n",
      "|1002|         0|   6ea6d031|     50e219e0|  7801e8d9|    07d7df22|    182d1bcd|          0|               0|21789|320| 50|2512|  2| 291|    -1| 52|\n",
      "|1005|         0|   ce307e01|     3e814130|  7801e8d9|    07d7df22|    fbc27727|          1|               0|19251|320| 50|2201|  3|  35|100103| 43|\n",
      "|1005|         1|   58a89a43|     f028772b|  7801e8d9|    07d7df22|    8a4875bd|          1|               0|22681|320| 50|2528|  0|  39|    -1|221|\n",
      "|1005|         1|   58a89a43|     f028772b|  7801e8d9|    07d7df22|    8a4875bd|          1|               0|16208|320| 50|1800|  3| 167|100079| 23|\n",
      "+----+----------+-----------+-------------+----------+------------+------------+-----------+----------------+-----+---+---+----+---+----+------+---+\n",
      "only showing top 20 rows"
     ]
    }
   ],
   "source": [
    "cCols = ['C1', 'banner_pos', 'site_domain', 'site_category', 'app_domain',\n",
    "           'app_category', 'device_model', 'device_type', 'device_conn_type']\n",
    "cCols += ['C{}'.format(i) for i in range(14, 22)]\n",
    "xdf.select(*cCols).show()"
   ]
  },
  {
   "cell_type": "code",
   "execution_count": 3,
   "metadata": {},
   "outputs": [
    {
     "data": {
      "application/vnd.jupyter.widget-view+json": {
       "model_id": "5ac1783435084241a64722bccf448f6d",
       "version_major": 2,
       "version_minor": 0
      },
      "text/plain": [
       "VBox()"
      ]
     },
     "metadata": {},
     "output_type": "display_data"
    },
    {
     "data": {
      "application/vnd.jupyter.widget-view+json": {
       "model_id": "",
       "version_major": 2,
       "version_minor": 0
      },
      "text/plain": [
       "FloatProgress(value=0.0, bar_style='info', description='Progress:', layout=Layout(height='25px', width='50%'),…"
      ]
     },
     "metadata": {},
     "output_type": "display_data"
    }
   ],
   "source": [
    "from pyspark.ml.feature import StringIndexer, OneHotEncoderEstimator, VectorAssembler\n",
    "\n",
    "stringCols = ['site_domain', 'site_category', 'app_domain', 'app_category', 'device_model']\n",
    "for c in stringCols:\n",
    "    outCol = c + '_ix'\n",
    "    si = StringIndexer(inputCol=c, outputCol=outCol)\n",
    "    xdf = si.fit(xdf).transform(xdf)"
   ]
  },
  {
   "cell_type": "code",
   "execution_count": 4,
   "metadata": {},
   "outputs": [
    {
     "data": {
      "application/vnd.jupyter.widget-view+json": {
       "model_id": "a5f6a86d21394a97b1ff5ada270aeedf",
       "version_major": 2,
       "version_minor": 0
      },
      "text/plain": [
       "VBox()"
      ]
     },
     "metadata": {},
     "output_type": "display_data"
    },
    {
     "data": {
      "application/vnd.jupyter.widget-view+json": {
       "model_id": "",
       "version_major": 2,
       "version_minor": 0
      },
      "text/plain": [
       "FloatProgress(value=0.0, bar_style='info', description='Progress:', layout=Layout(height='25px', width='50%'),…"
      ]
     },
     "metadata": {},
     "output_type": "display_data"
    }
   ],
   "source": [
    "from pyspark.sql.functions import udf\n",
    "from pyspark.sql.types import IntegerType\n",
    "\n",
    "posMapper = udf(lambda x: 0 if x < 0 else x)\n",
    "xdf = xdf.withColumn('C20_1', posMapper(xdf['C20']))\n",
    "xdf = xdf.withColumn(\"C20_1int\", xdf['C20_1'].cast(IntegerType()))\n",
    "\n",
    "categoricalCols = [c+'_ix' for c in ['site_domain', 'site_category', 'app_domain', 'app_category', 'device_model']]\n",
    "categoricalCols += ['C1', 'C14', 'C15', 'C16', 'C17', 'C19', 'C20_1int', 'C21']"
   ]
  },
  {
   "cell_type": "code",
   "execution_count": 5,
   "metadata": {},
   "outputs": [
    {
     "data": {
      "application/vnd.jupyter.widget-view+json": {
       "model_id": "1245751e45fb4d558c2b4ea1826b203a",
       "version_major": 2,
       "version_minor": 0
      },
      "text/plain": [
       "VBox()"
      ]
     },
     "metadata": {},
     "output_type": "display_data"
    },
    {
     "data": {
      "application/vnd.jupyter.widget-view+json": {
       "model_id": "",
       "version_major": 2,
       "version_minor": 0
      },
      "text/plain": [
       "FloatProgress(value=0.0, bar_style='info', description='Progress:', layout=Layout(height='25px', width='50%'),…"
      ]
     },
     "metadata": {},
     "output_type": "display_data"
    }
   ],
   "source": [
    "ohe = OneHotEncoderEstimator(inputCols=categoricalCols, outputCols=[c+'Enc' for c in categoricalCols])\n",
    "enc_model = ohe.fit(xdf)\n",
    "xdf = enc_model.transform(xdf)"
   ]
  },
  {
   "cell_type": "code",
   "execution_count": 6,
   "metadata": {},
   "outputs": [
    {
     "data": {
      "application/vnd.jupyter.widget-view+json": {
       "model_id": "686c16d442eb4267bf11ebdd55d5a2a7",
       "version_major": 2,
       "version_minor": 0
      },
      "text/plain": [
       "VBox()"
      ]
     },
     "metadata": {},
     "output_type": "display_data"
    },
    {
     "data": {
      "application/vnd.jupyter.widget-view+json": {
       "model_id": "",
       "version_major": 2,
       "version_minor": 0
      },
      "text/plain": [
       "FloatProgress(value=0.0, bar_style='info', description='Progress:', layout=Layout(height='25px', width='50%'),…"
      ]
     },
     "metadata": {},
     "output_type": "display_data"
    },
    {
     "name": "stdout",
     "output_type": "stream",
     "text": [
      "+-----+\n",
      "|month|\n",
      "+-----+\n",
      "|   10|\n",
      "+-----+"
     ]
    }
   ],
   "source": [
    "trainCols = [c+'Enc' for c in categoricalCols]\n",
    "trainCols += ['hour', 'day', 'dayofweek']\n",
    "xdf.select('month').distinct().show()"
   ]
  },
  {
   "cell_type": "code",
   "execution_count": 7,
   "metadata": {},
   "outputs": [
    {
     "data": {
      "application/vnd.jupyter.widget-view+json": {
       "model_id": "06e2c79f5d8f491d968829777d594db3",
       "version_major": 2,
       "version_minor": 0
      },
      "text/plain": [
       "VBox()"
      ]
     },
     "metadata": {},
     "output_type": "display_data"
    },
    {
     "data": {
      "application/vnd.jupyter.widget-view+json": {
       "model_id": "",
       "version_major": 2,
       "version_minor": 0
      },
      "text/plain": [
       "FloatProgress(value=0.0, bar_style='info', description='Progress:', layout=Layout(height='25px', width='50%'),…"
      ]
     },
     "metadata": {},
     "output_type": "display_data"
    }
   ],
   "source": [
    "assembler = VectorAssembler(inputCols=trainCols, outputCol='features')\n",
    "xdf = assembler.transform(xdf)"
   ]
  },
  {
   "cell_type": "code",
   "execution_count": 8,
   "metadata": {},
   "outputs": [
    {
     "data": {
      "application/vnd.jupyter.widget-view+json": {
       "model_id": "29d64e9999c24e46998640954404a5d8",
       "version_major": 2,
       "version_minor": 0
      },
      "text/plain": [
       "VBox()"
      ]
     },
     "metadata": {},
     "output_type": "display_data"
    },
    {
     "data": {
      "application/vnd.jupyter.widget-view+json": {
       "model_id": "",
       "version_major": 2,
       "version_minor": 0
      },
      "text/plain": [
       "FloatProgress(value=0.0, bar_style='info', description='Progress:', layout=Layout(height='25px', width='50%'),…"
      ]
     },
     "metadata": {},
     "output_type": "display_data"
    }
   ],
   "source": [
    "from pyspark.ml.classification import LogisticRegression\n",
    "\n",
    "lr = LogisticRegression(featuresCol='features', labelCol='y')\n",
    "model = lr.fit(xdf)\n",
    "result = model.evaluate(xdf)"
   ]
  },
  {
   "cell_type": "code",
   "execution_count": 9,
   "metadata": {},
   "outputs": [
    {
     "data": {
      "application/vnd.jupyter.widget-view+json": {
       "model_id": "4846a30917df42ebbc990a825f000204",
       "version_major": 2,
       "version_minor": 0
      },
      "text/plain": [
       "VBox()"
      ]
     },
     "metadata": {},
     "output_type": "display_data"
    },
    {
     "data": {
      "application/vnd.jupyter.widget-view+json": {
       "model_id": "",
       "version_major": 2,
       "version_minor": 0
      },
      "text/plain": [
       "FloatProgress(value=0.0, bar_style='info', description='Progress:', layout=Layout(height='25px', width='50%'),…"
      ]
     },
     "metadata": {},
     "output_type": "display_data"
    },
    {
     "name": "stdout",
     "output_type": "stream",
     "text": [
      "0.7467668629930857"
     ]
    }
   ],
   "source": [
    "result.areaUnderROC"
   ]
  },
  {
   "cell_type": "code",
   "execution_count": 10,
   "metadata": {},
   "outputs": [
    {
     "data": {
      "application/vnd.jupyter.widget-view+json": {
       "model_id": "e839a570c9654f35bd0d34f55fa5ddf7",
       "version_major": 2,
       "version_minor": 0
      },
      "text/plain": [
       "VBox()"
      ]
     },
     "metadata": {},
     "output_type": "display_data"
    },
    {
     "name": "stderr",
     "output_type": "stream",
     "text": [
      "An error was encountered:\n",
      "Session 0 unexpectedly reached final status 'dead'. See logs:\n",
      "stdout: \n",
      "\n",
      "stderr: \n",
      "20/05/16 05:22:50 INFO TaskSetManager: Finished task 13.0 in stage 633.0 (TID 25764) in 1212 ms on ip-172-31-85-145.ec2.internal (executor 1) (12/200)\n",
      "20/05/16 05:22:50 INFO TaskSetManager: Starting task 22.0 in stage 633.0 (TID 25775, ip-172-31-85-145.ec2.internal, executor 1, partition 22, PROCESS_LOCAL, 7767 bytes)\n",
      "20/05/16 05:22:50 INFO TaskSetManager: Finished task 14.0 in stage 633.0 (TID 25766) in 1173 ms on ip-172-31-85-145.ec2.internal (executor 1) (13/200)\n",
      "20/05/16 05:22:50 INFO TaskSetManager: Starting task 23.0 in stage 633.0 (TID 25776, ip-172-31-85-145.ec2.internal, executor 1, partition 23, PROCESS_LOCAL, 7767 bytes)\n",
      "20/05/16 05:22:50 INFO TaskSetManager: Finished task 12.0 in stage 633.0 (TID 25763) in 1255 ms on ip-172-31-85-145.ec2.internal (executor 1) (14/200)\n",
      "20/05/16 05:22:50 INFO TaskSetManager: Starting task 18.0 in stage 633.0 (TID 25777, ip-172-31-80-178.ec2.internal, executor 2, partition 18, PROCESS_LOCAL, 7767 bytes)\n",
      "20/05/16 05:22:50 INFO TaskSetManager: Finished task 11.0 in stage 633.0 (TID 25770) in 1071 ms on ip-172-31-80-178.ec2.internal (executor 2) (15/200)\n",
      "20/05/16 05:22:50 INFO TaskSetManager: Starting task 19.0 in stage 633.0 (TID 25778, ip-172-31-80-178.ec2.internal, executor 2, partition 19, PROCESS_LOCAL, 7767 bytes)\n",
      "20/05/16 05:22:50 INFO TaskSetManager: Finished task 9.0 in stage 633.0 (TID 25768) in 1259 ms on ip-172-31-80-178.ec2.internal (executor 2) (16/200)\n",
      "20/05/16 05:22:51 INFO TaskSetManager: Starting task 24.0 in stage 633.0 (TID 25779, ip-172-31-80-178.ec2.internal, executor 2, partition 24, PROCESS_LOCAL, 7767 bytes)\n",
      "20/05/16 05:22:51 INFO TaskSetManager: Finished task 17.0 in stage 633.0 (TID 25772) in 991 ms on ip-172-31-80-178.ec2.internal (executor 2) (17/200)\n",
      "20/05/16 05:22:51 INFO TaskSetManager: Starting task 31.0 in stage 633.0 (TID 25780, ip-172-31-85-145.ec2.internal, executor 1, partition 31, PROCESS_LOCAL, 7767 bytes)\n",
      "20/05/16 05:22:51 INFO TaskSetManager: Finished task 20.0 in stage 633.0 (TID 25773) in 651 ms on ip-172-31-85-145.ec2.internal (executor 1) (18/200)\n",
      "20/05/16 05:22:51 INFO TaskSetManager: Starting task 25.0 in stage 633.0 (TID 25781, ip-172-31-80-178.ec2.internal, executor 2, partition 25, PROCESS_LOCAL, 7767 bytes)\n",
      "20/05/16 05:22:51 INFO TaskSetManager: Finished task 16.0 in stage 633.0 (TID 25771) in 1064 ms on ip-172-31-80-178.ec2.internal (executor 2) (19/200)\n",
      "20/05/16 05:22:51 INFO TaskSetManager: Starting task 32.0 in stage 633.0 (TID 25782, ip-172-31-85-145.ec2.internal, executor 1, partition 32, PROCESS_LOCAL, 7767 bytes)\n",
      "20/05/16 05:22:51 INFO TaskSetManager: Finished task 22.0 in stage 633.0 (TID 25775) in 718 ms on ip-172-31-85-145.ec2.internal (executor 1) (20/200)\n",
      "20/05/16 05:22:51 INFO TaskSetManager: Starting task 33.0 in stage 633.0 (TID 25783, ip-172-31-85-145.ec2.internal, executor 1, partition 33, PROCESS_LOCAL, 7767 bytes)\n",
      "20/05/16 05:22:51 INFO TaskSetManager: Finished task 21.0 in stage 633.0 (TID 25774) in 731 ms on ip-172-31-85-145.ec2.internal (executor 1) (21/200)\n",
      "20/05/16 05:22:51 INFO TaskSetManager: Starting task 34.0 in stage 633.0 (TID 25784, ip-172-31-85-145.ec2.internal, executor 1, partition 34, PROCESS_LOCAL, 7767 bytes)\n",
      "20/05/16 05:22:51 INFO TaskSetManager: Finished task 23.0 in stage 633.0 (TID 25776) in 712 ms on ip-172-31-85-145.ec2.internal (executor 1) (22/200)\n",
      "20/05/16 05:22:51 INFO TaskSetManager: Starting task 26.0 in stage 633.0 (TID 25785, ip-172-31-80-178.ec2.internal, executor 2, partition 26, PROCESS_LOCAL, 7767 bytes)\n",
      "20/05/16 05:22:51 INFO TaskSetManager: Finished task 18.0 in stage 633.0 (TID 25777) in 667 ms on ip-172-31-80-178.ec2.internal (executor 2) (23/200)\n",
      "20/05/16 05:22:51 INFO TaskSetManager: Starting task 27.0 in stage 633.0 (TID 25786, ip-172-31-80-178.ec2.internal, executor 2, partition 27, PROCESS_LOCAL, 7767 bytes)\n",
      "20/05/16 05:22:51 INFO TaskSetManager: Finished task 19.0 in stage 633.0 (TID 25778) in 680 ms on ip-172-31-80-178.ec2.internal (executor 2) (24/200)\n",
      "20/05/16 05:22:51 INFO ExecutorAllocationManager: Requesting 2 new executors because tasks are backlogged (new desired total will be 6)\n",
      "20/05/16 05:22:51 INFO TaskSetManager: Starting task 28.0 in stage 633.0 (TID 25787, ip-172-31-80-178.ec2.internal, executor 2, partition 28, PROCESS_LOCAL, 7767 bytes)\n",
      "20/05/16 05:22:51 INFO TaskSetManager: Finished task 24.0 in stage 633.0 (TID 25779) in 635 ms on ip-172-31-80-178.ec2.internal (executor 2) (25/200)\n",
      "20/05/16 05:22:51 INFO TaskSetManager: Starting task 29.0 in stage 633.0 (TID 25788, ip-172-31-80-178.ec2.internal, executor 2, partition 29, PROCESS_LOCAL, 7767 bytes)\n",
      "20/05/16 05:22:51 INFO TaskSetManager: Finished task 25.0 in stage 633.0 (TID 25781) in 619 ms on ip-172-31-80-178.ec2.internal (executor 2) (26/200)\n",
      "20/05/16 05:22:51 INFO TaskSetManager: Starting task 40.0 in stage 633.0 (TID 25789, ip-172-31-85-145.ec2.internal, executor 1, partition 40, PROCESS_LOCAL, 7767 bytes)\n",
      "20/05/16 05:22:51 INFO TaskSetManager: Finished task 31.0 in stage 633.0 (TID 25780) in 927 ms on ip-172-31-85-145.ec2.internal (executor 1) (27/200)\n",
      "20/05/16 05:22:52 INFO TaskSetManager: Starting task 41.0 in stage 633.0 (TID 25790, ip-172-31-85-145.ec2.internal, executor 1, partition 41, PROCESS_LOCAL, 7767 bytes)\n",
      "20/05/16 05:22:52 INFO TaskSetManager: Finished task 34.0 in stage 633.0 (TID 25784) in 919 ms on ip-172-31-85-145.ec2.internal (executor 1) (28/200)\n",
      "20/05/16 05:22:52 INFO TaskSetManager: Starting task 42.0 in stage 633.0 (TID 25791, ip-172-31-85-145.ec2.internal, executor 1, partition 42, PROCESS_LOCAL, 7767 bytes)\n",
      "20/05/16 05:22:52 INFO TaskSetManager: Finished task 33.0 in stage 633.0 (TID 25783) in 933 ms on ip-172-31-85-145.ec2.internal (executor 1) (29/200)\n",
      "20/05/16 05:22:52 INFO TaskSetManager: Starting task 30.0 in stage 633.0 (TID 25792, ip-172-31-80-178.ec2.internal, executor 2, partition 30, PROCESS_LOCAL, 7767 bytes)\n",
      "20/05/16 05:22:52 INFO TaskSetManager: Finished task 26.0 in stage 633.0 (TID 25785) in 910 ms on ip-172-31-80-178.ec2.internal (executor 2) (30/200)\n",
      "20/05/16 05:22:52 INFO TaskSetManager: Starting task 43.0 in stage 633.0 (TID 25793, ip-172-31-85-145.ec2.internal, executor 1, partition 43, PROCESS_LOCAL, 7767 bytes)\n",
      "20/05/16 05:22:52 INFO TaskSetManager: Finished task 32.0 in stage 633.0 (TID 25782) in 1002 ms on ip-172-31-85-145.ec2.internal (executor 1) (31/200)\n",
      "20/05/16 05:22:52 INFO ExecutorAllocationManager: Requesting 4 new executors because tasks are backlogged (new desired total will be 10)\n",
      "20/05/16 05:22:52 INFO SparkUI: Stopped Spark web UI at http://ip-172-31-86-247.ec2.internal:4040\n",
      "20/05/16 05:22:52 INFO DAGScheduler: Job 135 failed: treeAggregate at RDDLossFunction.scala:61, took 4.347509 s\n",
      "20/05/16 05:22:52 INFO DAGScheduler: ShuffleMapStage 633 (treeAggregate at RDDLossFunction.scala:61) failed in 4.346 s due to Stage cancelled because SparkContext was shut down\n",
      "20/05/16 05:22:52 ERROR Instrumentation: org.apache.spark.SparkException: Job 135 cancelled because SparkContext was shut down\n",
      "\tat org.apache.spark.scheduler.DAGScheduler$$anonfun$cleanUpAfterSchedulerStop$1.apply(DAGScheduler.scala:973)\n",
      "\tat org.apache.spark.scheduler.DAGScheduler$$anonfun$cleanUpAfterSchedulerStop$1.apply(DAGScheduler.scala:971)\n",
      "\tat scala.collection.mutable.HashSet.foreach(HashSet.scala:78)\n",
      "\tat org.apache.spark.scheduler.DAGScheduler.cleanUpAfterSchedulerStop(DAGScheduler.scala:971)\n",
      "\tat org.apache.spark.scheduler.DAGSchedulerEventProcessLoop.onStop(DAGScheduler.scala:2288)\n",
      "\tat org.apache.spark.util.EventLoop.stop(EventLoop.scala:84)\n",
      "\tat org.apache.spark.scheduler.DAGScheduler.stop(DAGScheduler.scala:2195)\n",
      "\tat org.apache.spark.SparkContext$$anonfun$stop$6.apply$mcV$sp(SparkContext.scala:1949)\n",
      "\tat org.apache.spark.util.Utils$.tryLogNonFatalError(Utils.scala:1385)\n",
      "\tat org.apache.spark.SparkContext.stop(SparkContext.scala:1948)\n",
      "\tat org.apache.spark.api.java.JavaSparkContext.stop(JavaSparkContext.scala:654)\n",
      "\tat org.apache.livy.rsc.driver.SparkEntries.stop(SparkEntries.java:136)\n",
      "\tat org.apache.livy.repl.AbstractSparkInterpreter.close(AbstractSparkInterpreter.scala:92)\n",
      "\tat org.apache.livy.repl.SparkInterpreter.close(SparkInterpreter.scala:93)\n",
      "\tat org.apache.livy.repl.Session$$anonfun$close$1.apply(Session.scala:232)\n",
      "\tat org.apache.livy.repl.Session$$anonfun$close$1.apply(Session.scala:232)\n",
      "\tat scala.collection.mutable.HashMap$$anon$2$$anonfun$foreach$3.apply(HashMap.scala:139)\n",
      "\tat scala.collection.mutable.HashMap$$anon$2$$anonfun$foreach$3.apply(HashMap.scala:139)\n",
      "\tat scala.collection.mutable.HashTable$class.foreachEntry(HashTable.scala:236)\n",
      "\tat scala.collection.mutable.HashMap.foreachEntry(HashMap.scala:40)\n",
      "\tat scala.collection.mutable.HashMap$$anon$2.foreach(HashMap.scala:139)\n",
      "\tat org.apache.livy.repl.Session.close(Session.scala:232)\n",
      "\tat org.apache.livy.repl.ReplDriver.shutdownContext(ReplDriver.scala:50)\n",
      "\tat org.apache.livy.rsc.driver.RSCDriver.shutdown(RSCDriver.java:135)\n",
      "\tat org.apache.livy.rsc.driver.RSCDriver.handle(RSCDriver.java:408)\n",
      "\tat sun.reflect.NativeMethodAccessorImpl.invoke0(Native Method)\n",
      "\tat sun.reflect.NativeMethodAccessorImpl.invoke(NativeMethodAccessorImpl.java:62)\n",
      "\tat sun.reflect.DelegatingMethodAccessorImpl.invoke(DelegatingMethodAccessorImpl.java:43)\n",
      "\tat java.lang.reflect.Method.invoke(Method.java:498)\n",
      "\tat org.apache.livy.rsc.rpc.RpcDispatcher.handleCall(RpcDispatcher.java:133)\n",
      "\tat org.apache.livy.rsc.rpc.RpcDispatcher.channelRead0(RpcDispatcher.java:80)\n",
      "\tat io.netty.channel.SimpleChannelInboundHandler.channelRead(SimpleChannelInboundHandler.java:105)\n",
      "\tat io.netty.channel.AbstractChannelHandlerContext.invokeChannelRead(AbstractChannelHandlerContext.java:374)\n",
      "\tat io.netty.channel.AbstractChannelHandlerContext.invokeChannelRead(AbstractChannelHandlerContext.java:360)\n",
      "\tat io.netty.channel.AbstractChannelHandlerContext.fireChannelRead(AbstractChannelHandlerContext.java:352)\n",
      "\tat io.netty.handler.codec.ByteToMessageDecoder.fireChannelRead(ByteToMessageDecoder.java:328)\n",
      "\tat io.netty.handler.codec.ByteToMessageDecoder.channelRead(ByteToMessageDecoder.java:302)\n",
      "\tat io.netty.handler.codec.ByteToMessageCodec.channelRead(ByteToMessageCodec.java:103)\n",
      "\tat io.netty.channel.AbstractChannelHandlerContext.invokeChannelRead(AbstractChannelHandlerContext.java:374)\n",
      "\tat io.netty.channel.AbstractChannelHandlerContext.invokeChannelRead(AbstractChannelHandlerContext.java:360)\n",
      "\tat io.netty.channel.AbstractChannelHandlerContext.fireChannelRead(AbstractChannelHandlerContext.java:352)\n",
      "\tat io.netty.channel.DefaultChannelPipeline$HeadContext.channelRead(DefaultChannelPipeline.java:1422)\n",
      "\tat io.netty.channel.AbstractChannelHandlerContext.invokeChannelRead(AbstractChannelHandlerContext.java:374)\n",
      "\tat io.netty.channel.AbstractChannelHandlerContext.invokeChannelRead(AbstractChannelHandlerContext.java:360)\n",
      "\tat io.netty.channel.DefaultChannelPipeline.fireChannelRead(DefaultChannelPipeline.java:931)\n",
      "\tat io.netty.channel.nio.AbstractNioByteChannel$NioByteUnsafe.read(AbstractNioByteChannel.java:163)\n",
      "\tat io.netty.channel.nio.NioEventLoop.processSelectedKey(NioEventLoop.java:700)\n",
      "\tat io.netty.channel.nio.NioEventLoop.processSelectedKeysOptimized(NioEventLoop.java:635)\n",
      "\tat io.netty.channel.nio.NioEventLoop.processSelectedKeys(NioEventLoop.java:552)\n",
      "\tat io.netty.channel.nio.NioEventLoop.run(NioEventLoop.java:514)\n",
      "\tat io.netty.util.concurrent.SingleThreadEventExecutor$6.run(SingleThreadEventExecutor.java:1044)\n",
      "\tat io.netty.util.internal.ThreadExecutorMap$2.run(ThreadExecutorMap.java:74)\n",
      "\tat java.lang.Thread.run(Thread.java:748)\n"
     ]
    }
   ],
   "source": [
    "result.recallByLabel"
   ]
  },
  {
   "cell_type": "code",
   "execution_count": null,
   "metadata": {},
   "outputs": [
    {
     "data": {
      "application/vnd.jupyter.widget-view+json": {
       "model_id": "5c9641866b7a412791b40566d3d3dc9a",
       "version_major": 2,
       "version_minor": 0
      },
      "text/plain": [
       "VBox()"
      ]
     },
     "metadata": {},
     "output_type": "display_data"
    },
    {
     "data": {
      "application/vnd.jupyter.widget-view+json": {
       "model_id": "84a484500c564788ad1f572bbe2c92e8",
       "version_major": 2,
       "version_minor": 0
      },
      "text/plain": [
       "FloatProgress(value=0.0, bar_style='info', description='Progress:', layout=Layout(height='25px', width='50%'),…"
      ]
     },
     "metadata": {},
     "output_type": "display_data"
    }
   ],
   "source": [
    "L1 = [0.001, 0.005, 0.01, 0.05, 0.1]\n",
    "recall = []\n",
    "auc = []\n",
    "\n",
    "for l1 in L1:\n",
    "    lr = LogisticRegression(featuresCol='features', labelCol='y', elasticNetParam=1, regParam=l1)\n",
    "    model = lr.fit(xdf)\n",
    "    result = model.evaluate(xdf)\n",
    "    recall.append(result.recallByLabel)\n",
    "    auc.append(result.areaUnderROC)\n",
    "    print(recall[-1], auc[-1])"
   ]
  },
  {
   "cell_type": "code",
   "execution_count": null,
   "metadata": {},
   "outputs": [],
   "source": []
  }
 ],
 "metadata": {
  "kernelspec": {
   "display_name": "PySpark",
   "language": "",
   "name": "pysparkkernel"
  },
  "language_info": {
   "codemirror_mode": {
    "name": "python",
    "version": 3
   },
   "mimetype": "text/x-python",
   "name": "pyspark",
   "pygments_lexer": "python3"
  }
 },
 "nbformat": 4,
 "nbformat_minor": 4
}
