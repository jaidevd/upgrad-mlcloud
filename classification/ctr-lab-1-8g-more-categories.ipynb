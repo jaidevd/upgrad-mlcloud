{
 "cells": [
  {
   "cell_type": "code",
   "execution_count": 1,
   "metadata": {},
   "outputs": [
    {
     "data": {
      "text/html": [
       "\n",
       "            <div>\n",
       "                <p><b>SparkSession - hive</b></p>\n",
       "                \n",
       "        <div>\n",
       "            <p><b>SparkContext</b></p>\n",
       "\n",
       "            <p><a href=\"http://brainiac.Dlink:4040\">Spark UI</a></p>\n",
       "\n",
       "            <dl>\n",
       "              <dt>Version</dt>\n",
       "                <dd><code>v2.4.5</code></dd>\n",
       "              <dt>Master</dt>\n",
       "                <dd><code>local[*]</code></dd>\n",
       "              <dt>AppName</dt>\n",
       "                <dd><code>PySparkShell</code></dd>\n",
       "            </dl>\n",
       "        </div>\n",
       "        \n",
       "            </div>\n",
       "        "
      ],
      "text/plain": [
       "<pyspark.sql.session.SparkSession at 0x7fd6a11824e0>"
      ]
     },
     "execution_count": 1,
     "metadata": {},
     "output_type": "execute_result"
    }
   ],
   "source": [
    "spark"
   ]
  },
  {
   "cell_type": "code",
   "execution_count": 22,
   "metadata": {},
   "outputs": [],
   "source": [
    "df = sqlContext.read.csv('../data/avazu/1M.csv', header=True, inferSchema=True)"
   ]
  },
  {
   "cell_type": "code",
   "execution_count": 23,
   "metadata": {},
   "outputs": [
    {
     "name": "stdout",
     "output_type": "stream",
     "text": [
      "+----+-----+---+---+----+---+----+------+---+----------+-------------+-----------+----------------+--------+-----------+--------+----------+------------+------------+\n",
      "|  C1|  C14|C15|C16| C17|C18| C19|   C20|C21|banner_pos|site_category|device_type|device_conn_type| site_id|site_domain|  app_id|app_domain|app_category|device_model|\n",
      "+----+-----+---+---+----+---+----+------+---+----------+-------------+-----------+----------------+--------+-----------+--------+----------+------------+------------+\n",
      "|1005|15699|320| 50|1722|  0|  35|    -1| 79|         0|     28905ebd|          1|               0|1fbe01fe|   f3845767|ecad2386|  7801e8d9|    07d7df22|    c6263d8a|\n",
      "|1005|19733|320| 50|2260|  0| 171|100156| 91|         0|     50e219e0|          1|               0|85f751fd|   c4e18dd6|3f2a6cbb|  33da2e74|    cef3e649|    03683bd4|\n",
      "|1005|15703|320| 50|1722|  0|  35|    -1| 79|         0|     28905ebd|          1|               0|1fbe01fe|   f3845767|ecad2386|  7801e8d9|    07d7df22|    76dc4769|\n",
      "|1005|15705|320| 50|1722|  0|  35|    -1| 79|         0|     28905ebd|          1|               0|1fbe01fe|   f3845767|ecad2386|  7801e8d9|    07d7df22|    dab823eb|\n",
      "|1005| 6563|320| 50| 572|  2|  39|    -1| 32|         0|     50e219e0|          1|               0|85f751fd|   c4e18dd6|03528b27|  2347f47a|    8ded1f7a|    6715887e|\n",
      "|1005|19998|216| 36|2281|  3|  47|100182| 42|         2|     f66779e6|          1|               0|424f0ecf|   8a704386|ecad2386|  7801e8d9|    07d7df22|    39112ea2|\n",
      "|1005|21191|320| 50|2424|  1| 161|    -1| 71|         0|     50e219e0|          1|               3|85f751fd|   c4e18dd6|92f5800b|  ae637522|    0f2161f8|    981edffc|\n",
      "|1005| 4687|320| 50| 423|  2|  39|100148| 32|         0|     50e219e0|          1|               0|85f751fd|   c4e18dd6|e2fcccd2|  5c5a694b|    0f2161f8|    be74e6fe|\n",
      "|1005|20108|320| 50|2299|  2|1327|100084| 52|         0|     28905ebd|          1|               0|1fbe01fe|   f3845767|ecad2386|  7801e8d9|    07d7df22|    711ee120|\n",
      "|1005|17654|300|250|1994|  2|  39|100084| 33|         0|     3e814130|          1|               0|5b08c53b|   7687a86e|ecad2386|  7801e8d9|    07d7df22|    375c3d47|\n",
      "|1005|21767|320| 50|2506|  0|  35|100020|157|         0|     50e219e0|          1|               3|85f751fd|   c4e18dd6|39947756|  2347f47a|    cef3e649|    ecb851b2|\n",
      "|1005|16688|320| 50|1873|  3|  39|    -1| 23|         0|     50e219e0|          1|               0|85f751fd|   c4e18dd6|03528b27|  2347f47a|    8ded1f7a|    5096d134|\n",
      "|1005|18094|320| 50|2060|  3|  39|    -1| 23|         0|     50e219e0|          1|               0|85f751fd|   c4e18dd6|9c13b419|  2347f47a|    f95efa07|    737e5d8b|\n",
      "|1005|17014|320| 50|1872|  3|  39|    -1| 23|         1|     f028772b|          1|               0|e151e245|   7e091613|ecad2386|  7801e8d9|    07d7df22|    80b1a1d2|\n",
      "|1005|21687|320| 50|2495|  2| 167|    -1| 23|         1|     f028772b|          1|               2|e151e245|   7e091613|ecad2386|  7801e8d9|    07d7df22|    5db079b5|\n",
      "|1005|15706|320| 50|1722|  0|  35|    -1| 79|         0|     28905ebd|          1|               0|1fbe01fe|   f3845767|ecad2386|  7801e8d9|    07d7df22|    1f0bc64f|\n",
      "|1005|19771|320| 50|2227|  0| 679|100081| 48|         1|     f028772b|          1|               0|57ef2c87|   bd6d812f|ecad2386|  7801e8d9|    07d7df22|    8967e320|\n",
      "|1005|15705|320| 50|1722|  0|  35|    -1| 79|         0|     50e219e0|          1|               3|85f751fd|   c4e18dd6|685d1c4c|  2347f47a|    8ded1f7a|    8ce34352|\n",
      "|1005|20251|320| 50|2323|  0| 687|100081| 48|         1|     f028772b|          1|               0|5b4d2eda|   16a36ef3|ecad2386|  7801e8d9|    07d7df22|    2d854941|\n",
      "|1005|20345|300|250|2331|  2|  39|    -1| 23|         0|     3e814130|          1|               0|5b08c53b|   7687a86e|ecad2386|  7801e8d9|    07d7df22|    8a4875bd|\n",
      "+----+-----+---+---+----+---+----+------+---+----------+-------------+-----------+----------------+--------+-----------+--------+----------+------------+------------+\n",
      "only showing top 20 rows\n",
      "\n"
     ]
    }
   ],
   "source": [
    "catCols = ['C1'] + [f'C{k}' for k in range(14, 22)]\n",
    "catCols += ['banner_pos', 'site_category', 'device_type', 'device_conn_type',\n",
    "            'site_id', 'site_domain', 'app_id', 'app_domain', 'app_category', 'device_model']\n",
    "df.select(catCols).show()"
   ]
  },
  {
   "cell_type": "code",
   "execution_count": 24,
   "metadata": {},
   "outputs": [],
   "source": [
    "from pyspark.sql.functions import udf"
   ]
  },
  {
   "cell_type": "code",
   "execution_count": 25,
   "metadata": {},
   "outputs": [],
   "source": [
    "posMapper = udf(lambda x: 0 if x < 0 else x)\n",
    "df = df.withColumn('C20_1', posMapper(df['C20']))"
   ]
  },
  {
   "cell_type": "code",
   "execution_count": 26,
   "metadata": {},
   "outputs": [],
   "source": [
    "catCols.remove('C20')\n",
    "catCols.append('C20_1')"
   ]
  },
  {
   "cell_type": "code",
   "execution_count": 27,
   "metadata": {},
   "outputs": [],
   "source": [
    "from pyspark.ml.feature import OneHotEncoderEstimator"
   ]
  },
  {
   "cell_type": "code",
   "execution_count": 28,
   "metadata": {},
   "outputs": [],
   "source": [
    "from pyspark.ml.feature import StringIndexer\n",
    "for c in ['site_category', 'site_id', 'site_domain', 'app_id', 'app_domain', 'app_category', 'device_model']:\n",
    "    si = StringIndexer(inputCol=c, outputCol=f'{c}_ix')\n",
    "    df = si.fit(df).transform(df)\n",
    "    catCols.remove(c)\n",
    "    catCols.append(f'{c}_ix')"
   ]
  },
  {
   "cell_type": "code",
   "execution_count": 29,
   "metadata": {},
   "outputs": [],
   "source": [
    "from pyspark.sql.types import IntegerType\n",
    "df = df.withColumn(\"C20_1int\", df['C20_1'].cast(IntegerType()))\n",
    "catCols.remove('C20_1')\n",
    "catCols.append('C20_1int')"
   ]
  },
  {
   "cell_type": "code",
   "execution_count": 30,
   "metadata": {},
   "outputs": [],
   "source": [
    "encoder = OneHotEncoderEstimator(inputCols=catCols, outputCols=[c + 'Enc' for c in catCols])\n",
    "enc_model = encoder.fit(df)\n",
    "encoded = enc_model.transform(df)"
   ]
  },
  {
   "cell_type": "code",
   "execution_count": 31,
   "metadata": {},
   "outputs": [],
   "source": [
    "trainCols = [c for c in encoded.columns if c.endswith('Enc')] + ['day', 'hour', 'dayofweek']"
   ]
  },
  {
   "cell_type": "code",
   "execution_count": 32,
   "metadata": {},
   "outputs": [],
   "source": [
    "encoded = encoded.withColumn('label', encoded['click'].cast(IntegerType()))"
   ]
  },
  {
   "cell_type": "code",
   "execution_count": 33,
   "metadata": {},
   "outputs": [],
   "source": [
    "from pyspark.ml.classification import LogisticRegression"
   ]
  },
  {
   "cell_type": "code",
   "execution_count": 34,
   "metadata": {},
   "outputs": [],
   "source": [
    "from pyspark.ml.feature import VectorAssembler"
   ]
  },
  {
   "cell_type": "code",
   "execution_count": 35,
   "metadata": {},
   "outputs": [],
   "source": [
    "va = VectorAssembler(inputCols=trainCols, outputCol='features')\n",
    "encoded = va.transform(encoded)"
   ]
  },
  {
   "cell_type": "code",
   "execution_count": 36,
   "metadata": {},
   "outputs": [],
   "source": [
    "lr = LogisticRegression(featuresCol='features', labelCol='label')"
   ]
  },
  {
   "cell_type": "code",
   "execution_count": 37,
   "metadata": {},
   "outputs": [],
   "source": [
    "model = lr.fit(encoded)"
   ]
  },
  {
   "cell_type": "code",
   "execution_count": 38,
   "metadata": {},
   "outputs": [],
   "source": [
    "result = model.evaluate(encoded)"
   ]
  },
  {
   "cell_type": "code",
   "execution_count": 39,
   "metadata": {},
   "outputs": [
    {
     "data": {
      "text/plain": [
       "0.837024837024837"
      ]
     },
     "execution_count": 39,
     "metadata": {},
     "output_type": "execute_result"
    }
   ],
   "source": [
    "result.accuracy"
   ]
  },
  {
   "cell_type": "code",
   "execution_count": 40,
   "metadata": {},
   "outputs": [
    {
     "data": {
      "text/plain": [
       "0.76182744964116"
      ]
     },
     "execution_count": 40,
     "metadata": {},
     "output_type": "execute_result"
    }
   ],
   "source": [
    "result.areaUnderROC"
   ]
  },
  {
   "cell_type": "code",
   "execution_count": 41,
   "metadata": {},
   "outputs": [
    {
     "data": {
      "text/plain": [
       "[Row(avg(label)=0.1698051698051698)]"
      ]
     },
     "execution_count": 41,
     "metadata": {},
     "output_type": "execute_result"
    }
   ],
   "source": [
    "encoded.agg({'label': 'mean'}).collect()"
   ]
  },
  {
   "cell_type": "code",
   "execution_count": 42,
   "metadata": {},
   "outputs": [
    {
     "data": {
      "text/plain": [
       "0.8302"
      ]
     },
     "execution_count": 42,
     "metadata": {},
     "output_type": "execute_result"
    }
   ],
   "source": [
    "1 - 0.16980"
   ]
  },
  {
   "cell_type": "code",
   "execution_count": 43,
   "metadata": {},
   "outputs": [
    {
     "data": {
      "text/plain": [
       "[0.8428764210312105, 0.6263598016724635]"
      ]
     },
     "execution_count": 43,
     "metadata": {},
     "output_type": "execute_result"
    }
   ],
   "source": [
    "result.precisionByLabel"
   ]
  },
  {
   "cell_type": "code",
   "execution_count": 32,
   "metadata": {},
   "outputs": [
    {
     "data": {
      "text/plain": [
       "<pyspark.ml.classification.BinaryLogisticRegressionSummary at 0x7f6e98ee6780>"
      ]
     },
     "execution_count": 32,
     "metadata": {},
     "output_type": "execute_result"
    }
   ],
   "source": [
    "result"
   ]
  },
  {
   "cell_type": "code",
   "execution_count": 44,
   "metadata": {},
   "outputs": [
    {
     "data": {
      "text/plain": [
       "[0.9878365779564776, 0.0996908218250346]"
      ]
     },
     "execution_count": 44,
     "metadata": {},
     "output_type": "execute_result"
    }
   ],
   "source": [
    "result.recallByLabel"
   ]
  },
  {
   "cell_type": "code",
   "execution_count": 45,
   "metadata": {},
   "outputs": [],
   "source": [
    "roc = result.roc.toPandas()"
   ]
  },
  {
   "cell_type": "code",
   "execution_count": 46,
   "metadata": {},
   "outputs": [
    {
     "data": {
      "text/html": [
       "<div>\n",
       "<style scoped>\n",
       "    .dataframe tbody tr th:only-of-type {\n",
       "        vertical-align: middle;\n",
       "    }\n",
       "\n",
       "    .dataframe tbody tr th {\n",
       "        vertical-align: top;\n",
       "    }\n",
       "\n",
       "    .dataframe thead th {\n",
       "        text-align: right;\n",
       "    }\n",
       "</style>\n",
       "<table border=\"1\" class=\"dataframe\">\n",
       "  <thead>\n",
       "    <tr style=\"text-align: right;\">\n",
       "      <th></th>\n",
       "      <th>FPR</th>\n",
       "      <th>TPR</th>\n",
       "    </tr>\n",
       "  </thead>\n",
       "  <tbody>\n",
       "    <tr>\n",
       "      <th>0</th>\n",
       "      <td>0.000000</td>\n",
       "      <td>0.000000</td>\n",
       "    </tr>\n",
       "    <tr>\n",
       "      <th>1</th>\n",
       "      <td>0.002581</td>\n",
       "      <td>0.038432</td>\n",
       "    </tr>\n",
       "    <tr>\n",
       "      <th>2</th>\n",
       "      <td>0.006462</td>\n",
       "      <td>0.066859</td>\n",
       "    </tr>\n",
       "    <tr>\n",
       "      <th>3</th>\n",
       "      <td>0.010800</td>\n",
       "      <td>0.093089</td>\n",
       "    </tr>\n",
       "    <tr>\n",
       "      <th>4</th>\n",
       "      <td>0.015669</td>\n",
       "      <td>0.115998</td>\n",
       "    </tr>\n",
       "  </tbody>\n",
       "</table>\n",
       "</div>"
      ],
      "text/plain": [
       "        FPR       TPR\n",
       "0  0.000000  0.000000\n",
       "1  0.002581  0.038432\n",
       "2  0.006462  0.066859\n",
       "3  0.010800  0.093089\n",
       "4  0.015669  0.115998"
      ]
     },
     "execution_count": 46,
     "metadata": {},
     "output_type": "execute_result"
    }
   ],
   "source": [
    "roc.head()"
   ]
  },
  {
   "cell_type": "code",
   "execution_count": 48,
   "metadata": {},
   "outputs": [],
   "source": [
    "import matplotlib.pyplot as plt\n",
    "%matplotlib inline"
   ]
  },
  {
   "cell_type": "code",
   "execution_count": 49,
   "metadata": {},
   "outputs": [
    {
     "data": {
      "text/plain": [
       "[<matplotlib.lines.Line2D at 0x7fd668192550>]"
      ]
     },
     "execution_count": 49,
     "metadata": {},
     "output_type": "execute_result"
    },
    {
     "data": {
      "image/png": "[encoded data removed]",
      "text/plain": [
       "<Figure size 432x288 with 1 Axes>"
      ]
     },
     "metadata": {
      "needs_background": "light"
     },
     "output_type": "display_data"
    }
   ],
   "source": [
    "plt.plot(roc['FPR'], roc['TPR'])\n",
    "plt.plot([0, 1], [0, 1], 'b--')"
   ]
  },
  {
   "cell_type": "code",
   "execution_count": null,
   "metadata": {},
   "outputs": [],
   "source": []
  }
 ],
 "metadata": {
  "kernelspec": {
   "display_name": "Python 3",
   "language": "python",
   "name": "python3"
  },
  "language_info": {
   "codemirror_mode": {
    "name": "ipython",
    "version": 3
   },
   "file_extension": ".py",
   "mimetype": "text/x-python",
   "name": "python",
   "nbconvert_exporter": "python",
   "pygments_lexer": "ipython3",
   "version": "3.6.8"
  }
 },
 "nbformat": 4,
 "nbformat_minor": 4
}
