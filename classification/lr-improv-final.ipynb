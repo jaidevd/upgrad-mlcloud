{
 "cells": [
  {
   "cell_type": "code",
   "execution_count": 1,
   "metadata": {},
   "outputs": [
    {
     "data": {
      "application/vnd.jupyter.widget-view+json": {
       "model_id": "6f094c25729e47c8b5bbfcc28297762e",
       "version_major": 2,
       "version_minor": 0
      },
      "text/plain": [
       "VBox()"
      ]
     },
     "metadata": {},
     "output_type": "display_data"
    },
    {
     "name": "stdout",
     "output_type": "stream",
     "text": [
      "Starting Spark application\n"
     ]
    },
    {
     "data": {
      "text/html": [
       "<table>\n",
       "<tr><th>ID</th><th>YARN Application ID</th><th>Kind</th><th>State</th><th>Spark UI</th><th>Driver log</th><th>Current session?</th></tr><tr><td>1</td><td>application_1589649955619_0002</td><td>pyspark</td><td>idle</td><td><a target=\"_blank\" href=\"http://ip-172-31-89-233.ec2.internal:20888/proxy/application_1589649955619_0002/\">Link</a></td><td><a target=\"_blank\" href=\"http://ip-172-31-88-93.ec2.internal:8042/node/containerlogs/container_1589649955619_0002_01_000001/livy\">Link</a></td><td>✔</td></tr></table>"
      ],
      "text/plain": [
       "<IPython.core.display.HTML object>"
      ]
     },
     "metadata": {},
     "output_type": "display_data"
    },
    {
     "data": {
      "application/vnd.jupyter.widget-view+json": {
       "model_id": "",
       "version_major": 2,
       "version_minor": 0
      },
      "text/plain": [
       "FloatProgress(value=0.0, bar_style='info', description='Progress:', layout=Layout(height='25px', width='50%'),…"
      ]
     },
     "metadata": {},
     "output_type": "display_data"
    },
    {
     "name": "stdout",
     "output_type": "stream",
     "text": [
      "SparkSession available as 'spark'.\n"
     ]
    },
    {
     "data": {
      "application/vnd.jupyter.widget-view+json": {
       "model_id": "",
       "version_major": 2,
       "version_minor": 0
      },
      "text/plain": [
       "FloatProgress(value=0.0, bar_style='info', description='Progress:', layout=Layout(height='25px', width='50%'),…"
      ]
     },
     "metadata": {},
     "output_type": "display_data"
    },
    {
     "name": "stdout",
     "output_type": "stream",
     "text": [
      "root\n",
      " |-- click: boolean (nullable = true)\n",
      " |-- C1: integer (nullable = true)\n",
      " |-- banner_pos: integer (nullable = true)\n",
      " |-- site_id: string (nullable = true)\n",
      " |-- site_domain: string (nullable = true)\n",
      " |-- site_category: string (nullable = true)\n",
      " |-- app_id: string (nullable = true)\n",
      " |-- app_domain: string (nullable = true)\n",
      " |-- app_category: string (nullable = true)\n",
      " |-- device_id: string (nullable = true)\n",
      " |-- device_ip: string (nullable = true)\n",
      " |-- device_model: string (nullable = true)\n",
      " |-- device_type: integer (nullable = true)\n",
      " |-- device_conn_type: integer (nullable = true)\n",
      " |-- C14: integer (nullable = true)\n",
      " |-- C15: integer (nullable = true)\n",
      " |-- C16: integer (nullable = true)\n",
      " |-- C17: integer (nullable = true)\n",
      " |-- C18: integer (nullable = true)\n",
      " |-- C19: integer (nullable = true)\n",
      " |-- C20: integer (nullable = true)\n",
      " |-- C21: integer (nullable = true)\n",
      " |-- month: integer (nullable = true)\n",
      " |-- dayofweek: integer (nullable = true)\n",
      " |-- day: integer (nullable = true)\n",
      " |-- hour: integer (nullable = true)\n",
      " |-- y: integer (nullable = true)"
     ]
    }
   ],
   "source": [
    "df = sqlContext.read.csv('s3a://sparkdemonstration/10M.csv', header=True, inferSchema=True)\n",
    "\n",
    "from pyspark.sql.types import IntegerType\n",
    "from math import floor\n",
    "from pyspark.sql.functions import rand\n",
    "from pyspark.sql.functions import col\n",
    "\n",
    "def stratifiedSample(df, N, labelCol=\"y\"):\n",
    "    ctx = df.groupby(labelCol).count()\n",
    "    ctx = ctx.withColumn('frac', col(\"count\") / df.count())\n",
    "    frac = ctx.select(\"y\", \"frac\").rdd.collectAsMap()\n",
    "    pos = int(floor(frac[1] * N))\n",
    "    neg = int(floor(frac[0] * N))\n",
    "    posDF = df.filter(col(labelCol) == 1).orderBy(rand()).limit(pos)\n",
    "    negDF = df.filter(col(labelCol) == 0).orderBy(rand()).limit(neg)\n",
    "    return posDF.unionAll(negDF).orderBy(rand())\n",
    "\n",
    "df = df.withColumn(\"y\", df[\"click\"].cast(IntegerType()))\n",
    "xdf = stratifiedSample(df, 500_000)\n",
    "\n",
    "xdf.printSchema()"
   ]
  },
  {
   "cell_type": "code",
   "execution_count": 5,
   "metadata": {},
   "outputs": [
    {
     "data": {
      "application/vnd.jupyter.widget-view+json": {
       "model_id": "1c34e6b049b24e18b3281d44b6bcf000",
       "version_major": 2,
       "version_minor": 0
      },
      "text/plain": [
       "VBox()"
      ]
     },
     "metadata": {},
     "output_type": "display_data"
    },
    {
     "data": {
      "application/vnd.jupyter.widget-view+json": {
       "model_id": "",
       "version_major": 2,
       "version_minor": 0
      },
      "text/plain": [
       "FloatProgress(value=0.0, bar_style='info', description='Progress:', layout=Layout(height='25px', width='50%'),…"
      ]
     },
     "metadata": {},
     "output_type": "display_data"
    }
   ],
   "source": [
    "cCols = ['C1', 'banner_pos', 'site_domain', 'site_category', 'app_domain',\n",
    "           'app_category', 'device_model', 'device_type', 'device_conn_type']\n",
    "cCols += ['C{}'.format(i) for i in range(14, 22)]\n",
    "#xdf.select(*cCols).show()"
   ]
  },
  {
   "cell_type": "code",
   "execution_count": 6,
   "metadata": {},
   "outputs": [
    {
     "data": {
      "application/vnd.jupyter.widget-view+json": {
       "model_id": "f4865b28c20e4c9a8a60f47db47d206d",
       "version_major": 2,
       "version_minor": 0
      },
      "text/plain": [
       "VBox()"
      ]
     },
     "metadata": {},
     "output_type": "display_data"
    },
    {
     "data": {
      "application/vnd.jupyter.widget-view+json": {
       "model_id": "",
       "version_major": 2,
       "version_minor": 0
      },
      "text/plain": [
       "FloatProgress(value=0.0, bar_style='info', description='Progress:', layout=Layout(height='25px', width='50%'),…"
      ]
     },
     "metadata": {},
     "output_type": "display_data"
    }
   ],
   "source": [
    "from pyspark.ml.feature import StringIndexer, OneHotEncoderEstimator, VectorAssembler\n",
    "\n",
    "stringCols = ['site_domain', 'site_category', 'app_domain', 'app_category', 'device_model']\n",
    "for c in stringCols:\n",
    "    outCol = c + '_ix'\n",
    "    si = StringIndexer(inputCol=c, outputCol=outCol)\n",
    "    xdf = si.fit(xdf).transform(xdf)"
   ]
  },
  {
   "cell_type": "code",
   "execution_count": 7,
   "metadata": {},
   "outputs": [
    {
     "data": {
      "application/vnd.jupyter.widget-view+json": {
       "model_id": "6f0ec4fc26b74e94a0e649e52b807d67",
       "version_major": 2,
       "version_minor": 0
      },
      "text/plain": [
       "VBox()"
      ]
     },
     "metadata": {},
     "output_type": "display_data"
    },
    {
     "data": {
      "application/vnd.jupyter.widget-view+json": {
       "model_id": "",
       "version_major": 2,
       "version_minor": 0
      },
      "text/plain": [
       "FloatProgress(value=0.0, bar_style='info', description='Progress:', layout=Layout(height='25px', width='50%'),…"
      ]
     },
     "metadata": {},
     "output_type": "display_data"
    }
   ],
   "source": [
    "from pyspark.sql.functions import udf\n",
    "from pyspark.sql.types import IntegerType\n",
    "\n",
    "posMapper = udf(lambda x: 0 if x < 0 else x)\n",
    "xdf = xdf.withColumn('C20_1', posMapper(xdf['C20']))\n",
    "xdf = xdf.withColumn(\"C20_1int\", xdf['C20_1'].cast(IntegerType()))\n",
    "\n",
    "categoricalCols = [c+'_ix' for c in ['site_domain', 'site_category', 'app_domain', 'app_category', 'device_model']]\n",
    "categoricalCols += ['C1', 'C14', 'C15', 'C16', 'C17', 'C19', 'C20_1int', 'C21']"
   ]
  },
  {
   "cell_type": "code",
   "execution_count": 8,
   "metadata": {},
   "outputs": [
    {
     "data": {
      "application/vnd.jupyter.widget-view+json": {
       "model_id": "3755faab25fc49c0988198f15fe159b2",
       "version_major": 2,
       "version_minor": 0
      },
      "text/plain": [
       "VBox()"
      ]
     },
     "metadata": {},
     "output_type": "display_data"
    },
    {
     "data": {
      "application/vnd.jupyter.widget-view+json": {
       "model_id": "",
       "version_major": 2,
       "version_minor": 0
      },
      "text/plain": [
       "FloatProgress(value=0.0, bar_style='info', description='Progress:', layout=Layout(height='25px', width='50%'),…"
      ]
     },
     "metadata": {},
     "output_type": "display_data"
    }
   ],
   "source": [
    "ohe = OneHotEncoderEstimator(inputCols=categoricalCols, outputCols=[c+'Enc' for c in categoricalCols])\n",
    "enc_model = ohe.fit(xdf)\n",
    "xdf = enc_model.transform(xdf)"
   ]
  },
  {
   "cell_type": "code",
   "execution_count": 9,
   "metadata": {},
   "outputs": [
    {
     "data": {
      "application/vnd.jupyter.widget-view+json": {
       "model_id": "6820df38ccde40af9af1bf500e2bdb96",
       "version_major": 2,
       "version_minor": 0
      },
      "text/plain": [
       "VBox()"
      ]
     },
     "metadata": {},
     "output_type": "display_data"
    },
    {
     "data": {
      "application/vnd.jupyter.widget-view+json": {
       "model_id": "",
       "version_major": 2,
       "version_minor": 0
      },
      "text/plain": [
       "FloatProgress(value=0.0, bar_style='info', description='Progress:', layout=Layout(height='25px', width='50%'),…"
      ]
     },
     "metadata": {},
     "output_type": "display_data"
    },
    {
     "name": "stdout",
     "output_type": "stream",
     "text": [
      "+-----+\n",
      "|month|\n",
      "+-----+\n",
      "|   10|\n",
      "+-----+"
     ]
    }
   ],
   "source": [
    "trainCols = [c+'Enc' for c in categoricalCols]\n",
    "trainCols += ['hour', 'day', 'dayofweek']\n",
    "xdf.select('month').distinct().show()"
   ]
  },
  {
   "cell_type": "code",
   "execution_count": 10,
   "metadata": {},
   "outputs": [
    {
     "data": {
      "application/vnd.jupyter.widget-view+json": {
       "model_id": "1e2b20595b364ad1b19656efd25819df",
       "version_major": 2,
       "version_minor": 0
      },
      "text/plain": [
       "VBox()"
      ]
     },
     "metadata": {},
     "output_type": "display_data"
    },
    {
     "data": {
      "application/vnd.jupyter.widget-view+json": {
       "model_id": "",
       "version_major": 2,
       "version_minor": 0
      },
      "text/plain": [
       "FloatProgress(value=0.0, bar_style='info', description='Progress:', layout=Layout(height='25px', width='50%'),…"
      ]
     },
     "metadata": {},
     "output_type": "display_data"
    }
   ],
   "source": [
    "assembler = VectorAssembler(inputCols=trainCols, outputCol='features')\n",
    "xdf = assembler.transform(xdf)"
   ]
  },
  {
   "cell_type": "code",
   "execution_count": 12,
   "metadata": {},
   "outputs": [
    {
     "data": {
      "application/vnd.jupyter.widget-view+json": {
       "model_id": "c941294d4621465ca41fee3d5dd3d6de",
       "version_major": 2,
       "version_minor": 0
      },
      "text/plain": [
       "VBox()"
      ]
     },
     "metadata": {},
     "output_type": "display_data"
    },
    {
     "data": {
      "application/vnd.jupyter.widget-view+json": {
       "model_id": "",
       "version_major": 2,
       "version_minor": 0
      },
      "text/plain": [
       "FloatProgress(value=0.0, bar_style='info', description='Progress:', layout=Layout(height='25px', width='50%'),…"
      ]
     },
     "metadata": {},
     "output_type": "display_data"
    }
   ],
   "source": [
    "from pyspark.ml.classification import LogisticRegression\n",
    "\n",
    "lr = LogisticRegression(featuresCol='features', labelCol='y')\n",
    "model = lr.fit(xdf)\n",
    "result = model.evaluate(xdf)"
   ]
  },
  {
   "cell_type": "code",
   "execution_count": 14,
   "metadata": {},
   "outputs": [
    {
     "data": {
      "application/vnd.jupyter.widget-view+json": {
       "model_id": "79726403774d4e47a3060b73878ec797",
       "version_major": 2,
       "version_minor": 0
      },
      "text/plain": [
       "VBox()"
      ]
     },
     "metadata": {},
     "output_type": "display_data"
    },
    {
     "data": {
      "application/vnd.jupyter.widget-view+json": {
       "model_id": "",
       "version_major": 2,
       "version_minor": 0
      },
      "text/plain": [
       "FloatProgress(value=0.0, bar_style='info', description='Progress:', layout=Layout(height='25px', width='50%'),…"
      ]
     },
     "metadata": {},
     "output_type": "display_data"
    },
    {
     "name": "stdout",
     "output_type": "stream",
     "text": [
      "0.754245328919811"
     ]
    }
   ],
   "source": [
    "result.areaUnderROC"
   ]
  },
  {
   "cell_type": "code",
   "execution_count": 15,
   "metadata": {},
   "outputs": [
    {
     "data": {
      "application/vnd.jupyter.widget-view+json": {
       "model_id": "868a877a7b174d099bc73d5f3f0dc49b",
       "version_major": 2,
       "version_minor": 0
      },
      "text/plain": [
       "VBox()"
      ]
     },
     "metadata": {},
     "output_type": "display_data"
    },
    {
     "data": {
      "application/vnd.jupyter.widget-view+json": {
       "model_id": "",
       "version_major": 2,
       "version_minor": 0
      },
      "text/plain": [
       "FloatProgress(value=0.0, bar_style='info', description='Progress:', layout=Layout(height='25px', width='50%'),…"
      ]
     },
     "metadata": {},
     "output_type": "display_data"
    },
    {
     "name": "stdout",
     "output_type": "stream",
     "text": [
      "[0.9879955769374387, 0.09568679183058114]"
     ]
    }
   ],
   "source": [
    "result.recallByLabel"
   ]
  },
  {
   "cell_type": "markdown",
   "metadata": {},
   "source": [
    "## Using L1 Regularization\n",
    "### For L1, set `elasticNetParam = 1` and for L2, set `elasticNetParam = 0`"
   ]
  },
  {
   "cell_type": "code",
   "execution_count": 16,
   "metadata": {},
   "outputs": [
    {
     "data": {
      "application/vnd.jupyter.widget-view+json": {
       "model_id": "e4cb8a7796a34f3c8eb519b389e1a41a",
       "version_major": 2,
       "version_minor": 0
      },
      "text/plain": [
       "VBox()"
      ]
     },
     "metadata": {},
     "output_type": "display_data"
    },
    {
     "data": {
      "application/vnd.jupyter.widget-view+json": {
       "model_id": "",
       "version_major": 2,
       "version_minor": 0
      },
      "text/plain": [
       "FloatProgress(value=0.0, bar_style='info', description='Progress:', layout=Layout(height='25px', width='50%'),…"
      ]
     },
     "metadata": {},
     "output_type": "display_data"
    }
   ],
   "source": [
    "lr = LogisticRegression(featuresCol='features', labelCol='y', elasticNetParam=1, regParam=0.001)\n",
    "model = lr.fit(xdf)\n",
    "result = model.evaluate(xdf)"
   ]
  },
  {
   "cell_type": "code",
   "execution_count": 17,
   "metadata": {},
   "outputs": [
    {
     "data": {
      "application/vnd.jupyter.widget-view+json": {
       "model_id": "5b4628497c474925941c2913c389d7a9",
       "version_major": 2,
       "version_minor": 0
      },
      "text/plain": [
       "VBox()"
      ]
     },
     "metadata": {},
     "output_type": "display_data"
    },
    {
     "data": {
      "application/vnd.jupyter.widget-view+json": {
       "model_id": "",
       "version_major": 2,
       "version_minor": 0
      },
      "text/plain": [
       "FloatProgress(value=0.0, bar_style='info', description='Progress:', layout=Layout(height='25px', width='50%'),…"
      ]
     },
     "metadata": {},
     "output_type": "display_data"
    },
    {
     "name": "stdout",
     "output_type": "stream",
     "text": [
      "[0.9923054129516715, 0.0600692563190502]"
     ]
    }
   ],
   "source": [
    "result.recallByLabel"
   ]
  },
  {
   "cell_type": "code",
   "execution_count": 20,
   "metadata": {},
   "outputs": [
    {
     "data": {
      "application/vnd.jupyter.widget-view+json": {
       "model_id": "eb958a8657e04246972f9818f639b1d0",
       "version_major": 2,
       "version_minor": 0
      },
      "text/plain": [
       "VBox()"
      ]
     },
     "metadata": {},
     "output_type": "display_data"
    },
    {
     "data": {
      "application/vnd.jupyter.widget-view+json": {
       "model_id": "",
       "version_major": 2,
       "version_minor": 0
      },
      "text/plain": [
       "FloatProgress(value=0.0, bar_style='info', description='Progress:', layout=Layout(height='25px', width='50%'),…"
      ]
     },
     "metadata": {},
     "output_type": "display_data"
    }
   ],
   "source": [
    "lr = LogisticRegression(featuresCol='features', labelCol='y', elasticNetParam=1, regParam=0.0001)\n",
    "model = lr.fit(xdf)\n",
    "result = model.evaluate(xdf)"
   ]
  },
  {
   "cell_type": "code",
   "execution_count": 21,
   "metadata": {},
   "outputs": [
    {
     "data": {
      "application/vnd.jupyter.widget-view+json": {
       "model_id": "67323e930b874bc6b4cb7ff984cef072",
       "version_major": 2,
       "version_minor": 0
      },
      "text/plain": [
       "VBox()"
      ]
     },
     "metadata": {},
     "output_type": "display_data"
    },
    {
     "data": {
      "application/vnd.jupyter.widget-view+json": {
       "model_id": "",
       "version_major": 2,
       "version_minor": 0
      },
      "text/plain": [
       "FloatProgress(value=0.0, bar_style='info', description='Progress:', layout=Layout(height='25px', width='50%'),…"
      ]
     },
     "metadata": {},
     "output_type": "display_data"
    },
    {
     "name": "stdout",
     "output_type": "stream",
     "text": [
      "[0.9886026639556538, 0.09189418388259404]"
     ]
    }
   ],
   "source": [
    "result.recallByLabel"
   ]
  },
  {
   "cell_type": "code",
   "execution_count": 22,
   "metadata": {},
   "outputs": [
    {
     "data": {
      "application/vnd.jupyter.widget-view+json": {
       "model_id": "442678d8147f40a6aebb467f874316c6",
       "version_major": 2,
       "version_minor": 0
      },
      "text/plain": [
       "VBox()"
      ]
     },
     "metadata": {},
     "output_type": "display_data"
    },
    {
     "data": {
      "application/vnd.jupyter.widget-view+json": {
       "model_id": "",
       "version_major": 2,
       "version_minor": 0
      },
      "text/plain": [
       "FloatProgress(value=0.0, bar_style='info', description='Progress:', layout=Layout(height='25px', width='50%'),…"
      ]
     },
     "metadata": {},
     "output_type": "display_data"
    }
   ],
   "source": [
    "lr = LogisticRegression(featuresCol='features', labelCol='y', elasticNetParam=1, regParam=0.01)\n",
    "model = lr.fit(xdf)\n",
    "result = model.evaluate(xdf)"
   ]
  },
  {
   "cell_type": "code",
   "execution_count": 23,
   "metadata": {},
   "outputs": [
    {
     "data": {
      "application/vnd.jupyter.widget-view+json": {
       "model_id": "9838d705b9c0454cab0e11290c28db43",
       "version_major": 2,
       "version_minor": 0
      },
      "text/plain": [
       "VBox()"
      ]
     },
     "metadata": {},
     "output_type": "display_data"
    },
    {
     "data": {
      "application/vnd.jupyter.widget-view+json": {
       "model_id": "",
       "version_major": 2,
       "version_minor": 0
      },
      "text/plain": [
       "FloatProgress(value=0.0, bar_style='info', description='Progress:', layout=Layout(height='25px', width='50%'),…"
      ]
     },
     "metadata": {},
     "output_type": "display_data"
    },
    {
     "name": "stdout",
     "output_type": "stream",
     "text": [
      "[0.9994483217175745, 0.006678287908412052]"
     ]
    }
   ],
   "source": [
    "result.recallByLabel"
   ]
  },
  {
   "cell_type": "code",
   "execution_count": 34,
   "metadata": {},
   "outputs": [
    {
     "data": {
      "application/vnd.jupyter.widget-view+json": {
       "model_id": "03debae4ecc341fabe486860bd137ab5",
       "version_major": 2,
       "version_minor": 0
      },
      "text/plain": [
       "VBox()"
      ]
     },
     "metadata": {},
     "output_type": "display_data"
    },
    {
     "data": {
      "application/vnd.jupyter.widget-view+json": {
       "model_id": "",
       "version_major": 2,
       "version_minor": 0
      },
      "text/plain": [
       "FloatProgress(value=0.0, bar_style='info', description='Progress:', layout=Layout(height='25px', width='50%'),…"
      ]
     },
     "metadata": {},
     "output_type": "display_data"
    }
   ],
   "source": [
    "test = stratifiedSample(xdf, 100)"
   ]
  },
  {
   "cell_type": "code",
   "execution_count": 35,
   "metadata": {},
   "outputs": [
    {
     "data": {
      "application/vnd.jupyter.widget-view+json": {
       "model_id": "3c4b4bbb2ab14ad7a7172e7910c2cafd",
       "version_major": 2,
       "version_minor": 0
      },
      "text/plain": [
       "VBox()"
      ]
     },
     "metadata": {},
     "output_type": "display_data"
    },
    {
     "data": {
      "application/vnd.jupyter.widget-view+json": {
       "model_id": "",
       "version_major": 2,
       "version_minor": 0
      },
      "text/plain": [
       "FloatProgress(value=0.0, bar_style='info', description='Progress:', layout=Layout(height='25px', width='50%'),…"
      ]
     },
     "metadata": {},
     "output_type": "display_data"
    }
   ],
   "source": [
    "test_results = model.evaluate(test)"
   ]
  },
  {
   "cell_type": "code",
   "execution_count": 40,
   "metadata": {},
   "outputs": [
    {
     "data": {
      "application/vnd.jupyter.widget-view+json": {
       "model_id": "d35294615e5749e78adb2b940cc3d5a7",
       "version_major": 2,
       "version_minor": 0
      },
      "text/plain": [
       "VBox()"
      ]
     },
     "metadata": {},
     "output_type": "display_data"
    },
    {
     "data": {
      "application/vnd.jupyter.widget-view+json": {
       "model_id": "",
       "version_major": 2,
       "version_minor": 0
      },
      "text/plain": [
       "FloatProgress(value=0.0, bar_style='info', description='Progress:', layout=Layout(height='25px', width='50%'),…"
      ]
     },
     "metadata": {},
     "output_type": "display_data"
    },
    {
     "name": "stdout",
     "output_type": "stream",
     "text": [
      "+-----+----+----------+--------+-----------+-------------+--------+----------+------------+---------+---------+------------+-----------+----------------+-----+---+---+----+---+----+------+---+-----+---------+---+----+---+--------------+----------------+-------------+---------------+---------------+------+--------+------------------+-----------------+-------------------+----------------+------------------+------------------+-------------------+--------------------+-------------------+-------------------+-------------------+------------------+--------------------+--------------------+--------------------+--------------------+----------+\n",
      "|click|  C1|banner_pos| site_id|site_domain|site_category|  app_id|app_domain|app_category|device_id|device_ip|device_model|device_type|device_conn_type|  C14|C15|C16| C17|C18| C19|   C20|C21|month|dayofweek|day|hour|  y|site_domain_ix|site_category_ix|app_domain_ix|app_category_ix|device_model_ix| C20_1|C20_1int|            C15Enc|           C21Enc|             C17Enc|app_domain_ixEnc|app_category_ixEnc|device_model_ixEnc|             C19Enc|              C14Enc|site_category_ixEnc|              C1Enc|  site_domain_ixEnc|            C16Enc|         C20_1intEnc|            features|       rawPrediction|         probability|prediction|\n",
      "+-----+----+----------+--------+-----------+-------------+--------+----------+------------+---------+---------+------------+-----------+----------------+-----+---+---+----+---+----+------+---+-----+---------+---+----+---+--------------+----------------+-------------+---------------+---------------+------+--------+------------------+-----------------+-------------------+----------------+------------------+------------------+-------------------+--------------------+-------------------+-------------------+-------------------+------------------+--------------------+--------------------+--------------------+--------------------+----------+\n",
      "|false|1005|         0|85f751fd|   c4e18dd6|     50e219e0|54c5d545|  2347f47a|    0f2161f8| f8db2401| 346313fb|    c6263d8a|          1|               0|17016|320| 50|1873|  3|  39|    -1| 23|   10|        2| 22|  17|  0|           0.0|             0.0|          1.0|            1.0|           15.0|     0|       0|(1024,[320],[1.0])| (255,[23],[1.0])|(2757,[1873],[1.0])| (163,[1],[1.0])|    (23,[1],[1.0])| (4569,[15],[1.0])|  (1839,[39],[1.0])|(24043,[17016],[1...|     (19,[0],[1.0])|(1012,[1005],[1.0])|   (2279,[0],[1.0])| (1024,[50],[1.0])|  (100248,[0],[1.0])|(139258,[0,2279,2...|[1.62572101765986...|[0.83558261758412...|       0.0|\n",
      "|false|1005|         1|0a742914|   510bd839|     f028772b|ecad2386|  7801e8d9|    07d7df22| a99f214a| b677587d|    8a4875bd|          1|               0|21995|320| 50|2533|  0| 675|100081| 48|   10|        3| 23|   5|  0|          16.0|             1.0|          0.0|            0.0|            0.0|100081|  100081|(1024,[320],[1.0])| (255,[48],[1.0])|(2757,[2533],[1.0])| (163,[0],[1.0])|    (23,[0],[1.0])|  (4569,[0],[1.0])| (1839,[675],[1.0])|(24043,[21995],[1...|     (19,[1],[1.0])|(1012,[1005],[1.0])|  (2279,[16],[1.0])| (1024,[50],[1.0])|(100248,[100081],...|(139258,[16,2280,...|[1.72279218118393...|[0.84848813741970...|       0.0|\n",
      "|false|1005|         0|1fbe01fe|   f3845767|     28905ebd|ecad2386|  7801e8d9|    07d7df22| a99f214a| 8bc4198d|    5096d134|          1|               0|22257|320| 50|2545|  0| 431|100084|221|   10|        3| 30|  15|  0|           1.0|             2.0|          0.0|            0.0|           10.0|100084|  100084|(1024,[320],[1.0])|(255,[221],[1.0])|(2757,[2545],[1.0])| (163,[0],[1.0])|    (23,[0],[1.0])| (4569,[10],[1.0])| (1839,[431],[1.0])|(24043,[22257],[1...|     (19,[2],[1.0])|(1012,[1005],[1.0])|   (2279,[1],[1.0])| (1024,[50],[1.0])|(100248,[100084],...|(139258,[1,2281,2...|[1.52584340160994...|[0.82139734006084...|       0.0|\n",
      "| true|1005|         0|83a0ad1a|   5c9ae867|     f028772b|ecad2386|  7801e8d9|    07d7df22| a99f214a| 7e71e471|    84ebbcd4|          1|               0|15702|320| 50|1722|  0|  35|    -1| 79|   10|        3| 30|  21|  1|          15.0|             1.0|          0.0|            0.0|           14.0|     0|       0|(1024,[320],[1.0])| (255,[79],[1.0])|(2757,[1722],[1.0])| (163,[0],[1.0])|    (23,[0],[1.0])| (4569,[14],[1.0])|  (1839,[35],[1.0])|(24043,[15702],[1...|     (19,[1],[1.0])|(1012,[1005],[1.0])|  (2279,[15],[1.0])| (1024,[50],[1.0])|  (100248,[0],[1.0])|(139258,[15,2280,...|[1.72279218118393...|[0.84848813741970...|       0.0|\n",
      "|false|1005|         0|a0d2d4e4|   73123598|     28905ebd|ecad2386|  7801e8d9|    07d7df22| a99f214a| d7bd86c4|    24f6b932|          1|               0|17212|320| 50|1887|  3|  39|    -1| 23|   10|        2| 22|  12|  0|         109.0|             2.0|          0.0|            0.0|           39.0|     0|       0|(1024,[320],[1.0])| (255,[23],[1.0])|(2757,[1887],[1.0])| (163,[0],[1.0])|    (23,[0],[1.0])| (4569,[39],[1.0])|  (1839,[39],[1.0])|(24043,[17212],[1...|     (19,[2],[1.0])|(1012,[1005],[1.0])| (2279,[109],[1.0])| (1024,[50],[1.0])|  (100248,[0],[1.0])|(139258,[109,2281...|[1.41931454715331...|[0.80523093653629...|       0.0|\n",
      "|false|1005|         0|85f751fd|   c4e18dd6|     50e219e0|e2fcccd2|  5c5a694b|    0f2161f8| 0d688941| cf389ab3|    6d44e29a|          1|               0|18489|320| 50|2104|  3|1575|    -1|171|   10|        3| 30|  11|  0|           0.0|             0.0|          3.0|            1.0|           86.0|     0|       0|(1024,[320],[1.0])|(255,[171],[1.0])|(2757,[2104],[1.0])| (163,[3],[1.0])|    (23,[1],[1.0])| (4569,[86],[1.0])|(1839,[1575],[1.0])|(24043,[18489],[1...|     (19,[0],[1.0])|(1012,[1005],[1.0])|   (2279,[0],[1.0])| (1024,[50],[1.0])|  (100248,[0],[1.0])|(139258,[0,2279,2...|[1.88620126905716...|[0.86832179463855...|       0.0|\n",
      "|false|1005|         0|85f751fd|   c4e18dd6|     50e219e0|febd1138|  82e27996|    0f2161f8| a99f214a| dc6529f5|    99e427c9|          1|               0|21611|320| 50|2480|  3| 297|100111| 61|   10|        0| 27|   3|  0|           0.0|             0.0|          4.0|            1.0|           31.0|100111|  100111|(1024,[320],[1.0])| (255,[61],[1.0])|(2757,[2480],[1.0])| (163,[4],[1.0])|    (23,[1],[1.0])| (4569,[31],[1.0])| (1839,[297],[1.0])|(24043,[21611],[1...|     (19,[0],[1.0])|(1012,[1005],[1.0])|   (2279,[0],[1.0])| (1024,[50],[1.0])|(100248,[100111],...|(139258,[0,2279,2...|[2.18643975610354...|[0.89902517019168...|       0.0|\n",
      "|false|1005|         0|85f751fd|   c4e18dd6|     50e219e0|685d1c4c|  2347f47a|    8ded1f7a| a99f214a| 42b0a385|    1ccc7835|          1|               2|23224|320| 50|2676|  0| 299|    -1|221|   10|        3| 30|  16|  0|           0.0|             0.0|          1.0|            3.0|           12.0|     0|       0|(1024,[320],[1.0])|(255,[221],[1.0])|(2757,[2676],[1.0])| (163,[1],[1.0])|    (23,[3],[1.0])| (4569,[12],[1.0])| (1839,[299],[1.0])|(24043,[23224],[1...|     (19,[0],[1.0])|(1012,[1005],[1.0])|   (2279,[0],[1.0])| (1024,[50],[1.0])|  (100248,[0],[1.0])|(139258,[0,2279,2...|[1.88620126905716...|[0.86832179463855...|       0.0|\n",
      "|false|1005|         0|85f751fd|   c4e18dd6|     50e219e0|e2fcccd2|  5c5a694b|    0f2161f8| 73e74596| 39809c95|    1f0bc64f|          1|               0| 6560|320| 50| 571|  2|  39|100050| 32|   10|        4| 24|  21|  0|           0.0|             0.0|          3.0|            1.0|            1.0|100050|  100050|(1024,[320],[1.0])| (255,[32],[1.0])| (2757,[571],[1.0])| (163,[3],[1.0])|    (23,[1],[1.0])|  (4569,[1],[1.0])|  (1839,[39],[1.0])|(24043,[6560],[1.0])|     (19,[0],[1.0])|(1012,[1005],[1.0])|   (2279,[0],[1.0])| (1024,[50],[1.0])|(100248,[100050],...|(139258,[0,2279,2...|[1.67343399686090...|[0.84203312522419...|       0.0|\n",
      "|false|1005|         0|e9ca7d40|   98572c79|     f028772b|ecad2386|  7801e8d9|    07d7df22| a99f214a| baf44d2b|    f39b265e|          1|               0|21837|300|250|2523|  0|  39|100083|221|   10|        3| 23|   4|  0|           4.0|             1.0|          0.0|            0.0|           67.0|100083|  100083|(1024,[300],[1.0])|(255,[221],[1.0])|(2757,[2523],[1.0])| (163,[0],[1.0])|    (23,[0],[1.0])| (4569,[67],[1.0])|  (1839,[39],[1.0])|(24043,[21837],[1...|     (19,[1],[1.0])|(1012,[1005],[1.0])|   (2279,[4],[1.0])|(1024,[250],[1.0])|(100248,[100083],...|(139258,[4,2280,2...|[1.09993314871516...|[0.75024757946837...|       0.0|\n",
      "|false|1005|         0|5b08c53b|   7687a86e|     3e814130|ecad2386|  7801e8d9|    07d7df22| a99f214a| 6374f488|    108af550|          1|               0|17653|300|250|1994|  2|  39|100084| 33|   10|        1| 28|   1|  0|           3.0|             3.0|          0.0|            0.0|          995.0|100084|  100084|(1024,[300],[1.0])| (255,[33],[1.0])|(2757,[1994],[1.0])| (163,[0],[1.0])|    (23,[0],[1.0])|(4569,[995],[1.0])|  (1839,[39],[1.0])|(24043,[17653],[1...|     (19,[3],[1.0])|(1012,[1005],[1.0])|   (2279,[3],[1.0])|(1024,[250],[1.0])|(100248,[100084],...|(139258,[3,2282,2...|[0.39395879330168...|[0.59723533383685...|       0.0|\n",
      "|false|1005|         1|e151e245|   7e091613|     f028772b|ecad2386|  7801e8d9|    07d7df22| a99f214a| 44d67054|    56cfb4f8|          1|               0|17747|320| 50|1974|  2|  39|    -1| 33|   10|        0| 27|  17|  0|           2.0|             1.0|          0.0|            0.0|          675.0|     0|       0|(1024,[320],[1.0])| (255,[33],[1.0])|(2757,[1974],[1.0])| (163,[0],[1.0])|    (23,[0],[1.0])|(4569,[675],[1.0])|  (1839,[39],[1.0])|(24043,[17747],[1...|     (19,[1],[1.0])|(1012,[1005],[1.0])|   (2279,[2],[1.0])| (1024,[50],[1.0])|  (100248,[0],[1.0])|(139258,[2,2280,2...|[1.12113132610338...|[0.75419850552055...|       0.0|\n",
      "|false|1005|         0|85f751fd|   c4e18dd6|     50e219e0|ce183bbd|  ae637522|    cef3e649| a99f214a| c9bfb0ce|    36b67a2a|          1|               0|16352|320| 50|1823|  1| 167|100004| 71|   10|        2| 22|  20|  0|           0.0|             0.0|          2.0|            2.0|           25.0|100004|  100004|(1024,[320],[1.0])| (255,[71],[1.0])|(2757,[1823],[1.0])| (163,[2],[1.0])|    (23,[2],[1.0])| (4569,[25],[1.0])| (1839,[167],[1.0])|(24043,[16352],[1...|     (19,[0],[1.0])|(1012,[1005],[1.0])|   (2279,[0],[1.0])| (1024,[50],[1.0])|(100248,[100004],...|(139258,[0,2279,2...|[2.65410532370216...|[0.93426356952994...|       0.0|\n",
      "| true|1005|         0|85f751fd|   c4e18dd6|     50e219e0|9c13b419|  2347f47a|    f95efa07| a99f214a| 9d6b2a17|    1df52df3|          1|               0|18091|320| 50|2060|  3|  39|    -1| 23|   10|        6| 26|   3|  1|           0.0|             0.0|          1.0|            4.0|          145.0|     0|       0|(1024,[320],[1.0])| (255,[23],[1.0])|(2757,[2060],[1.0])| (163,[1],[1.0])|    (23,[4],[1.0])|(4569,[145],[1.0])|  (1839,[39],[1.0])|(24043,[18091],[1...|     (19,[0],[1.0])|(1012,[1005],[1.0])|   (2279,[0],[1.0])| (1024,[50],[1.0])|  (100248,[0],[1.0])|(139258,[0,2279,2...|[1.23812145230792...|[0.77523685659281...|       0.0|\n",
      "|false|1005|         0|85f751fd|   c4e18dd6|     50e219e0|92f5800b|  ae637522|    0f2161f8| a99f214a| 79d8cd02|    e1eae715|          1|               3|21189|320| 50|2424|  1| 161|100190| 71|   10|        3| 23|  22|  0|           0.0|             0.0|          2.0|            1.0|           13.0|100190|  100190|(1024,[320],[1.0])| (255,[71],[1.0])|(2757,[2424],[1.0])| (163,[2],[1.0])|    (23,[1],[1.0])| (4569,[13],[1.0])| (1839,[161],[1.0])|(24043,[21189],[1...|     (19,[0],[1.0])|(1012,[1005],[1.0])|   (2279,[0],[1.0])| (1024,[50],[1.0])|(100248,[100190],...|(139258,[0,2279,2...|[2.65410532370216...|[0.93426356952994...|       0.0|\n",
      "| true|1005|         0|93eaba74|   7687a86e|     3e814130|ecad2386|  7801e8d9|    07d7df22| a99f214a| af2f09be|    e262810b|          1|               0|20093|300|250|2295|  2|  35|100074| 23|   10|        6| 26|   8|  1|           3.0|             3.0|          0.0|            0.0|          752.0|100074|  100074|(1024,[300],[1.0])| (255,[23],[1.0])|(2757,[2295],[1.0])| (163,[0],[1.0])|    (23,[0],[1.0])|(4569,[752],[1.0])|  (1839,[35],[1.0])|(24043,[20093],[1...|     (19,[3],[1.0])|(1012,[1005],[1.0])|   (2279,[3],[1.0])|(1024,[250],[1.0])|(100248,[100074],...|(139258,[3,2282,2...|[0.23205299084429...|[0.55775431430638...|       0.0|\n",
      "|false|1005|         0|c0644db0|   1fc51aec|     335d28a8|ecad2386|  7801e8d9|    07d7df22| a99f214a| 780b2d26|    cbb77256|          1|               0|22685|320| 50|2619|  1| 163|100055| 71|   10|        0| 27|  13|  0|        2104.0|             6.0|          0.0|            0.0|           85.0|100055|  100055|(1024,[320],[1.0])| (255,[71],[1.0])|(2757,[2619],[1.0])| (163,[0],[1.0])|    (23,[0],[1.0])| (4569,[85],[1.0])| (1839,[163],[1.0])|(24043,[22685],[1...|     (19,[6],[1.0])|(1012,[1005],[1.0])|(2279,[2104],[1.0])| (1024,[50],[1.0])|(100248,[100055],...|(139258,[2104,228...|[2.19018617253688...|[0.89936475775367...|       0.0|\n",
      "|false|1005|         0|a49933dc|   99723888|     3e814130|ecad2386|  7801e8d9|    07d7df22| a99f214a| d7f117c1|    7abbbd5c|          1|               0|17239|320| 50|1973|  3|  39|    -1| 23|   10|        6| 26|  21|  0|         257.0|             3.0|          0.0|            0.0|            7.0|     0|       0|(1024,[320],[1.0])| (255,[23],[1.0])|(2757,[1973],[1.0])| (163,[0],[1.0])|    (23,[0],[1.0])|  (4569,[7],[1.0])|  (1839,[39],[1.0])|(24043,[17239],[1...|     (19,[3],[1.0])|(1012,[1005],[1.0])| (2279,[257],[1.0])| (1024,[50],[1.0])|  (100248,[0],[1.0])|(139258,[257,2282...|[1.46231192978662...|[0.81188602376473...|       0.0|\n",
      "|false|1012|         0|85f751fd|   c4e18dd6|     50e219e0|3692fd30|  7801e8d9|    07d7df22| a99f214a| 710461cb|    72a00661|          1|               0|19743|320| 50|2264|  3| 427|100000| 61|   10|        0| 27|   3|  0|           0.0|             0.0|          0.0|            0.0|           91.0|100000|  100000|(1024,[320],[1.0])| (255,[61],[1.0])|(2757,[2264],[1.0])| (163,[0],[1.0])|    (23,[0],[1.0])| (4569,[91],[1.0])| (1839,[427],[1.0])|(24043,[19743],[1...|     (19,[0],[1.0])|       (1012,[],[])|   (2279,[0],[1.0])| (1024,[50],[1.0])|(100248,[100000],...|(139258,[0,2279,2...|[2.02303066823030...|[0.88319402322664...|       0.0|\n",
      "|false|1005|         0|4e430aa3|   964a3bd1|     f028772b|ecad2386|  7801e8d9|    07d7df22| a99f214a| f746cf1a|    d4897fef|          1|               0|21627|320| 50|2482|  3| 167|    -1| 23|   10|        5| 25|  14|  0|          80.0|             1.0|          0.0|            0.0|            9.0|     0|       0|(1024,[320],[1.0])| (255,[23],[1.0])|(2757,[2482],[1.0])| (163,[0],[1.0])|    (23,[0],[1.0])|  (4569,[9],[1.0])| (1839,[167],[1.0])|(24043,[21627],[1...|     (19,[1],[1.0])|(1012,[1005],[1.0])|  (2279,[80],[1.0])| (1024,[50],[1.0])|  (100248,[0],[1.0])|(139258,[80,2280,...|[1.67507920198288...|[0.84225183633323...|       0.0|\n",
      "+-----+----+----------+--------+-----------+-------------+--------+----------+------------+---------+---------+------------+-----------+----------------+-----+---+---+----+---+----+------+---+-----+---------+---+----+---+--------------+----------------+-------------+---------------+---------------+------+--------+------------------+-----------------+-------------------+----------------+------------------+------------------+-------------------+--------------------+-------------------+-------------------+-------------------+------------------+--------------------+--------------------+--------------------+--------------------+----------+\n",
      "only showing top 20 rows"
     ]
    }
   ],
   "source": [
    "test_results.predictions.show()"
   ]
  },
  {
   "cell_type": "code",
   "execution_count": null,
   "metadata": {},
   "outputs": [],
   "source": []
  }
 ],
 "metadata": {
  "kernelspec": {
   "display_name": "Python 3",
   "language": "python",
   "name": "python3"
  },
  "language_info": {
   "codemirror_mode": {
    "name": "ipython",
    "version": 3
   },
   "file_extension": ".py",
   "mimetype": "text/x-python",
   "name": "python",
   "nbconvert_exporter": "python",
   "pygments_lexer": "ipython3",
   "version": "3.7.7"
  }
 },
 "nbformat": 4,
 "nbformat_minor": 4
}
