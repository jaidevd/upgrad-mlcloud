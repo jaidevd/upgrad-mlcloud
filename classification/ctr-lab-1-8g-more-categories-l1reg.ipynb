{
 "cells": [
  {
   "cell_type": "code",
   "execution_count": 1,
   "metadata": {},
   "outputs": [
    {
     "data": {
      "text/html": [
       "\n",
       "            <div>\n",
       "                <p><b>SparkSession - hive</b></p>\n",
       "                \n",
       "        <div>\n",
       "            <p><b>SparkContext</b></p>\n",
       "\n",
       "            <p><a href=\"http://brainiac.Dlink:4040\">Spark UI</a></p>\n",
       "\n",
       "            <dl>\n",
       "              <dt>Version</dt>\n",
       "                <dd><code>v2.4.5</code></dd>\n",
       "              <dt>Master</dt>\n",
       "                <dd><code>local[*]</code></dd>\n",
       "              <dt>AppName</dt>\n",
       "                <dd><code>PySparkShell</code></dd>\n",
       "            </dl>\n",
       "        </div>\n",
       "        \n",
       "            </div>\n",
       "        "
      ],
      "text/plain": [
       "<pyspark.sql.session.SparkSession at 0x7f06c18f64e0>"
      ]
     },
     "execution_count": 1,
     "metadata": {},
     "output_type": "execute_result"
    }
   ],
   "source": [
    "spark"
   ]
  },
  {
   "cell_type": "code",
   "execution_count": 2,
   "metadata": {},
   "outputs": [],
   "source": [
    "df = sqlContext.read.csv('../data/avazu/1M.csv', header=True, inferSchema=True)"
   ]
  },
  {
   "cell_type": "code",
   "execution_count": 3,
   "metadata": {},
   "outputs": [
    {
     "name": "stdout",
     "output_type": "stream",
     "text": [
      "+----+-----+---+---+----+---+----+------+---+----------+-------------+-----------+----------------+--------+-----------+--------+----------+------------+------------+\n",
      "|  C1|  C14|C15|C16| C17|C18| C19|   C20|C21|banner_pos|site_category|device_type|device_conn_type| site_id|site_domain|  app_id|app_domain|app_category|device_model|\n",
      "+----+-----+---+---+----+---+----+------+---+----------+-------------+-----------+----------------+--------+-----------+--------+----------+------------+------------+\n",
      "|1005|15699|320| 50|1722|  0|  35|    -1| 79|         0|     28905ebd|          1|               0|1fbe01fe|   f3845767|ecad2386|  7801e8d9|    07d7df22|    c6263d8a|\n",
      "|1005|19733|320| 50|2260|  0| 171|100156| 91|         0|     50e219e0|          1|               0|85f751fd|   c4e18dd6|3f2a6cbb|  33da2e74|    cef3e649|    03683bd4|\n",
      "|1005|15703|320| 50|1722|  0|  35|    -1| 79|         0|     28905ebd|          1|               0|1fbe01fe|   f3845767|ecad2386|  7801e8d9|    07d7df22|    76dc4769|\n",
      "|1005|15705|320| 50|1722|  0|  35|    -1| 79|         0|     28905ebd|          1|               0|1fbe01fe|   f3845767|ecad2386|  7801e8d9|    07d7df22|    dab823eb|\n",
      "|1005| 6563|320| 50| 572|  2|  39|    -1| 32|         0|     50e219e0|          1|               0|85f751fd|   c4e18dd6|03528b27|  2347f47a|    8ded1f7a|    6715887e|\n",
      "|1005|19998|216| 36|2281|  3|  47|100182| 42|         2|     f66779e6|          1|               0|424f0ecf|   8a704386|ecad2386|  7801e8d9|    07d7df22|    39112ea2|\n",
      "|1005|21191|320| 50|2424|  1| 161|    -1| 71|         0|     50e219e0|          1|               3|85f751fd|   c4e18dd6|92f5800b|  ae637522|    0f2161f8|    981edffc|\n",
      "|1005| 4687|320| 50| 423|  2|  39|100148| 32|         0|     50e219e0|          1|               0|85f751fd|   c4e18dd6|e2fcccd2|  5c5a694b|    0f2161f8|    be74e6fe|\n",
      "|1005|20108|320| 50|2299|  2|1327|100084| 52|         0|     28905ebd|          1|               0|1fbe01fe|   f3845767|ecad2386|  7801e8d9|    07d7df22|    711ee120|\n",
      "|1005|17654|300|250|1994|  2|  39|100084| 33|         0|     3e814130|          1|               0|5b08c53b|   7687a86e|ecad2386|  7801e8d9|    07d7df22|    375c3d47|\n",
      "|1005|21767|320| 50|2506|  0|  35|100020|157|         0|     50e219e0|          1|               3|85f751fd|   c4e18dd6|39947756|  2347f47a|    cef3e649|    ecb851b2|\n",
      "|1005|16688|320| 50|1873|  3|  39|    -1| 23|         0|     50e219e0|          1|               0|85f751fd|   c4e18dd6|03528b27|  2347f47a|    8ded1f7a|    5096d134|\n",
      "|1005|18094|320| 50|2060|  3|  39|    -1| 23|         0|     50e219e0|          1|               0|85f751fd|   c4e18dd6|9c13b419|  2347f47a|    f95efa07|    737e5d8b|\n",
      "|1005|17014|320| 50|1872|  3|  39|    -1| 23|         1|     f028772b|          1|               0|e151e245|   7e091613|ecad2386|  7801e8d9|    07d7df22|    80b1a1d2|\n",
      "|1005|21687|320| 50|2495|  2| 167|    -1| 23|         1|     f028772b|          1|               2|e151e245|   7e091613|ecad2386|  7801e8d9|    07d7df22|    5db079b5|\n",
      "|1005|15706|320| 50|1722|  0|  35|    -1| 79|         0|     28905ebd|          1|               0|1fbe01fe|   f3845767|ecad2386|  7801e8d9|    07d7df22|    1f0bc64f|\n",
      "|1005|19771|320| 50|2227|  0| 679|100081| 48|         1|     f028772b|          1|               0|57ef2c87|   bd6d812f|ecad2386|  7801e8d9|    07d7df22|    8967e320|\n",
      "|1005|15705|320| 50|1722|  0|  35|    -1| 79|         0|     50e219e0|          1|               3|85f751fd|   c4e18dd6|685d1c4c|  2347f47a|    8ded1f7a|    8ce34352|\n",
      "|1005|20251|320| 50|2323|  0| 687|100081| 48|         1|     f028772b|          1|               0|5b4d2eda|   16a36ef3|ecad2386|  7801e8d9|    07d7df22|    2d854941|\n",
      "|1005|20345|300|250|2331|  2|  39|    -1| 23|         0|     3e814130|          1|               0|5b08c53b|   7687a86e|ecad2386|  7801e8d9|    07d7df22|    8a4875bd|\n",
      "+----+-----+---+---+----+---+----+------+---+----------+-------------+-----------+----------------+--------+-----------+--------+----------+------------+------------+\n",
      "only showing top 20 rows\n",
      "\n"
     ]
    }
   ],
   "source": [
    "catCols = ['C1'] + [f'C{k}' for k in range(14, 22)]\n",
    "catCols += ['banner_pos', 'site_category', 'device_type', 'device_conn_type',\n",
    "            'site_id', 'site_domain', 'app_id', 'app_domain', 'app_category', 'device_model']\n",
    "df.select(catCols).show()"
   ]
  },
  {
   "cell_type": "code",
   "execution_count": 4,
   "metadata": {},
   "outputs": [],
   "source": [
    "from pyspark.sql.functions import udf"
   ]
  },
  {
   "cell_type": "code",
   "execution_count": 5,
   "metadata": {},
   "outputs": [],
   "source": [
    "posMapper = udf(lambda x: 0 if x < 0 else x)\n",
    "df = df.withColumn('C20_1', posMapper(df['C20']))"
   ]
  },
  {
   "cell_type": "code",
   "execution_count": 6,
   "metadata": {},
   "outputs": [],
   "source": [
    "catCols.remove('C20')\n",
    "catCols.append('C20_1')"
   ]
  },
  {
   "cell_type": "code",
   "execution_count": 7,
   "metadata": {},
   "outputs": [],
   "source": [
    "from pyspark.ml.feature import OneHotEncoderEstimator"
   ]
  },
  {
   "cell_type": "code",
   "execution_count": 8,
   "metadata": {},
   "outputs": [],
   "source": [
    "from pyspark.ml.feature import StringIndexer\n",
    "for c in ['site_category', 'site_id', 'site_domain', 'app_id', 'app_domain', 'app_category', 'device_model']:\n",
    "    si = StringIndexer(inputCol=c, outputCol=f'{c}_ix')\n",
    "    df = si.fit(df).transform(df)\n",
    "    catCols.remove(c)\n",
    "    catCols.append(f'{c}_ix')"
   ]
  },
  {
   "cell_type": "code",
   "execution_count": 9,
   "metadata": {},
   "outputs": [],
   "source": [
    "from pyspark.sql.types import IntegerType\n",
    "df = df.withColumn(\"C20_1int\", df['C20_1'].cast(IntegerType()))\n",
    "catCols.remove('C20_1')\n",
    "catCols.append('C20_1int')"
   ]
  },
  {
   "cell_type": "code",
   "execution_count": 10,
   "metadata": {},
   "outputs": [],
   "source": [
    "encoder = OneHotEncoderEstimator(inputCols=catCols, outputCols=[c + 'Enc' for c in catCols])\n",
    "enc_model = encoder.fit(df)\n",
    "encoded = enc_model.transform(df)"
   ]
  },
  {
   "cell_type": "code",
   "execution_count": 11,
   "metadata": {},
   "outputs": [],
   "source": [
    "trainCols = [c for c in encoded.columns if c.endswith('Enc')] + ['day', 'hour', 'dayofweek']"
   ]
  },
  {
   "cell_type": "code",
   "execution_count": 12,
   "metadata": {},
   "outputs": [],
   "source": [
    "encoded = encoded.withColumn('label', encoded['click'].cast(IntegerType()))"
   ]
  },
  {
   "cell_type": "code",
   "execution_count": 13,
   "metadata": {},
   "outputs": [],
   "source": [
    "from pyspark.ml.classification import LogisticRegression"
   ]
  },
  {
   "cell_type": "code",
   "execution_count": 14,
   "metadata": {},
   "outputs": [],
   "source": [
    "from pyspark.ml.feature import VectorAssembler"
   ]
  },
  {
   "cell_type": "code",
   "execution_count": 15,
   "metadata": {},
   "outputs": [],
   "source": [
    "va = VectorAssembler(inputCols=trainCols, outputCol='features')\n",
    "encoded = va.transform(encoded)"
   ]
  },
  {
   "cell_type": "code",
   "execution_count": 16,
   "metadata": {},
   "outputs": [],
   "source": [
    "from tqdm import tqdm"
   ]
  },
  {
   "cell_type": "code",
   "execution_count": 24,
   "metadata": {},
   "outputs": [
    {
     "name": "stderr",
     "output_type": "stream",
     "text": [
      "100%|██████████| 6/6 [19:08<00:00, 136.17s/it]\n"
     ]
    }
   ],
   "source": [
    "auc = []\n",
    "recall = []\n",
    "L1 = [0.001, 0.005, 0.01, 0.05, 0.1, 0.5]\n",
    "for l in tqdm(L1):\n",
    "    lr = LogisticRegression(featuresCol='features', labelCol='label', elasticNetParam=1, regParam=l)\n",
    "    model = lr.fit(encoded)\n",
    "    result = model.evaluate(encoded)\n",
    "    auc.append(result.areaUnderROC)\n",
    "    recall.append(result.recallByLabel)"
   ]
  },
  {
   "cell_type": "code",
   "execution_count": 25,
   "metadata": {},
   "outputs": [
    {
     "data": {
      "text/plain": [
       "[0.7408263421238128,\n",
       " 0.7076476053984169,\n",
       " 0.6804391846225136,\n",
       " 0.587018143629099,\n",
       " 0.5,\n",
       " 0.5]"
      ]
     },
     "execution_count": 25,
     "metadata": {},
     "output_type": "execute_result"
    }
   ],
   "source": [
    "auc"
   ]
  },
  {
   "cell_type": "code",
   "execution_count": 28,
   "metadata": {},
   "outputs": [
    {
     "data": {
      "text/plain": [
       "[[0.9920536645651499, 0.06402638320426371],\n",
       " [0.996516476871671, 0.029463207797179116],\n",
       " [0.9996386386796339, 0.005323753717499485],\n",
       " [1.0, 0.0],\n",
       " [1.0, 0.0],\n",
       " [1.0, 0.0]]"
      ]
     },
     "execution_count": 28,
     "metadata": {},
     "output_type": "execute_result"
    }
   ],
   "source": [
    "recall"
   ]
  },
  {
   "cell_type": "code",
   "execution_count": 29,
   "metadata": {},
   "outputs": [
    {
     "name": "stderr",
     "output_type": "stream",
     "text": [
      "100%|██████████| 5/5 [18:31<00:00, 225.08s/it]\n"
     ]
    }
   ],
   "source": [
    "auc = []\n",
    "recall = []\n",
    "L1 = [0.0001, 0.0002, 0.0005, 0.0007, 0.001]\n",
    "for l in tqdm(L1):\n",
    "    lr = LogisticRegression(featuresCol='features', labelCol='label', elasticNetParam=1, regParam=l)\n",
    "    model = lr.fit(encoded)\n",
    "    result = model.evaluate(encoded)\n",
    "    auc.append(result.areaUnderROC)\n",
    "    recall.append(result.recallByLabel)"
   ]
  },
  {
   "cell_type": "code",
   "execution_count": 18,
   "metadata": {},
   "outputs": [
    {
     "data": {
      "text/plain": [
       "[0.7617144797424745,\n",
       " 0.7616922664507153,\n",
       " 0.7612807183694248,\n",
       " 0.7602531474308007,\n",
       " 0.7577812378170214]"
      ]
     },
     "execution_count": 18,
     "metadata": {},
     "output_type": "execute_result"
    }
   ],
   "source": [
    "auc"
   ]
  },
  {
   "cell_type": "code",
   "execution_count": 19,
   "metadata": {},
   "outputs": [
    {
     "data": {
      "text/plain": [
       "[[0.9881304851637087, 0.09845999823326756],\n",
       " [0.9882099846541893, 0.09809487353140367],\n",
       " [0.9882665979277133, 0.09754718647860781],\n",
       " [0.9887243222668437, 0.09458496510703454],\n",
       " [0.9891290469456536, 0.09082182503459851]]"
      ]
     },
     "execution_count": 19,
     "metadata": {},
     "output_type": "execute_result"
    }
   ],
   "source": [
    "recall"
   ]
  },
  {
   "cell_type": "code",
   "execution_count": 17,
   "metadata": {},
   "outputs": [
    {
     "name": "stderr",
     "output_type": "stream",
     "text": [
      "100%|██████████| 5/5 [18:33<00:00, 219.25s/it]\n"
     ]
    }
   ],
   "source": [
    "auc = []\n",
    "recall = []\n",
    "L1 = [0.00001, 0.00002, 0.00005, 0.0001, 0.0002]\n",
    "for l in tqdm(L1):\n",
    "    lr = LogisticRegression(featuresCol='features', labelCol='label', elasticNetParam=1, regParam=l)\n",
    "    model = lr.fit(encoded)\n",
    "    result = model.evaluate(encoded)\n",
    "    auc.append(result.areaUnderROC)\n",
    "    recall.append(result.recallByLabel)"
   ]
  },
  {
   "cell_type": "code",
   "execution_count": 20,
   "metadata": {},
   "outputs": [
    {
     "data": {
      "text/plain": [
       "[0.8417480564849439, 0.630834049167587]"
      ]
     },
     "execution_count": 20,
     "metadata": {},
     "output_type": "execute_result"
    }
   ],
   "source": [
    "result.precisionByLabel"
   ]
  },
  {
   "cell_type": "code",
   "execution_count": 21,
   "metadata": {},
   "outputs": [
    {
     "data": {
      "text/plain": [
       "[0.7617144797424745,\n",
       " 0.7616922664507153,\n",
       " 0.7612807183694248,\n",
       " 0.7602531474308007,\n",
       " 0.7577812378170214]"
      ]
     },
     "execution_count": 21,
     "metadata": {},
     "output_type": "execute_result"
    }
   ],
   "source": [
    "auc"
   ]
  },
  {
   "cell_type": "code",
   "execution_count": 22,
   "metadata": {},
   "outputs": [
    {
     "data": {
      "text/plain": [
       "[[0.9881304851637087, 0.09845999823326756],\n",
       " [0.9882099846541893, 0.09809487353140367],\n",
       " [0.9882665979277133, 0.09754718647860781],\n",
       " [0.9887243222668437, 0.09458496510703454],\n",
       " [0.9891290469456536, 0.09082182503459851]]"
      ]
     },
     "execution_count": 22,
     "metadata": {},
     "output_type": "execute_result"
    }
   ],
   "source": [
    "recall"
   ]
  },
  {
   "cell_type": "code",
   "execution_count": 28,
   "metadata": {},
   "outputs": [
    {
     "name": "stderr",
     "output_type": "stream",
     "text": [
      "100%|██████████| 4/4 [12:39<00:00, 191.37s/it]\n"
     ]
    }
   ],
   "source": [
    "auc = []\n",
    "recall = []\n",
    "L1 = [0.000001, 0.000002, 0.000005, 0.00001]\n",
    "for l in tqdm(L1):\n",
    "    lr = LogisticRegression(featuresCol='features', labelCol='label', elasticNetParam=1, regParam=l)\n",
    "    model = lr.fit(encoded)\n",
    "    result = model.evaluate(encoded)\n",
    "    auc.append(result.areaUnderROC)\n",
    "    recall.append(result.recallByLabel)"
   ]
  },
  {
   "cell_type": "code",
   "execution_count": 29,
   "metadata": {},
   "outputs": [
    {
     "data": {
      "text/plain": [
       "[0.7617552201376266,\n",
       " 0.7617331959413733,\n",
       " 0.7617276905715271,\n",
       " 0.7617163913010492]"
      ]
     },
     "execution_count": 29,
     "metadata": {},
     "output_type": "execute_result"
    }
   ],
   "source": [
    "auc"
   ]
  },
  {
   "cell_type": "code",
   "execution_count": 30,
   "metadata": {},
   "outputs": [
    {
     "data": {
      "text/plain": [
       "[[0.9879775088714204, 0.09903713082653633],\n",
       " [0.9880003950883769, 0.09906068725891463],\n",
       " [0.988013645003457, 0.09891934866464475],\n",
       " [0.9881304851637087, 0.09845999823326756]]"
      ]
     },
     "execution_count": 30,
     "metadata": {},
     "output_type": "execute_result"
    }
   ],
   "source": [
    "recall"
   ]
  },
  {
   "cell_type": "code",
   "execution_count": 33,
   "metadata": {},
   "outputs": [
    {
     "name": "stderr",
     "output_type": "stream",
     "text": [
      "\n",
      "  0%|          | 0/4 [00:00<?, ?it/s]\u001b[A\n",
      " 25%|██▌       | 1/4 [04:47<14:21, 287.03s/it]\u001b[A\n",
      " 50%|█████     | 2/4 [08:11<08:44, 262.13s/it]\u001b[A\n",
      " 75%|███████▌  | 3/4 [11:26<04:02, 242.06s/it]\u001b[A\n",
      "100%|██████████| 4/4 [14:39<00:00, 227.52s/it]\u001b[A"
     ]
    }
   ],
   "source": [
    "auc = []\n",
    "recall = []\n",
    "L1 = [0.0000001, 0.0000002, 0.0000005, 0.000001]\n",
    "for l in tqdm(L1):\n",
    "    lr = LogisticRegression(featuresCol='features', labelCol='label', elasticNetParam=1, regParam=l)\n",
    "    model = lr.fit(encoded)\n",
    "    result = model.evaluate(encoded)\n",
    "    auc.append(result.areaUnderROC)\n",
    "    recall.append(result.recallByLabel)"
   ]
  },
  {
   "cell_type": "code",
   "execution_count": 34,
   "metadata": {},
   "outputs": [
    {
     "data": {
      "text/plain": [
       "[0.7617689728508258,\n",
       " 0.7617775921073082,\n",
       " 0.7617591900401888,\n",
       " 0.7617539369029065]"
      ]
     },
     "execution_count": 34,
     "metadata": {},
     "output_type": "execute_result"
    }
   ],
   "source": [
    "auc"
   ]
  },
  {
   "cell_type": "code",
   "execution_count": 35,
   "metadata": {},
   "outputs": [
    {
     "data": {
      "text/plain": [
       "[[0.987811282664052, 0.09985571685168282],\n",
       " [0.9877956236735028, 0.0999734990135744],\n",
       " [0.9879642589563403, 0.0992668060422249],\n",
       " [0.9879775088714204, 0.09903713082653633]]"
      ]
     },
     "execution_count": 35,
     "metadata": {},
     "output_type": "execute_result"
    }
   ],
   "source": [
    "recall"
   ]
  },
  {
   "cell_type": "code",
   "execution_count": null,
   "metadata": {},
   "outputs": [],
   "source": []
  }
 ],
 "metadata": {
  "kernelspec": {
   "display_name": "Python 3",
   "language": "python",
   "name": "python3"
  },
  "language_info": {
   "codemirror_mode": {
    "name": "ipython",
    "version": 3
   },
   "file_extension": ".py",
   "mimetype": "text/x-python",
   "name": "python",
   "nbconvert_exporter": "python",
   "pygments_lexer": "ipython3",
   "version": "3.6.8"
  }
 },
 "nbformat": 4,
 "nbformat_minor": 4
}
