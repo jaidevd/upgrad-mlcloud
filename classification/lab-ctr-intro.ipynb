{
 "cells": [
  {
   "cell_type": "markdown",
   "metadata": {},
   "source": [
    "# [CTR Prediction: Predict if a user is likely to click an advertisement](https://www.kaggle.com/c/avazu-ctr-prediction)"
   ]
  },
  {
   "cell_type": "code",
   "execution_count": null,
   "metadata": {},
   "outputs": [],
   "source": [
    "df = sqlContext.read.csv('s3a://sparkdemonstration/10M.csv', header=True, inferSchema=True)\n",
    "df.printSchema()"
   ]
  },
  {
   "cell_type": "markdown",
   "metadata": {},
   "source": [
    "### Data fields:\n",
    "* `id`: ad identifier\n",
    "* `click`: 0/1 for non-click/click\n",
    "* `hour`: format is YYMMDDHH, so 14091123 means 23:00 on Sept. 11, 2014 UTC.\n",
    "* `C1`: anonymized categorical variable\n",
    "* `banner_pos`\n",
    "* `site_id`\n",
    "* `site_domain`\n",
    "* `site_category`\n",
    "* `app_id`\n",
    "* `app_domain`\n",
    "* `app_category`\n",
    "* `device_id`\n",
    "* `device_ip`\n",
    "* `device_model`\n",
    "* `device_type`\n",
    "* `device_conn_type`\n",
    "* `C14-C21`: anonymized categorical variables"
   ]
  },
  {
   "cell_type": "markdown",
   "metadata": {},
   "source": [
    "# Exercise: Find the best possible recall for the positive class on 10 million rows of the dataset."
   ]
  },
  {
   "cell_type": "code",
   "execution_count": null,
   "metadata": {},
   "outputs": [],
   "source": []
  }
 ],
 "metadata": {
  "kernelspec": {
   "display_name": "Python 3",
   "language": "python",
   "name": "python3"
  },
  "language_info": {
   "codemirror_mode": {
    "name": "ipython",
    "version": 3
   },
   "file_extension": ".py",
   "mimetype": "text/x-python",
   "name": "python",
   "nbconvert_exporter": "python",
   "pygments_lexer": "ipython3",
   "version": "3.6.8"
  }
 },
 "nbformat": 4,
 "nbformat_minor": 4
}
