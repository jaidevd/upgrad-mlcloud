{
 "cells": [
  {
   "cell_type": "markdown",
   "metadata": {},
   "source": [
    "# Cross-Validation & Regularization"
   ]
  },
  {
   "cell_type": "code",
   "execution_count": null,
   "metadata": {},
   "outputs": [],
   "source": [
    "from sklearn.datasets import load_diabetes\n",
    "from pyspark.ml.regression import LinearRegression\n",
    "from pyspark.ml.feature import VectorAssembler\n",
    "import pandas as pd\n",
    "import numpy as np\n",
    "import matplotlib.pyplot as plt\n",
    "%matplotlib inline"
   ]
  },
  {
   "cell_type": "code",
   "execution_count": null,
   "metadata": {},
   "outputs": [],
   "source": [
    "diabetes = load_diabetes()\n",
    "df = pd.DataFrame(diabetes.data, columns=diabetes.feature_names)\n",
    "df['y'] = diabetes.target\n",
    "sdf = spark.createDataFrame(df)\n",
    "\n",
    "assembler = VectorAssembler(inputCols=[c for c in sdf.columns if c != 'y'],\n",
    "                            outputCol='features')\n",
    "dataset = assembler.transform(sdf)\n",
    "dataset.show(5)"
   ]
  },
  {
   "cell_type": "markdown",
   "metadata": {},
   "source": [
    "## We haven't tested models on unseen data!"
   ]
  },
  {
   "cell_type": "code",
   "execution_count": null,
   "metadata": {},
   "outputs": [],
   "source": [
    "train, test = dataset.randomSplit([0.5, 0.5])\n",
    "lr = LinearRegression(featuresCol='features', labelCol='y')\n",
    "model = lr.fit(train)\n",
    "\n",
    "# Evaluate on training data\n",
    "summary_train = model.evaluate(train)\n",
    "print('R2 (training): ', summary_train.r2)\n",
    "\n",
    "# Evaluate on training data\n",
    "summary_test = model.evaluate(test)\n",
    "print('R2 (testing): ', summary_test.r2)"
   ]
  },
  {
   "cell_type": "markdown",
   "metadata": {},
   "source": [
    "## Increase training fraction?"
   ]
  },
  {
   "cell_type": "code",
   "execution_count": null,
   "metadata": {},
   "outputs": [],
   "source": [
    "p_train = [0.6, 0.7, 0.8, 0.9]\n",
    "train_r2 = []\n",
    "test_r2 = []\n",
    "\n",
    "for p in p_train:\n",
    "    train, test = dataset.randomSplit([p, 1 - p])\n",
    "    model = lr.fit(train)\n",
    "    \n",
    "    # Evaluate on training data\n",
    "    summary_train = model.evaluate(train)\n",
    "    train_r2.append(summary_train.r2)\n",
    "\n",
    "    # Evaluate on training data\n",
    "    summary_test = model.evaluate(test)\n",
    "    test_r2.append(summary_test.r2)\n",
    "\n",
    "plt.plot(p_train, train_r2, 'ro-', label='train')\n",
    "plt.plot(p_train, test_r2, 'g', label='test')\n",
    "plt.xlabel('Training Size')\n",
    "plt.ylabel('R2')\n",
    "plt.legend()"
   ]
  },
  {
   "cell_type": "markdown",
   "metadata": {},
   "source": [
    "## Question: How do we interpret this chart?"
   ]
  },
  {
   "cell_type": "markdown",
   "metadata": {},
   "source": [
    "# Regularization for solving Ill-conditioned problems\n",
    "\n",
    "## L2 Regularization:\n",
    "\n",
    "$$ \\mathbf{E(\\mathbf{\\beta})} = SSE(\\mathbf{\\beta}) + \\frac{\\lambda}{2}\\|\\mathbf{\\beta}\\|_{2}^{2}$$\n",
    "\n",
    "\n",
    "### The _L2_ norm of a vector $\\mathbf{x}$ is denoted as $\\|\\mathbf{x}\\|^{2}_{2}$ (aka the _Euclidean_ or _Frobenius_ norm)\n",
    "\n",
    "## L1 Regularization (aka Lasso):\n",
    "\n",
    "$$ \\mathbf{E(\\mathbf{\\beta})} = SSE(\\mathbf{\\beta}) + \\lambda\\|\\mathbf{\\beta}\\|_{1}$$\n",
    "\n",
    "\n",
    "### The _L1_ norm of a vector $\\mathbf{x}$ is denoted as $\\|\\mathbf{x}\\|_{1}$ (aka the _Taxicab_ or _Manhattan_ norm)\n",
    "\n",
    "---\n",
    "\n",
    "## ElasticNet Regularization (Combining L1 and L2)\n",
    "\n",
    "$$ \\mathbf{E(\\mathbf{\\beta})} = SSE(\\mathbf{\\beta}) + \\lambda\\left[\\frac{1}{2}(1 - \\alpha)\\|\\mathbf{\\beta}\\|_{2}^{2} + \\alpha\\|\\mathbf{\\beta}\\|_{1}\\right]$$\n",
    "\n",
    "\n",
    "**Note**: In MLlib models, `elasticNetParam` corresponds to $\\alpha$ and `regParam` corresponds to $\\lambda$, therefore:\n",
    "  * For using L2 regularization set `elasticNetParam = 0` and `regParam > 0`\n",
    "  * For using L1 regularization set `elasticNetParam = 1` and `regParam > 0`\n",
    "  * For using ElasticNet, set both to a nonzero value"
   ]
  },
  {
   "cell_type": "markdown",
   "metadata": {},
   "source": [
    "### Using L2 regularization on the Diabetes dataset"
   ]
  },
  {
   "cell_type": "code",
   "execution_count": null,
   "metadata": {},
   "outputs": [],
   "source": [
    "train, test = dataset.randomSplit([0.7, 0.3])\n",
    "lr = LinearRegression(featuresCol='features', labelCol='y', elasticNetParam=0, regParam=0.3)\n",
    "model = lr.fit(train)\n",
    "\n",
    "# Evaluate on training data\n",
    "summary_train = model.evaluate(train)\n",
    "print('R2 (training): ', summary_train.r2)\n",
    "\n",
    "# Evaluate on training data\n",
    "summary_test = model.evaluate(test)\n",
    "print('R2 (testing): ', summary_test.r2)"
   ]
  },
  {
   "cell_type": "markdown",
   "metadata": {},
   "source": [
    "## Choosing the right value of $\\lambda$"
   ]
  },
  {
   "cell_type": "code",
   "execution_count": null,
   "metadata": {},
   "outputs": [],
   "source": [
    "valid_lambdas = np.logspace(-1, 1, 20)"
   ]
  },
  {
   "cell_type": "code",
   "execution_count": null,
   "metadata": {},
   "outputs": [],
   "source": [
    "train_r2 = []\n",
    "test_r2 = []\n",
    "train, test = dataset.randomSplit([0.7, 0.3])\n",
    "\n",
    "for l in valid_lambdas:    \n",
    "    lr = LinearRegression(featuresCol='features', labelCol='y', elasticNetParam=0, regParam=l)\n",
    "    model = lr.fit(train)\n",
    "\n",
    "    # Evaluate on training data\n",
    "    summary_train = model.evaluate(train)\n",
    "    train_r2.append(summary_train.r2)\n",
    "\n",
    "    # Evaluate on training data\n",
    "    summary_test = model.evaluate(test)\n",
    "    test_r2.append(summary_test.r2)\n",
    "\n",
    "    \n",
    "plt.plot(valid_lambdas, train_r2, 'ro-', label='train')\n",
    "plt.plot(valid_lambdas, test_r2, 'go-', label='test')\n",
    "plt.xlabel('$\\lambda$')\n",
    "plt.ylabel('R2')\n",
    "plt.xscale('log')\n",
    "plt.legend()"
   ]
  },
  {
   "cell_type": "markdown",
   "metadata": {},
   "source": [
    "### Exercise: Extend the search for $\\lambda$ further, by inspecting more values. (already provided)"
   ]
  },
  {
   "cell_type": "code",
   "execution_count": null,
   "metadata": {},
   "outputs": [],
   "source": [
    "valid_lambdas = np.logspace(0, 2, 20)"
   ]
  },
  {
   "cell_type": "code",
   "execution_count": null,
   "metadata": {},
   "outputs": [],
   "source": [
    "# enter code here"
   ]
  },
  {
   "cell_type": "markdown",
   "metadata": {},
   "source": [
    "## Using L1 Regularization"
   ]
  },
  {
   "cell_type": "code",
   "execution_count": null,
   "metadata": {},
   "outputs": [],
   "source": [
    "train, test = dataset.randomSplit([0.7, 0.3])\n",
    "lr = LinearRegression(featuresCol='features', labelCol='y', elasticNetParam=1, regParam=0.3)\n",
    "model = lr.fit(train)\n",
    "\n",
    "# Evaluate on training data\n",
    "summary_train = model.evaluate(train)\n",
    "print('R2 (training): ', summary_train.r2)\n",
    "\n",
    "# Evaluate on training data\n",
    "summary_test = model.evaluate(test)\n",
    "print('R2 (testing): ', summary_test.r2)"
   ]
  },
  {
   "cell_type": "markdown",
   "metadata": {},
   "source": [
    "### Choosing the right value of $\\lambda$ for L1"
   ]
  },
  {
   "cell_type": "code",
   "execution_count": null,
   "metadata": {},
   "outputs": [],
   "source": [
    "valid_lambdas = np.linspace(0, 4, 20)"
   ]
  },
  {
   "cell_type": "code",
   "execution_count": null,
   "metadata": {},
   "outputs": [],
   "source": [
    "train_r2 = []\n",
    "test_r2 = []\n",
    "train, test = dataset.randomSplit([0.7, 0.3])\n",
    "\n",
    "for l in valid_lambdas:    \n",
    "    lr = LinearRegression(featuresCol='features', labelCol='y', elasticNetParam=1, regParam=l)\n",
    "    model = lr.fit(train)\n",
    "\n",
    "    # Evaluate on training data\n",
    "    summary_train = model.evaluate(train)\n",
    "    train_r2.append(summary_train.r2)\n",
    "\n",
    "    # Evaluate on training data\n",
    "    summary_test = model.evaluate(test)\n",
    "    test_r2.append(summary_test.r2)\n",
    "\n",
    "    \n",
    "plt.plot(valid_lambdas, train_r2, 'ro-', label='train')\n",
    "plt.plot(valid_lambdas, test_r2, 'go-', label='test')\n",
    "plt.xlabel('$\\lambda$')\n",
    "plt.ylabel('R2')\n",
    "#plt.xscale('log')\n",
    "plt.legend()"
   ]
  },
  {
   "cell_type": "markdown",
   "metadata": {},
   "source": [
    "### Sparsity from the L1 Norm"
   ]
  },
  {
   "cell_type": "code",
   "execution_count": null,
   "metadata": {},
   "outputs": [],
   "source": [
    "# Fit the model\n",
    "l = 3\n",
    "lr = LinearRegression(featuresCol='features', labelCol='y', elasticNetParam=1, regParam=l)\n",
    "model = lr.fit(dataset)"
   ]
  },
  {
   "cell_type": "code",
   "execution_count": null,
   "metadata": {},
   "outputs": [],
   "source": [
    "# See coefficients\n",
    "pd.Series(np.array(model.coefficients), index=assembler.getInputCols()).plot(kind='bar')"
   ]
  }
 ],
 "metadata": {
  "kernelspec": {
   "display_name": "Python 3",
   "language": "python",
   "name": "python3"
  },
  "language_info": {
   "codemirror_mode": {
    "name": "ipython",
    "version": 3
   },
   "file_extension": ".py",
   "mimetype": "text/x-python",
   "name": "python",
   "nbconvert_exporter": "python",
   "pygments_lexer": "ipython3",
   "version": "3.6.8"
  }
 },
 "nbformat": 4,
 "nbformat_minor": 2
}
