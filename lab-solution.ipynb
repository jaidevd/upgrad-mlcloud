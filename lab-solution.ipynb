{
 "cells": [
  {
   "cell_type": "code",
   "execution_count": 1,
   "metadata": {},
   "outputs": [
    {
     "data": {
      "application/vnd.jupyter.widget-view+json": {
       "model_id": "6d3cbe4505a547b39766d2d2fb06d072",
       "version_major": 2,
       "version_minor": 0
      },
      "text/plain": [
       "VBox()"
      ]
     },
     "metadata": {},
     "output_type": "display_data"
    },
    {
     "name": "stdout",
     "output_type": "stream",
     "text": [
      "Starting Spark application\n"
     ]
    },
    {
     "data": {
      "text/html": [
       "<table>\n",
       "<tr><th>ID</th><th>YARN Application ID</th><th>Kind</th><th>State</th><th>Spark UI</th><th>Driver log</th><th>Current session?</th></tr><tr><td>3</td><td>application_1588615735716_0004</td><td>pyspark</td><td>idle</td><td><a target=\"_blank\" href=\"http://ip-172-31-90-5.ec2.internal:20888/proxy/application_1588615735716_0004/\">Link</a></td><td><a target=\"_blank\" href=\"http://ip-172-31-95-64.ec2.internal:8042/node/containerlogs/container_1588615735716_0004_01_000001/livy\">Link</a></td><td>✔</td></tr></table>"
      ],
      "text/plain": [
       "<IPython.core.display.HTML object>"
      ]
     },
     "metadata": {},
     "output_type": "display_data"
    },
    {
     "data": {
      "application/vnd.jupyter.widget-view+json": {
       "model_id": "",
       "version_major": 2,
       "version_minor": 0
      },
      "text/plain": [
       "FloatProgress(value=0.0, bar_style='info', description='Progress:', layout=Layout(height='25px', width='50%'),…"
      ]
     },
     "metadata": {},
     "output_type": "display_data"
    },
    {
     "name": "stdout",
     "output_type": "stream",
     "text": [
      "SparkSession available as 'spark'.\n"
     ]
    },
    {
     "data": {
      "application/vnd.jupyter.widget-view+json": {
       "model_id": "",
       "version_major": 2,
       "version_minor": 0
      },
      "text/plain": [
       "FloatProgress(value=0.0, bar_style='info', description='Progress:', layout=Layout(height='25px', width='50%'),…"
      ]
     },
     "metadata": {},
     "output_type": "display_data"
    },
    {
     "name": "stdout",
     "output_type": "stream",
     "text": [
      "<pyspark.sql.session.SparkSession object at 0x7fd637953c18>"
     ]
    }
   ],
   "source": [
    "spark"
   ]
  },
  {
   "cell_type": "code",
   "execution_count": 2,
   "metadata": {},
   "outputs": [
    {
     "data": {
      "application/vnd.jupyter.widget-view+json": {
       "model_id": "21c71e56a2f44b91a1ca7103260cd0a6",
       "version_major": 2,
       "version_minor": 0
      },
      "text/plain": [
       "VBox()"
      ]
     },
     "metadata": {},
     "output_type": "display_data"
    },
    {
     "data": {
      "application/vnd.jupyter.widget-view+json": {
       "model_id": "",
       "version_major": 2,
       "version_minor": 0
      },
      "text/plain": [
       "FloatProgress(value=0.0, bar_style='info', description='Progress:', layout=Layout(height='25px', width='50%'),…"
      ]
     },
     "metadata": {},
     "output_type": "display_data"
    },
    {
     "name": "stdout",
     "output_type": "stream",
     "text": [
      "DataFrame[key: timestamp, fare_amount: double, pickup_datetime: string, pickup_longitude: double, pickup_latitude: double, dropoff_longitude: double, dropoff_latitude: double, passenger_count: int]"
     ]
    }
   ],
   "source": [
    "df = sqlContext.read.csv('s3a://linear-regression-mlc/train.csv', header=True, inferSchema=True)\n",
    "df = df.limit(1_000_000)\n",
    "df = df.dropna()\n",
    "df.cache()"
   ]
  },
  {
   "cell_type": "code",
   "execution_count": 3,
   "metadata": {},
   "outputs": [
    {
     "data": {
      "application/vnd.jupyter.widget-view+json": {
       "model_id": "b691185d87494564966ad7508ea081c5",
       "version_major": 2,
       "version_minor": 0
      },
      "text/plain": [
       "VBox()"
      ]
     },
     "metadata": {},
     "output_type": "display_data"
    },
    {
     "data": {
      "application/vnd.jupyter.widget-view+json": {
       "model_id": "",
       "version_major": 2,
       "version_minor": 0
      },
      "text/plain": [
       "FloatProgress(value=0.0, bar_style='info', description='Progress:', layout=Layout(height='25px', width='50%'),…"
      ]
     },
     "metadata": {},
     "output_type": "display_data"
    },
    {
     "name": "stdout",
     "output_type": "stream",
     "text": [
      "+-------------------+-----------+--------------------+------------------+-----------------+-----------------+-----------------+---------------+\n",
      "|                key|fare_amount|     pickup_datetime|  pickup_longitude|  pickup_latitude|dropoff_longitude| dropoff_latitude|passenger_count|\n",
      "+-------------------+-----------+--------------------+------------------+-----------------+-----------------+-----------------+---------------+\n",
      "|2010-02-08 22:14:00|        6.5|2010-02-08 22:14:...|        -73.948425|        40.774048|       -73.965362|        40.757485|              1|\n",
      "|2010-06-18 15:26:00|       13.3|2010-06-18 15:26:...|        -73.976297|        40.789097|       -74.004615|        40.742228|              5|\n",
      "|2014-11-18 20:33:40|        6.5|2014-11-18 20:33:...|        -73.982605|        40.762357|       -73.995942|        40.753806|              1|\n",
      "|2011-06-14 20:38:00|       20.5|2011-06-14 20:38:...|        -74.009922|        40.720078|       -73.955662|        40.783623|              1|\n",
      "|2011-06-21 07:08:16|       12.9|2011-06-21 07:08:...|        -73.988674|        40.769243|       -74.013859|          40.7148|              1|\n",
      "|2009-02-10 19:17:09|        8.7|2009-02-10 19:17:...|        -73.984701|         40.75292|       -73.975942|        40.753268|              1|\n",
      "|2009-08-07 22:03:00|        8.1|2009-08-07 22:03:...|        -73.997858|        40.735862|       -73.970953|        40.748578|              1|\n",
      "|2009-10-14 02:38:00|        5.7|2009-10-14 02:38:...|        -74.004987|        40.751317|       -74.005983|        40.739782|              2|\n",
      "|2012-07-13 15:01:23|       49.8|2012-07-13 15:01:...|        -73.971699|        40.749703|       -73.783315|        40.643829|              1|\n",
      "|2013-11-22 00:09:00|        5.0|2013-11-22 00:09:...|        -73.995747|        40.731917|       -73.991752|        40.727147|              2|\n",
      "|2014-10-30 11:08:00|        6.0|2014-10-30 11:08:...|        -73.974718|        40.754657|       -73.980602|        40.745572|              1|\n",
      "|2012-02-16 04:11:14|       11.7|2012-02-16 04:11:...|        -73.968726|        40.761735|       -74.005537|        40.726763|              1|\n",
      "|2012-12-04 15:46:10|        6.5|2012-12-04 15:46:...|        -73.969647|        40.759351|       -73.953085|        40.772864|              1|\n",
      "|2013-05-11 23:57:00|       11.5|2013-05-11 23:57:...|        -73.981385|        40.733032|       -73.956017|        40.776155|              6|\n",
      "|2010-12-08 06:27:46|      19.07|2010-12-08 06:27:...|        -73.982321|        40.739807|       -73.894669|        40.729073|              1|\n",
      "|2011-03-29 02:46:00|        6.1|2011-03-29 02:46:...|        -73.967212|        40.758777|       -73.980225|        40.738887|              5|\n",
      "|2014-01-13 22:43:00|       16.5|2014-01-13 22:43:...|        -73.981832|        40.767775|        -73.95085|        40.784257|              1|\n",
      "|2014-04-30 18:09:00|       16.5|2014-04-30 18:09:...|        -73.977805|        40.764342|       -73.990932|        40.756247|              5|\n",
      "|2015-03-10 18:33:13|       10.0|2015-03-10 18:33:...|-73.95569610595703|40.77937698364258|-73.9319076538086|40.79793930053711|              1|\n",
      "|2012-01-10 15:53:00|        7.7|2012-01-10 15:53:...|        -73.968432|        40.758957|       -73.987983|        40.748905|              1|\n",
      "+-------------------+-----------+--------------------+------------------+-----------------+-----------------+-----------------+---------------+\n",
      "only showing top 20 rows"
     ]
    }
   ],
   "source": [
    "df.show()"
   ]
  },
  {
   "cell_type": "code",
   "execution_count": 4,
   "metadata": {},
   "outputs": [
    {
     "data": {
      "application/vnd.jupyter.widget-view+json": {
       "model_id": "f105bc7c89614c499cf4ba9d8fe49c1f",
       "version_major": 2,
       "version_minor": 0
      },
      "text/plain": [
       "VBox()"
      ]
     },
     "metadata": {},
     "output_type": "display_data"
    },
    {
     "data": {
      "application/vnd.jupyter.widget-view+json": {
       "model_id": "",
       "version_major": 2,
       "version_minor": 0
      },
      "text/plain": [
       "FloatProgress(value=0.0, bar_style='info', description='Progress:', layout=Layout(height='25px', width='50%'),…"
      ]
     },
     "metadata": {},
     "output_type": "display_data"
    }
   ],
   "source": [
    "from pyspark.ml.feature import VectorAssembler\n",
    "from pyspark.ml.regression import LinearRegression"
   ]
  },
  {
   "cell_type": "code",
   "execution_count": 5,
   "metadata": {},
   "outputs": [
    {
     "data": {
      "application/vnd.jupyter.widget-view+json": {
       "model_id": "5485b55ed4c84788973e0fc955490b13",
       "version_major": 2,
       "version_minor": 0
      },
      "text/plain": [
       "VBox()"
      ]
     },
     "metadata": {},
     "output_type": "display_data"
    },
    {
     "data": {
      "application/vnd.jupyter.widget-view+json": {
       "model_id": "",
       "version_major": 2,
       "version_minor": 0
      },
      "text/plain": [
       "FloatProgress(value=0.0, bar_style='info', description='Progress:', layout=Layout(height='25px', width='50%'),…"
      ]
     },
     "metadata": {},
     "output_type": "display_data"
    }
   ],
   "source": [
    "inputCols = [\n",
    "    'pickup_latitude',\n",
    "    'pickup_longitude',\n",
    "    'dropoff_latitude',\n",
    "    'dropoff_longitude',\n",
    "    'passenger_count'\n",
    "]\n",
    "assembler = VectorAssembler(inputCols=inputCols, outputCol='features')\n",
    "dataset = assembler.transform(df)"
   ]
  },
  {
   "cell_type": "code",
   "execution_count": 6,
   "metadata": {},
   "outputs": [
    {
     "data": {
      "application/vnd.jupyter.widget-view+json": {
       "model_id": "14fc0cf1648145fd8e9271afc69a2385",
       "version_major": 2,
       "version_minor": 0
      },
      "text/plain": [
       "VBox()"
      ]
     },
     "metadata": {},
     "output_type": "display_data"
    },
    {
     "data": {
      "application/vnd.jupyter.widget-view+json": {
       "model_id": "",
       "version_major": 2,
       "version_minor": 0
      },
      "text/plain": [
       "FloatProgress(value=0.0, bar_style='info', description='Progress:', layout=Layout(height='25px', width='50%'),…"
      ]
     },
     "metadata": {},
     "output_type": "display_data"
    }
   ],
   "source": [
    "lr = LinearRegression(featuresCol='features', labelCol='fare_amount')\n",
    "model = lr.fit(dataset)\n",
    "summary = model.evaluate(dataset)"
   ]
  },
  {
   "cell_type": "code",
   "execution_count": 7,
   "metadata": {},
   "outputs": [
    {
     "data": {
      "application/vnd.jupyter.widget-view+json": {
       "model_id": "3fe3bc923b4647c6b96883124a22f188",
       "version_major": 2,
       "version_minor": 0
      },
      "text/plain": [
       "VBox()"
      ]
     },
     "metadata": {},
     "output_type": "display_data"
    },
    {
     "data": {
      "application/vnd.jupyter.widget-view+json": {
       "model_id": "",
       "version_major": 2,
       "version_minor": 0
      },
      "text/plain": [
       "FloatProgress(value=0.0, bar_style='info', description='Progress:', layout=Layout(height='25px', width='50%'),…"
      ]
     },
     "metadata": {},
     "output_type": "display_data"
    },
    {
     "name": "stdout",
     "output_type": "stream",
     "text": [
      "0.000245481100044298"
     ]
    }
   ],
   "source": [
    "summary.r2"
   ]
  },
  {
   "cell_type": "code",
   "execution_count": 9,
   "metadata": {},
   "outputs": [
    {
     "data": {
      "application/vnd.jupyter.widget-view+json": {
       "model_id": "eeeed7b3305a4c5ea93ed479429af66e",
       "version_major": 2,
       "version_minor": 0
      },
      "text/plain": [
       "VBox()"
      ]
     },
     "metadata": {},
     "output_type": "display_data"
    },
    {
     "data": {
      "application/vnd.jupyter.widget-view+json": {
       "model_id": "",
       "version_major": 2,
       "version_minor": 0
      },
      "text/plain": [
       "FloatProgress(value=0.0, bar_style='info', description='Progress:', layout=Layout(height='25px', width='50%'),…"
      ]
     },
     "metadata": {},
     "output_type": "display_data"
    },
    {
     "name": "stdout",
     "output_type": "stream",
     "text": [
      "[Row(max(pickup_latitude)=2009.26628)]"
     ]
    }
   ],
   "source": [
    "df.agg({'pickup_latitude': 'max'}).collect()"
   ]
  },
  {
   "cell_type": "code",
   "execution_count": 12,
   "metadata": {},
   "outputs": [
    {
     "data": {
      "application/vnd.jupyter.widget-view+json": {
       "model_id": "65775fcf7734448385538122547521d2",
       "version_major": 2,
       "version_minor": 0
      },
      "text/plain": [
       "VBox()"
      ]
     },
     "metadata": {},
     "output_type": "display_data"
    },
    {
     "data": {
      "application/vnd.jupyter.widget-view+json": {
       "model_id": "",
       "version_major": 2,
       "version_minor": 0
      },
      "text/plain": [
       "FloatProgress(value=0.0, bar_style='info', description='Progress:', layout=Layout(height='25px', width='50%'),…"
      ]
     },
     "metadata": {},
     "output_type": "display_data"
    }
   ],
   "source": [
    "# NYC lies between 73 and 75 degrees West, and 40 and 42 degrees north.\n",
    "\n",
    "TOP, BOTTOM, LEFT, RIGHT = 42, 40, -75, -73\n",
    "\n",
    "df = df.filter(df['pickup_latitude'] >= BOTTOM)\n",
    "df = df.filter(df['pickup_latitude'] <= TOP)\n",
    "df = df.filter(df['pickup_longitude'] <= RIGHT)\n",
    "df = df.filter(df['pickup_longitude'] >= LEFT)\n",
    "\n",
    "df = df.filter(df['dropoff_latitude'] >= BOTTOM)\n",
    "df = df.filter(df['dropoff_latitude'] <= TOP)\n",
    "df = df.filter(df['dropoff_longitude'] <= RIGHT)\n",
    "df = df.filter(df['dropoff_longitude'] >= LEFT)"
   ]
  },
  {
   "cell_type": "code",
   "execution_count": 13,
   "metadata": {},
   "outputs": [
    {
     "data": {
      "application/vnd.jupyter.widget-view+json": {
       "model_id": "cbbe07e1b84f4aa38c6d4d3c296cbeb8",
       "version_major": 2,
       "version_minor": 0
      },
      "text/plain": [
       "VBox()"
      ]
     },
     "metadata": {},
     "output_type": "display_data"
    },
    {
     "data": {
      "application/vnd.jupyter.widget-view+json": {
       "model_id": "",
       "version_major": 2,
       "version_minor": 0
      },
      "text/plain": [
       "FloatProgress(value=0.0, bar_style='info', description='Progress:', layout=Layout(height='25px', width='50%'),…"
      ]
     },
     "metadata": {},
     "output_type": "display_data"
    },
    {
     "name": "stdout",
     "output_type": "stream",
     "text": [
      "978872"
     ]
    }
   ],
   "source": [
    "df.count()"
   ]
  },
  {
   "cell_type": "code",
   "execution_count": 15,
   "metadata": {},
   "outputs": [
    {
     "data": {
      "application/vnd.jupyter.widget-view+json": {
       "model_id": "9dc6ae5b294b4ad095c21bea6378b945",
       "version_major": 2,
       "version_minor": 0
      },
      "text/plain": [
       "VBox()"
      ]
     },
     "metadata": {},
     "output_type": "display_data"
    },
    {
     "data": {
      "application/vnd.jupyter.widget-view+json": {
       "model_id": "",
       "version_major": 2,
       "version_minor": 0
      },
      "text/plain": [
       "FloatProgress(value=0.0, bar_style='info', description='Progress:', layout=Layout(height='25px', width='50%'),…"
      ]
     },
     "metadata": {},
     "output_type": "display_data"
    },
    {
     "name": "stdout",
     "output_type": "stream",
     "text": [
      "[Row(min(passenger_count)=0)]"
     ]
    }
   ],
   "source": [
    "df.agg({'passenger_count': 'min'}).collect()"
   ]
  },
  {
   "cell_type": "code",
   "execution_count": 16,
   "metadata": {},
   "outputs": [
    {
     "data": {
      "application/vnd.jupyter.widget-view+json": {
       "model_id": "8a66db7cb15c450980155f1cedf7aadc",
       "version_major": 2,
       "version_minor": 0
      },
      "text/plain": [
       "VBox()"
      ]
     },
     "metadata": {},
     "output_type": "display_data"
    },
    {
     "data": {
      "application/vnd.jupyter.widget-view+json": {
       "model_id": "",
       "version_major": 2,
       "version_minor": 0
      },
      "text/plain": [
       "FloatProgress(value=0.0, bar_style='info', description='Progress:', layout=Layout(height='25px', width='50%'),…"
      ]
     },
     "metadata": {},
     "output_type": "display_data"
    }
   ],
   "source": [
    "df = df.filter(df['passenger_count'] > 0)"
   ]
  },
  {
   "cell_type": "code",
   "execution_count": 18,
   "metadata": {},
   "outputs": [
    {
     "data": {
      "application/vnd.jupyter.widget-view+json": {
       "model_id": "01f8553c6f594b1f91f99776687d4d19",
       "version_major": 2,
       "version_minor": 0
      },
      "text/plain": [
       "VBox()"
      ]
     },
     "metadata": {},
     "output_type": "display_data"
    },
    {
     "data": {
      "application/vnd.jupyter.widget-view+json": {
       "model_id": "",
       "version_major": 2,
       "version_minor": 0
      },
      "text/plain": [
       "FloatProgress(value=0.0, bar_style='info', description='Progress:', layout=Layout(height='25px', width='50%'),…"
      ]
     },
     "metadata": {},
     "output_type": "display_data"
    },
    {
     "name": "stdout",
     "output_type": "stream",
     "text": [
      "[Row(min(fare_amount)=-52.0)]"
     ]
    }
   ],
   "source": [
    "df.agg({'fare_amount': 'min'}).collect()"
   ]
  },
  {
   "cell_type": "code",
   "execution_count": 19,
   "metadata": {},
   "outputs": [
    {
     "data": {
      "application/vnd.jupyter.widget-view+json": {
       "model_id": "fef52e519fa94e5aa11652ad2763dda6",
       "version_major": 2,
       "version_minor": 0
      },
      "text/plain": [
       "VBox()"
      ]
     },
     "metadata": {},
     "output_type": "display_data"
    },
    {
     "data": {
      "application/vnd.jupyter.widget-view+json": {
       "model_id": "",
       "version_major": 2,
       "version_minor": 0
      },
      "text/plain": [
       "FloatProgress(value=0.0, bar_style='info', description='Progress:', layout=Layout(height='25px', width='50%'),…"
      ]
     },
     "metadata": {},
     "output_type": "display_data"
    }
   ],
   "source": [
    "df = df.filter(df['fare_amount'] > 0)"
   ]
  },
  {
   "cell_type": "code",
   "execution_count": 20,
   "metadata": {},
   "outputs": [
    {
     "data": {
      "application/vnd.jupyter.widget-view+json": {
       "model_id": "84749e0255bd4dc79825fcbe1c695965",
       "version_major": 2,
       "version_minor": 0
      },
      "text/plain": [
       "VBox()"
      ]
     },
     "metadata": {},
     "output_type": "display_data"
    },
    {
     "data": {
      "application/vnd.jupyter.widget-view+json": {
       "model_id": "",
       "version_major": 2,
       "version_minor": 0
      },
      "text/plain": [
       "FloatProgress(value=0.0, bar_style='info', description='Progress:', layout=Layout(height='25px', width='50%'),…"
      ]
     },
     "metadata": {},
     "output_type": "display_data"
    },
    {
     "name": "stdout",
     "output_type": "stream",
     "text": [
      "975428"
     ]
    }
   ],
   "source": [
    "df.count()"
   ]
  },
  {
   "cell_type": "code",
   "execution_count": 21,
   "metadata": {},
   "outputs": [
    {
     "data": {
      "application/vnd.jupyter.widget-view+json": {
       "model_id": "091a3095409f4920bd128981d8cafe2c",
       "version_major": 2,
       "version_minor": 0
      },
      "text/plain": [
       "VBox()"
      ]
     },
     "metadata": {},
     "output_type": "display_data"
    },
    {
     "data": {
      "application/vnd.jupyter.widget-view+json": {
       "model_id": "",
       "version_major": 2,
       "version_minor": 0
      },
      "text/plain": [
       "FloatProgress(value=0.0, bar_style='info', description='Progress:', layout=Layout(height='25px', width='50%'),…"
      ]
     },
     "metadata": {},
     "output_type": "display_data"
    }
   ],
   "source": [
    "inputCols = [\n",
    "    'pickup_latitude',\n",
    "    'pickup_longitude',\n",
    "    'dropoff_latitude',\n",
    "    'dropoff_longitude',\n",
    "    'passenger_count'\n",
    "]\n",
    "assembler = VectorAssembler(inputCols=inputCols, outputCol='featuresClean')\n",
    "dataset = assembler.transform(df)"
   ]
  },
  {
   "cell_type": "code",
   "execution_count": 22,
   "metadata": {},
   "outputs": [
    {
     "data": {
      "application/vnd.jupyter.widget-view+json": {
       "model_id": "ba92e56f28594243b64020b617364669",
       "version_major": 2,
       "version_minor": 0
      },
      "text/plain": [
       "VBox()"
      ]
     },
     "metadata": {},
     "output_type": "display_data"
    },
    {
     "data": {
      "application/vnd.jupyter.widget-view+json": {
       "model_id": "",
       "version_major": 2,
       "version_minor": 0
      },
      "text/plain": [
       "FloatProgress(value=0.0, bar_style='info', description='Progress:', layout=Layout(height='25px', width='50%'),…"
      ]
     },
     "metadata": {},
     "output_type": "display_data"
    }
   ],
   "source": [
    "lr = LinearRegression(featuresCol='featuresClean', labelCol='fare_amount')\n",
    "model = lr.fit(dataset)\n",
    "summary = model.evaluate(dataset)"
   ]
  },
  {
   "cell_type": "code",
   "execution_count": 23,
   "metadata": {},
   "outputs": [
    {
     "data": {
      "application/vnd.jupyter.widget-view+json": {
       "model_id": "d3ac6f08bdc94e4ebfa1771cb0d4a8eb",
       "version_major": 2,
       "version_minor": 0
      },
      "text/plain": [
       "VBox()"
      ]
     },
     "metadata": {},
     "output_type": "display_data"
    },
    {
     "data": {
      "application/vnd.jupyter.widget-view+json": {
       "model_id": "",
       "version_major": 2,
       "version_minor": 0
      },
      "text/plain": [
       "FloatProgress(value=0.0, bar_style='info', description='Progress:', layout=Layout(height='25px', width='50%'),…"
      ]
     },
     "metadata": {},
     "output_type": "display_data"
    },
    {
     "name": "stdout",
     "output_type": "stream",
     "text": [
      "0.25088896249561454"
     ]
    }
   ],
   "source": [
    "summary.r2"
   ]
  },
  {
   "cell_type": "code",
   "execution_count": 24,
   "metadata": {},
   "outputs": [
    {
     "data": {
      "application/vnd.jupyter.widget-view+json": {
       "model_id": "15611377fc7d4dbaa335d35148d8c5b2",
       "version_major": 2,
       "version_minor": 0
      },
      "text/plain": [
       "VBox()"
      ]
     },
     "metadata": {},
     "output_type": "display_data"
    },
    {
     "data": {
      "application/vnd.jupyter.widget-view+json": {
       "model_id": "",
       "version_major": 2,
       "version_minor": 0
      },
      "text/plain": [
       "FloatProgress(value=0.0, bar_style='info', description='Progress:', layout=Layout(height='25px', width='50%'),…"
      ]
     },
     "metadata": {},
     "output_type": "display_data"
    },
    {
     "name": "stdout",
     "output_type": "stream",
     "text": [
      "+-------------------+-----------+--------------------+------------------+-----------------+-----------------+-----------------+---------------+\n",
      "|                key|fare_amount|     pickup_datetime|  pickup_longitude|  pickup_latitude|dropoff_longitude| dropoff_latitude|passenger_count|\n",
      "+-------------------+-----------+--------------------+------------------+-----------------+-----------------+-----------------+---------------+\n",
      "|2010-02-08 22:14:00|        6.5|2010-02-08 22:14:...|        -73.948425|        40.774048|       -73.965362|        40.757485|              1|\n",
      "|2010-06-18 15:26:00|       13.3|2010-06-18 15:26:...|        -73.976297|        40.789097|       -74.004615|        40.742228|              5|\n",
      "|2014-11-18 20:33:40|        6.5|2014-11-18 20:33:...|        -73.982605|        40.762357|       -73.995942|        40.753806|              1|\n",
      "|2011-06-14 20:38:00|       20.5|2011-06-14 20:38:...|        -74.009922|        40.720078|       -73.955662|        40.783623|              1|\n",
      "|2011-06-21 07:08:16|       12.9|2011-06-21 07:08:...|        -73.988674|        40.769243|       -74.013859|          40.7148|              1|\n",
      "|2009-02-10 19:17:09|        8.7|2009-02-10 19:17:...|        -73.984701|         40.75292|       -73.975942|        40.753268|              1|\n",
      "|2009-08-07 22:03:00|        8.1|2009-08-07 22:03:...|        -73.997858|        40.735862|       -73.970953|        40.748578|              1|\n",
      "|2009-10-14 02:38:00|        5.7|2009-10-14 02:38:...|        -74.004987|        40.751317|       -74.005983|        40.739782|              2|\n",
      "|2012-07-13 15:01:23|       49.8|2012-07-13 15:01:...|        -73.971699|        40.749703|       -73.783315|        40.643829|              1|\n",
      "|2013-11-22 00:09:00|        5.0|2013-11-22 00:09:...|        -73.995747|        40.731917|       -73.991752|        40.727147|              2|\n",
      "|2014-10-30 11:08:00|        6.0|2014-10-30 11:08:...|        -73.974718|        40.754657|       -73.980602|        40.745572|              1|\n",
      "|2012-02-16 04:11:14|       11.7|2012-02-16 04:11:...|        -73.968726|        40.761735|       -74.005537|        40.726763|              1|\n",
      "|2012-12-04 15:46:10|        6.5|2012-12-04 15:46:...|        -73.969647|        40.759351|       -73.953085|        40.772864|              1|\n",
      "|2013-05-11 23:57:00|       11.5|2013-05-11 23:57:...|        -73.981385|        40.733032|       -73.956017|        40.776155|              6|\n",
      "|2010-12-08 06:27:46|      19.07|2010-12-08 06:27:...|        -73.982321|        40.739807|       -73.894669|        40.729073|              1|\n",
      "|2011-03-29 02:46:00|        6.1|2011-03-29 02:46:...|        -73.967212|        40.758777|       -73.980225|        40.738887|              5|\n",
      "|2014-01-13 22:43:00|       16.5|2014-01-13 22:43:...|        -73.981832|        40.767775|        -73.95085|        40.784257|              1|\n",
      "|2014-04-30 18:09:00|       16.5|2014-04-30 18:09:...|        -73.977805|        40.764342|       -73.990932|        40.756247|              5|\n",
      "|2015-03-10 18:33:13|       10.0|2015-03-10 18:33:...|-73.95569610595703|40.77937698364258|-73.9319076538086|40.79793930053711|              1|\n",
      "|2012-01-10 15:53:00|        7.7|2012-01-10 15:53:...|        -73.968432|        40.758957|       -73.987983|        40.748905|              1|\n",
      "+-------------------+-----------+--------------------+------------------+-----------------+-----------------+-----------------+---------------+\n",
      "only showing top 20 rows"
     ]
    }
   ],
   "source": [
    "df.show()"
   ]
  },
  {
   "cell_type": "code",
   "execution_count": 26,
   "metadata": {},
   "outputs": [
    {
     "data": {
      "application/vnd.jupyter.widget-view+json": {
       "model_id": "1978a8c13a524ac78e8b4164926dd880",
       "version_major": 2,
       "version_minor": 0
      },
      "text/plain": [
       "VBox()"
      ]
     },
     "metadata": {},
     "output_type": "display_data"
    },
    {
     "data": {
      "application/vnd.jupyter.widget-view+json": {
       "model_id": "",
       "version_major": 2,
       "version_minor": 0
      },
      "text/plain": [
       "FloatProgress(value=0.0, bar_style='info', description='Progress:', layout=Layout(height='25px', width='50%'),…"
      ]
     },
     "metadata": {},
     "output_type": "display_data"
    },
    {
     "name": "stdout",
     "output_type": "stream",
     "text": [
      "+-----------------------+\n",
      "|pickup_datetime        |\n",
      "+-----------------------+\n",
      "|2010-02-08 22:14:00 UTC|\n",
      "|2010-06-18 15:26:00 UTC|\n",
      "|2014-11-18 20:33:40 UTC|\n",
      "|2011-06-14 20:38:00 UTC|\n",
      "|2011-06-21 07:08:16 UTC|\n",
      "|2009-02-10 19:17:09 UTC|\n",
      "|2009-08-07 22:03:00 UTC|\n",
      "|2009-10-14 02:38:00 UTC|\n",
      "|2012-07-13 15:01:23 UTC|\n",
      "|2013-11-22 00:09:00 UTC|\n",
      "|2014-10-30 11:08:00 UTC|\n",
      "|2012-02-16 04:11:14 UTC|\n",
      "|2012-12-04 15:46:10 UTC|\n",
      "|2013-05-11 23:57:00 UTC|\n",
      "|2010-12-08 06:27:46 UTC|\n",
      "|2011-03-29 02:46:00 UTC|\n",
      "|2014-01-13 22:43:00 UTC|\n",
      "|2014-04-30 18:09:00 UTC|\n",
      "|2015-03-10 18:33:13 UTC|\n",
      "|2012-01-10 15:53:00 UTC|\n",
      "+-----------------------+\n",
      "only showing top 20 rows"
     ]
    }
   ],
   "source": [
    "df.select('pickup_datetime').show(truncate=False)"
   ]
  },
  {
   "cell_type": "code",
   "execution_count": 27,
   "metadata": {},
   "outputs": [
    {
     "data": {
      "application/vnd.jupyter.widget-view+json": {
       "model_id": "679effbb819345a68c70076549e794ee",
       "version_major": 2,
       "version_minor": 0
      },
      "text/plain": [
       "VBox()"
      ]
     },
     "metadata": {},
     "output_type": "display_data"
    },
    {
     "data": {
      "application/vnd.jupyter.widget-view+json": {
       "model_id": "",
       "version_major": 2,
       "version_minor": 0
      },
      "text/plain": [
       "FloatProgress(value=0.0, bar_style='info', description='Progress:', layout=Layout(height='25px', width='50%'),…"
      ]
     },
     "metadata": {},
     "output_type": "display_data"
    },
    {
     "name": "stdout",
     "output_type": "stream",
     "text": [
      "+-------------------+\n",
      "|datetime           |\n",
      "+-------------------+\n",
      "|2010-02-08 22:14:00|\n",
      "|2010-06-18 15:26:00|\n",
      "|2014-11-18 20:33:40|\n",
      "|2011-06-14 20:38:00|\n",
      "|2011-06-21 07:08:16|\n",
      "|2009-02-10 19:17:09|\n",
      "|2009-08-07 22:03:00|\n",
      "|2009-10-14 02:38:00|\n",
      "|2012-07-13 15:01:23|\n",
      "|2013-11-22 00:09:00|\n",
      "|2014-10-30 11:08:00|\n",
      "|2012-02-16 04:11:14|\n",
      "|2012-12-04 15:46:10|\n",
      "|2013-05-11 23:57:00|\n",
      "|2010-12-08 06:27:46|\n",
      "|2011-03-29 02:46:00|\n",
      "|2014-01-13 22:43:00|\n",
      "|2014-04-30 18:09:00|\n",
      "|2015-03-10 18:33:13|\n",
      "|2012-01-10 15:53:00|\n",
      "+-------------------+\n",
      "only showing top 20 rows"
     ]
    }
   ],
   "source": [
    "df = df.withColumn('datetime', df['pickup_datetime'].substr(0, 19))\n",
    "df.select('datetime').show(truncate=False)"
   ]
  },
  {
   "cell_type": "code",
   "execution_count": 29,
   "metadata": {},
   "outputs": [
    {
     "data": {
      "application/vnd.jupyter.widget-view+json": {
       "model_id": "855539322852424c9c6ce446fc5cabf1",
       "version_major": 2,
       "version_minor": 0
      },
      "text/plain": [
       "VBox()"
      ]
     },
     "metadata": {},
     "output_type": "display_data"
    },
    {
     "data": {
      "application/vnd.jupyter.widget-view+json": {
       "model_id": "",
       "version_major": 2,
       "version_minor": 0
      },
      "text/plain": [
       "FloatProgress(value=0.0, bar_style='info', description='Progress:', layout=Layout(height='25px', width='50%'),…"
      ]
     },
     "metadata": {},
     "output_type": "display_data"
    }
   ],
   "source": [
    "from pyspark.sql.functions import to_timestamp"
   ]
  },
  {
   "cell_type": "code",
   "execution_count": 30,
   "metadata": {},
   "outputs": [
    {
     "data": {
      "application/vnd.jupyter.widget-view+json": {
       "model_id": "700d0c79df0b4eaba5eba9a0f5fc03c1",
       "version_major": 2,
       "version_minor": 0
      },
      "text/plain": [
       "VBox()"
      ]
     },
     "metadata": {},
     "output_type": "display_data"
    },
    {
     "data": {
      "application/vnd.jupyter.widget-view+json": {
       "model_id": "",
       "version_major": 2,
       "version_minor": 0
      },
      "text/plain": [
       "FloatProgress(value=0.0, bar_style='info', description='Progress:', layout=Layout(height='25px', width='50%'),…"
      ]
     },
     "metadata": {},
     "output_type": "display_data"
    },
    {
     "name": "stdout",
     "output_type": "stream",
     "text": [
      "+-------------------+\n",
      "|timestamp          |\n",
      "+-------------------+\n",
      "|2010-02-08 22:14:00|\n",
      "|2010-06-18 15:26:00|\n",
      "|2014-11-18 20:33:40|\n",
      "|2011-06-14 20:38:00|\n",
      "|2011-06-21 07:08:16|\n",
      "|2009-02-10 19:17:09|\n",
      "|2009-08-07 22:03:00|\n",
      "|2009-10-14 02:38:00|\n",
      "|2012-07-13 15:01:23|\n",
      "|2013-11-22 00:09:00|\n",
      "|2014-10-30 11:08:00|\n",
      "|2012-02-16 04:11:14|\n",
      "|2012-12-04 15:46:10|\n",
      "|2013-05-11 23:57:00|\n",
      "|2010-12-08 06:27:46|\n",
      "|2011-03-29 02:46:00|\n",
      "|2014-01-13 22:43:00|\n",
      "|2014-04-30 18:09:00|\n",
      "|2015-03-10 18:33:13|\n",
      "|2012-01-10 15:53:00|\n",
      "+-------------------+\n",
      "only showing top 20 rows"
     ]
    }
   ],
   "source": [
    "df = df.withColumn('timestamp', to_timestamp(df['datetime']))\n",
    "df.select('timestamp').show(truncate=False)"
   ]
  },
  {
   "cell_type": "code",
   "execution_count": 39,
   "metadata": {},
   "outputs": [
    {
     "data": {
      "application/vnd.jupyter.widget-view+json": {
       "model_id": "3c7896f059f14a3995b0b89d507dbdfd",
       "version_major": 2,
       "version_minor": 0
      },
      "text/plain": [
       "VBox()"
      ]
     },
     "metadata": {},
     "output_type": "display_data"
    },
    {
     "data": {
      "application/vnd.jupyter.widget-view+json": {
       "model_id": "",
       "version_major": 2,
       "version_minor": 0
      },
      "text/plain": [
       "FloatProgress(value=0.0, bar_style='info', description='Progress:', layout=Layout(height='25px', width='50%'),…"
      ]
     },
     "metadata": {},
     "output_type": "display_data"
    },
    {
     "name": "stdout",
     "output_type": "stream",
     "text": [
      "+-------------------+\n",
      "|             NYTime|\n",
      "+-------------------+\n",
      "|2010-02-08 17:14:00|\n",
      "|2010-06-18 10:26:00|\n",
      "|2014-11-18 15:33:40|\n",
      "|2011-06-14 15:38:00|\n",
      "|2011-06-21 02:08:16|\n",
      "|2009-02-10 14:17:09|\n",
      "|2009-08-07 17:03:00|\n",
      "|2009-10-13 21:38:00|\n",
      "|2012-07-13 10:01:23|\n",
      "|2013-11-21 19:09:00|\n",
      "|2014-10-30 06:08:00|\n",
      "|2012-02-15 23:11:14|\n",
      "|2012-12-04 10:46:10|\n",
      "|2013-05-11 18:57:00|\n",
      "|2010-12-08 01:27:46|\n",
      "|2011-03-28 21:46:00|\n",
      "|2014-01-13 17:43:00|\n",
      "|2014-04-30 13:09:00|\n",
      "|2015-03-10 13:33:13|\n",
      "|2012-01-10 10:53:00|\n",
      "+-------------------+\n",
      "only showing top 20 rows"
     ]
    }
   ],
   "source": [
    "from pyspark.sql.functions import from_utc_timestamp\n",
    "df = df.withColumn('NYTime', from_utc_timestamp(df['timestamp'], 'EST'))\n",
    "df.select('NYTime').show()"
   ]
  },
  {
   "cell_type": "code",
   "execution_count": 40,
   "metadata": {},
   "outputs": [
    {
     "data": {
      "application/vnd.jupyter.widget-view+json": {
       "model_id": "b987f000576a4bdb9c86796bb3150f28",
       "version_major": 2,
       "version_minor": 0
      },
      "text/plain": [
       "VBox()"
      ]
     },
     "metadata": {},
     "output_type": "display_data"
    },
    {
     "data": {
      "application/vnd.jupyter.widget-view+json": {
       "model_id": "",
       "version_major": 2,
       "version_minor": 0
      },
      "text/plain": [
       "FloatProgress(value=0.0, bar_style='info', description='Progress:', layout=Layout(height='25px', width='50%'),…"
      ]
     },
     "metadata": {},
     "output_type": "display_data"
    },
    {
     "name": "stdout",
     "output_type": "stream",
     "text": [
      "+----+-----+---------+----+\n",
      "|year|month|dayofweek|hour|\n",
      "+----+-----+---------+----+\n",
      "|2010|    2|        2|  17|\n",
      "|2010|    6|        6|  10|\n",
      "|2014|   11|        3|  15|\n",
      "|2011|    6|        3|  15|\n",
      "|2011|    6|        3|   2|\n",
      "|2009|    2|        3|  14|\n",
      "|2009|    8|        6|  17|\n",
      "|2009|   10|        3|  21|\n",
      "|2012|    7|        6|  10|\n",
      "|2013|   11|        5|  19|\n",
      "|2014|   10|        5|   6|\n",
      "|2012|    2|        4|  23|\n",
      "|2012|   12|        3|  10|\n",
      "|2013|    5|        7|  18|\n",
      "|2010|   12|        4|   1|\n",
      "|2011|    3|        2|  21|\n",
      "|2014|    1|        2|  17|\n",
      "|2014|    4|        4|  13|\n",
      "|2015|    3|        3|  13|\n",
      "|2012|    1|        3|  10|\n",
      "+----+-----+---------+----+\n",
      "only showing top 20 rows"
     ]
    }
   ],
   "source": [
    "from pyspark.sql.functions import year, month, dayofweek, hour\n",
    "\n",
    "df = df.withColumn('year', year(df['NYTime']))\n",
    "df = df.withColumn('month', month(df['NYTime']))\n",
    "df = df.withColumn('dayofweek', dayofweek(df['NYTime']))\n",
    "df = df.withColumn('hour', hour(df['NYTime']))\n",
    "df.select('year', 'month', 'dayofweek', 'hour').show()"
   ]
  },
  {
   "cell_type": "code",
   "execution_count": 41,
   "metadata": {},
   "outputs": [
    {
     "data": {
      "application/vnd.jupyter.widget-view+json": {
       "model_id": "fb923167143f40eebe7c9ee4798028ba",
       "version_major": 2,
       "version_minor": 0
      },
      "text/plain": [
       "VBox()"
      ]
     },
     "metadata": {},
     "output_type": "display_data"
    },
    {
     "data": {
      "application/vnd.jupyter.widget-view+json": {
       "model_id": "",
       "version_major": 2,
       "version_minor": 0
      },
      "text/plain": [
       "FloatProgress(value=0.0, bar_style='info', description='Progress:', layout=Layout(height='25px', width='50%'),…"
      ]
     },
     "metadata": {},
     "output_type": "display_data"
    }
   ],
   "source": [
    "inputCols = [\n",
    "    'pickup_latitude',\n",
    "    'pickup_longitude',\n",
    "    'dropoff_latitude',\n",
    "    'dropoff_longitude',\n",
    "    'passenger_count', 'year', 'month', 'dayofweek', 'hour'\n",
    "]\n",
    "assembler = VectorAssembler(inputCols=inputCols, outputCol='featuresCleanWithDate')\n",
    "dataset = assembler.transform(df)"
   ]
  },
  {
   "cell_type": "code",
   "execution_count": 42,
   "metadata": {},
   "outputs": [
    {
     "data": {
      "application/vnd.jupyter.widget-view+json": {
       "model_id": "80930d64a5e64c05939d1db78f7d9d14",
       "version_major": 2,
       "version_minor": 0
      },
      "text/plain": [
       "VBox()"
      ]
     },
     "metadata": {},
     "output_type": "display_data"
    },
    {
     "data": {
      "application/vnd.jupyter.widget-view+json": {
       "model_id": "",
       "version_major": 2,
       "version_minor": 0
      },
      "text/plain": [
       "FloatProgress(value=0.0, bar_style='info', description='Progress:', layout=Layout(height='25px', width='50%'),…"
      ]
     },
     "metadata": {},
     "output_type": "display_data"
    }
   ],
   "source": [
    "lr = LinearRegression(featuresCol='featuresCleanWithDate', labelCol='fare_amount')\n",
    "model = lr.fit(dataset)\n",
    "summary = model.evaluate(dataset)"
   ]
  },
  {
   "cell_type": "code",
   "execution_count": 43,
   "metadata": {},
   "outputs": [
    {
     "data": {
      "application/vnd.jupyter.widget-view+json": {
       "model_id": "002a96f1344742ee920a489ec0d6f5ad",
       "version_major": 2,
       "version_minor": 0
      },
      "text/plain": [
       "VBox()"
      ]
     },
     "metadata": {},
     "output_type": "display_data"
    },
    {
     "data": {
      "application/vnd.jupyter.widget-view+json": {
       "model_id": "",
       "version_major": 2,
       "version_minor": 0
      },
      "text/plain": [
       "FloatProgress(value=0.0, bar_style='info', description='Progress:', layout=Layout(height='25px', width='50%'),…"
      ]
     },
     "metadata": {},
     "output_type": "display_data"
    },
    {
     "name": "stdout",
     "output_type": "stream",
     "text": [
      "0.26449290061770625"
     ]
    }
   ],
   "source": [
    "summary.r2"
   ]
  },
  {
   "cell_type": "code",
   "execution_count": 44,
   "metadata": {},
   "outputs": [
    {
     "data": {
      "application/vnd.jupyter.widget-view+json": {
       "model_id": "605ac9ed70634de7918f6d6ff970ec51",
       "version_major": 2,
       "version_minor": 0
      },
      "text/plain": [
       "VBox()"
      ]
     },
     "metadata": {},
     "output_type": "display_data"
    },
    {
     "data": {
      "application/vnd.jupyter.widget-view+json": {
       "model_id": "",
       "version_major": 2,
       "version_minor": 0
      },
      "text/plain": [
       "FloatProgress(value=0.0, bar_style='info', description='Progress:', layout=Layout(height='25px', width='50%'),…"
      ]
     },
     "metadata": {},
     "output_type": "display_data"
    }
   ],
   "source": [
    "x1 = df['pickup_longitude']\n",
    "y1 = df['pickup_latitude']\n",
    "x2 = df['dropoff_longitude']\n",
    "y2 = df['dropoff_latitude']\n",
    "\n",
    "from pyspark.sql.functions import abs as psabs\n",
    "\n",
    "df = df.withColumn('l1', psabs(x1 - x2) + psabs(y1 - y2))"
   ]
  },
  {
   "cell_type": "code",
   "execution_count": 45,
   "metadata": {},
   "outputs": [
    {
     "data": {
      "application/vnd.jupyter.widget-view+json": {
       "model_id": "a91075187b2c44eea8c40fd3fb6eea5c",
       "version_major": 2,
       "version_minor": 0
      },
      "text/plain": [
       "VBox()"
      ]
     },
     "metadata": {},
     "output_type": "display_data"
    },
    {
     "data": {
      "application/vnd.jupyter.widget-view+json": {
       "model_id": "",
       "version_major": 2,
       "version_minor": 0
      },
      "text/plain": [
       "FloatProgress(value=0.0, bar_style='info', description='Progress:', layout=Layout(height='25px', width='50%'),…"
      ]
     },
     "metadata": {},
     "output_type": "display_data"
    }
   ],
   "source": [
    "inputCols = [\n",
    "    'pickup_latitude',\n",
    "    'pickup_longitude',\n",
    "    'dropoff_latitude',\n",
    "    'dropoff_longitude',\n",
    "    'passenger_count', 'year', 'month', 'dayofweek', 'hour', 'l1'\n",
    "]\n",
    "assembler = VectorAssembler(inputCols=inputCols, outputCol='featuresCleanWithDateL1')\n",
    "dataset = assembler.transform(df)"
   ]
  },
  {
   "cell_type": "code",
   "execution_count": 46,
   "metadata": {},
   "outputs": [
    {
     "data": {
      "application/vnd.jupyter.widget-view+json": {
       "model_id": "beaf0eee6fbf4ecbaa4cb0e99823b3cc",
       "version_major": 2,
       "version_minor": 0
      },
      "text/plain": [
       "VBox()"
      ]
     },
     "metadata": {},
     "output_type": "display_data"
    },
    {
     "data": {
      "application/vnd.jupyter.widget-view+json": {
       "model_id": "",
       "version_major": 2,
       "version_minor": 0
      },
      "text/plain": [
       "FloatProgress(value=0.0, bar_style='info', description='Progress:', layout=Layout(height='25px', width='50%'),…"
      ]
     },
     "metadata": {},
     "output_type": "display_data"
    }
   ],
   "source": [
    "lr = LinearRegression(featuresCol='featuresCleanWithDateL1', labelCol='fare_amount')\n",
    "model = lr.fit(dataset)\n",
    "summary = model.evaluate(dataset)"
   ]
  },
  {
   "cell_type": "code",
   "execution_count": 47,
   "metadata": {},
   "outputs": [
    {
     "data": {
      "application/vnd.jupyter.widget-view+json": {
       "model_id": "6500dddb8c954c97b62c73730722fe92",
       "version_major": 2,
       "version_minor": 0
      },
      "text/plain": [
       "VBox()"
      ]
     },
     "metadata": {},
     "output_type": "display_data"
    },
    {
     "data": {
      "application/vnd.jupyter.widget-view+json": {
       "model_id": "",
       "version_major": 2,
       "version_minor": 0
      },
      "text/plain": [
       "FloatProgress(value=0.0, bar_style='info', description='Progress:', layout=Layout(height='25px', width='50%'),…"
      ]
     },
     "metadata": {},
     "output_type": "display_data"
    },
    {
     "name": "stdout",
     "output_type": "stream",
     "text": [
      "0.6794746273189265"
     ]
    }
   ],
   "source": [
    "summary.r2"
   ]
  },
  {
   "cell_type": "code",
   "execution_count": 49,
   "metadata": {},
   "outputs": [
    {
     "data": {
      "application/vnd.jupyter.widget-view+json": {
       "model_id": "4ffc22665443443cb647ec8bbc8f4659",
       "version_major": 2,
       "version_minor": 0
      },
      "text/plain": [
       "VBox()"
      ]
     },
     "metadata": {},
     "output_type": "display_data"
    },
    {
     "data": {
      "application/vnd.jupyter.widget-view+json": {
       "model_id": "",
       "version_major": 2,
       "version_minor": 0
      },
      "text/plain": [
       "FloatProgress(value=0.0, bar_style='info', description='Progress:', layout=Layout(height='25px', width='50%'),…"
      ]
     },
     "metadata": {},
     "output_type": "display_data"
    }
   ],
   "source": [
    "train, test = df.randomSplit([0.66, 0.33])\n",
    "trainDataset = assembler.transform(train)\n",
    "testDataset = assembler.transform(test)"
   ]
  },
  {
   "cell_type": "code",
   "execution_count": 50,
   "metadata": {},
   "outputs": [
    {
     "data": {
      "application/vnd.jupyter.widget-view+json": {
       "model_id": "ad1393b312124197a1661611b6ede855",
       "version_major": 2,
       "version_minor": 0
      },
      "text/plain": [
       "VBox()"
      ]
     },
     "metadata": {},
     "output_type": "display_data"
    },
    {
     "data": {
      "application/vnd.jupyter.widget-view+json": {
       "model_id": "",
       "version_major": 2,
       "version_minor": 0
      },
      "text/plain": [
       "FloatProgress(value=0.0, bar_style='info', description='Progress:', layout=Layout(height='25px', width='50%'),…"
      ]
     },
     "metadata": {},
     "output_type": "display_data"
    }
   ],
   "source": [
    "lr = LinearRegression(featuresCol='featuresCleanWithDateL1', labelCol='fare_amount')\n",
    "model = lr.fit(trainDataset)\n",
    "summary = model.evaluate(testDataset)"
   ]
  },
  {
   "cell_type": "code",
   "execution_count": 51,
   "metadata": {},
   "outputs": [
    {
     "data": {
      "application/vnd.jupyter.widget-view+json": {
       "model_id": "55e71b3c7be44bbe862b421838e94a75",
       "version_major": 2,
       "version_minor": 0
      },
      "text/plain": [
       "VBox()"
      ]
     },
     "metadata": {},
     "output_type": "display_data"
    },
    {
     "data": {
      "application/vnd.jupyter.widget-view+json": {
       "model_id": "",
       "version_major": 2,
       "version_minor": 0
      },
      "text/plain": [
       "FloatProgress(value=0.0, bar_style='info', description='Progress:', layout=Layout(height='25px', width='50%'),…"
      ]
     },
     "metadata": {},
     "output_type": "display_data"
    },
    {
     "name": "stdout",
     "output_type": "stream",
     "text": [
      "0.6819176733568568"
     ]
    }
   ],
   "source": [
    "summary.r2"
   ]
  },
  {
   "cell_type": "code",
   "execution_count": null,
   "metadata": {},
   "outputs": [],
   "source": []
  }
 ],
 "metadata": {
  "kernelspec": {
   "display_name": "PySpark",
   "language": "",
   "name": "pysparkkernel"
  },
  "language_info": {
   "codemirror_mode": {
    "name": "python",
    "version": 2
   },
   "mimetype": "text/x-python",
   "name": "pyspark",
   "pygments_lexer": "python2"
  }
 },
 "nbformat": 4,
 "nbformat_minor": 4
}
