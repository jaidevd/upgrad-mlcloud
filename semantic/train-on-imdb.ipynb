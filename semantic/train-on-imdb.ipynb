{
 "cells": [
  {
   "cell_type": "code",
   "execution_count": 1,
   "id": "infrared-cornwall",
   "metadata": {},
   "outputs": [
    {
     "name": "stdout",
     "output_type": "stream",
     "text": [
      "Found 25001 files belonging to 2 classes.\n",
      "Found 25000 files belonging to 2 classes.\n"
     ]
    }
   ],
   "source": [
    "from gensim.models import Word2Vec\n",
    "from tensorflow.keras.preprocessing import text_dataset_from_directory\n",
    "import pandas as pd\n",
    "from sklearn.model_selection import train_test_split\n",
    "\n",
    "# Importing & preprocessing the dataset\n",
    "\n",
    "train_ds = text_dataset_from_directory('../neuralnets/aclImdb/train')\n",
    "test_ds = text_dataset_from_directory('../neuralnets/aclImdb/test')\n",
    "\n",
    "dfTrain = pd.DataFrame(train_ds.unbatch().as_numpy_iterator(), columns=['text', 'label'])\n",
    "dfTest = pd.DataFrame(test_ds.unbatch().as_numpy_iterator(), columns=['text', 'label'])\n",
    "_, xts = train_test_split(dfTest, stratify=dfTest['label'], test_size=0.25)"
   ]
  },
  {
   "cell_type": "code",
   "execution_count": 2,
   "id": "assumed-track",
   "metadata": {},
   "outputs": [],
   "source": [
    "reviews = dfTrain['text'].tolist() + dfTest['text'].tolist()"
   ]
  },
  {
   "cell_type": "code",
   "execution_count": 5,
   "id": "increased-castle",
   "metadata": {},
   "outputs": [
    {
     "data": {
      "text/plain": [
       "['No scenario, bad actors (poor Melissa Gilbert)... Beurk Beurk Beurk ...<br /><br />Give a such budget to make this... In Belgium, we make ten films which win all prices in Cannes with this.<br /><br />Last time that I\\'ve seen a such NULL-Film was Hypercube. But scenario was better.<br /><br />Is anyone knows if the director was a graduate in school-film or a cop ?<br /><br />The better things in this film was the word \"End\".<br /><br />Why authorize to sell this ? 1ç is to expensive. <br /><br />I\\'ve pay ten dollars to buy this.<br /><br />For me, pay for this was my BIG MISTAKE of millennium.<br /><br />Too bad.<br /><br />Next time I\\'ll break my arm but buy this type of sh*t.',\n",
       " \"Before watching this film I had very low expectations and went to just see the cars. Eventually I even regretted going for that reason. Plot is almost non-existent. Character development is non-existent. So many clichés and so much jaw-dropping cheesiness existed in the movie that I could only stare and wonder how it was even released. If not for the exotics, I wouldn't have even rated this movie a 1. An attempt at a coherent story line is destroyed by the sheer absurdity of this elite racing cult and the laughable characters that make up its members. In fact, the movie's plot is so predictable and simple-minded that an average child could foretell the majority of the storyline. Bad acting, bad plot, bad jokes, bad movie.<br /><br />Don't see it. Play Gran Turismo HD instead and it'll satiate your thirst for fast sexy cars without leaving a bad aftertaste.\"]"
      ]
     },
     "execution_count": 5,
     "metadata": {},
     "output_type": "execute_result"
    }
   ],
   "source": [
    "reviews = [x.decode() for x in reviews]\n",
    "reviews[:2]"
   ]
  },
  {
   "cell_type": "code",
   "execution_count": 7,
   "id": "approximate-deposit",
   "metadata": {},
   "outputs": [],
   "source": [
    "from utils import MetricCallback"
   ]
  },
  {
   "cell_type": "code",
   "execution_count": 8,
   "id": "mediterranean-click",
   "metadata": {},
   "outputs": [],
   "source": [
    "import re\n",
    "import matplotlib.pyplot as plt\n",
    "%matplotlib inline"
   ]
  },
  {
   "cell_type": "code",
   "execution_count": 11,
   "id": "nutritional-jefferson",
   "metadata": {},
   "outputs": [
    {
     "name": "stdout",
     "output_type": "stream",
     "text": [
      "Loss after epoch 0: 2429543.0\n",
      "Loss after epoch 1: 2017324.5\n",
      "Loss after epoch 2: 1788937.5\n",
      "Loss after epoch 3: 1763698.0\n",
      "Loss after epoch 4: 1582451.0\n",
      "Loss after epoch 5: 1547007.0\n",
      "Loss after epoch 6: 1540789.0\n",
      "Loss after epoch 7: 1545617.0\n",
      "Loss after epoch 8: 1525367.0\n",
      "Loss after epoch 9: 1456916.0\n",
      "Loss after epoch 10: 1272570.0\n",
      "Loss after epoch 11: 1360042.0\n",
      "Loss after epoch 12: 1291810.0\n",
      "Loss after epoch 13: 1284970.0\n",
      "Loss after epoch 14: 1288136.0\n",
      "Loss after epoch 15: 1290810.0\n",
      "Loss after epoch 16: 1298616.0\n",
      "Loss after epoch 17: 1262682.0\n",
      "Loss after epoch 18: 1300502.0\n",
      "Loss after epoch 19: 1277008.0\n",
      "Loss after epoch 20: 1274396.0\n",
      "Loss after epoch 21: 1247176.0\n",
      "Loss after epoch 22: 1176176.0\n",
      "Loss after epoch 23: 804404.0\n",
      "Loss after epoch 24: 820888.0\n",
      "Loss after epoch 25: 807936.0\n",
      "Loss after epoch 26: 822888.0\n",
      "Loss after epoch 27: 826460.0\n",
      "Loss after epoch 28: 809352.0\n",
      "Loss after epoch 29: 831380.0\n",
      "Loss after epoch 30: 827752.0\n",
      "Loss after epoch 31: 817564.0\n",
      "Loss after epoch 32: 772792.0\n",
      "Loss after epoch 33: 778112.0\n",
      "Loss after epoch 34: 790888.0\n",
      "Loss after epoch 35: 810596.0\n",
      "Loss after epoch 36: 797580.0\n",
      "Loss after epoch 37: 798160.0\n",
      "Loss after epoch 38: 779232.0\n",
      "Loss after epoch 39: 808816.0\n",
      "Loss after epoch 40: 794000.0\n",
      "Loss after epoch 41: 795004.0\n",
      "Loss after epoch 42: 794308.0\n",
      "Loss after epoch 43: 817060.0\n",
      "Loss after epoch 44: 813572.0\n",
      "Loss after epoch 45: 792176.0\n",
      "Loss after epoch 46: 781384.0\n",
      "Loss after epoch 47: 797520.0\n",
      "Loss after epoch 48: 795212.0\n",
      "Loss after epoch 49: 784120.0\n",
      "Loss after epoch 50: 783692.0\n",
      "Loss after epoch 51: 781376.0\n",
      "Loss after epoch 52: 775864.0\n",
      "Loss after epoch 53: 772608.0\n",
      "Loss after epoch 54: 758116.0\n",
      "Loss after epoch 55: 779540.0\n",
      "Loss after epoch 56: 790312.0\n",
      "Loss after epoch 57: 762076.0\n",
      "Loss after epoch 58: 747704.0\n",
      "Loss after epoch 59: 753948.0\n",
      "Loss after epoch 60: 746040.0\n",
      "Loss after epoch 61: 751404.0\n",
      "Loss after epoch 62: 732248.0\n",
      "Loss after epoch 63: 770420.0\n",
      "Loss after epoch 64: 725788.0\n",
      "Loss after epoch 65: 272532.0\n",
      "Loss after epoch 66: 116424.0\n",
      "Loss after epoch 67: 115632.0\n",
      "Loss after epoch 68: 113880.0\n",
      "Loss after epoch 69: 110616.0\n",
      "Loss after epoch 70: 111592.0\n",
      "Loss after epoch 71: 110560.0\n",
      "Loss after epoch 72: 111352.0\n",
      "Loss after epoch 73: 105632.0\n",
      "Loss after epoch 74: 109808.0\n",
      "Loss after epoch 75: 105232.0\n",
      "Loss after epoch 76: 102656.0\n",
      "Loss after epoch 77: 99944.0\n",
      "Loss after epoch 78: 100000.0\n",
      "Loss after epoch 79: 99024.0\n",
      "Loss after epoch 80: 98800.0\n",
      "Loss after epoch 81: 96160.0\n",
      "Loss after epoch 82: 92872.0\n",
      "Loss after epoch 83: 94024.0\n",
      "Loss after epoch 84: 90128.0\n",
      "Loss after epoch 85: 88416.0\n",
      "Loss after epoch 86: 84232.0\n",
      "Loss after epoch 87: 84128.0\n",
      "Loss after epoch 88: 81264.0\n",
      "Loss after epoch 89: 83848.0\n",
      "Loss after epoch 90: 79264.0\n",
      "Loss after epoch 91: 77896.0\n",
      "Loss after epoch 92: 77016.0\n",
      "Loss after epoch 93: 73160.0\n",
      "Loss after epoch 94: 70464.0\n",
      "Loss after epoch 95: 69288.0\n",
      "Loss after epoch 96: 69608.0\n",
      "Loss after epoch 97: 64632.0\n",
      "Loss after epoch 98: 64296.0\n",
      "Loss after epoch 99: 62656.0\n"
     ]
    },
    {
     "data": {
      "text/plain": [
       "[<matplotlib.lines.Line2D at 0x7f40b96eba50>]"
      ]
     },
     "execution_count": 11,
     "metadata": {},
     "output_type": "execute_result"
    },
    {
     "data": {
      "image/png": "[encoded data removed]",
      "text/plain": [
       "<Figure size 432x288 with 1 Axes>"
      ]
     },
     "metadata": {
      "needs_background": "light"
     },
     "output_type": "display_data"
    }
   ],
   "source": [
    "metric = MetricCallback(every=1)\n",
    "model = Word2Vec(\n",
    "    sentences = [re.findall(r'\\w+', s, flags=re.IGNORECASE) for s in reviews],\n",
    "    compute_loss=True,\n",
    "    callbacks=[metric],\n",
    "    epochs=100,\n",
    "    min_alpha=0.001,\n",
    "    vector_size=128,\n",
    "    workers=9\n",
    ")\n",
    "plt.plot(metric.myloss)"
   ]
  },
  {
   "cell_type": "code",
   "execution_count": 12,
   "id": "measured-drove",
   "metadata": {},
   "outputs": [],
   "source": [
    "model.save('data/imdb-word2vec.w2v')"
   ]
  },
  {
   "cell_type": "code",
   "execution_count": null,
   "id": "young-discrimination",
   "metadata": {},
   "outputs": [],
   "source": []
  }
 ],
 "metadata": {
  "kernelspec": {
   "display_name": "Python 3",
   "language": "python",
   "name": "python3"
  },
  "language_info": {
   "codemirror_mode": {
    "name": "ipython",
    "version": 3
   },
   "file_extension": ".py",
   "mimetype": "text/x-python",
   "name": "python",
   "nbconvert_exporter": "python",
   "pygments_lexer": "ipython3",
   "version": "3.7.7"
  }
 },
 "nbformat": 4,
 "nbformat_minor": 5
}
