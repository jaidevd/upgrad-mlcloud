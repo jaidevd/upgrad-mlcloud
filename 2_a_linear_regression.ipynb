{
 "cells": [
  {
   "cell_type": "code",
   "execution_count": 1,
   "metadata": {},
   "outputs": [],
   "source": [
    "import numpy as np\n",
    "import matplotlib.pyplot as plt\n",
    "%matplotlib inline"
   ]
  },
  {
   "cell_type": "markdown",
   "metadata": {},
   "source": [
    "# Linear Regression with NumPy"
   ]
  },
  {
   "cell_type": "code",
   "execution_count": 2,
   "metadata": {},
   "outputs": [
    {
     "data": {
      "image/png": "[encoded data removed]",
      "text/plain": [
       "<Figure size 432x288 with 1 Axes>"
      ]
     },
     "metadata": {
      "needs_background": "light"
     },
     "output_type": "display_data"
    }
   ],
   "source": [
    "x = np.linspace(0, 1, 20)\n",
    "m = 2\n",
    "c = 0.5\n",
    "y = m * x + c\n",
    "plt.plot(x, y)\n",
    "plt.axis([-0.1, 1.1, 0, 3])\n",
    "plt.grid()"
   ]
  },
  {
   "cell_type": "code",
   "execution_count": 3,
   "metadata": {},
   "outputs": [
    {
     "data": {
      "text/plain": [
       "array([0.        , 0.05263158, 0.10526316, 0.15789474, 0.21052632,\n",
       "       0.26315789, 0.31578947, 0.36842105, 0.42105263, 0.47368421,\n",
       "       0.52631579, 0.57894737, 0.63157895, 0.68421053, 0.73684211,\n",
       "       0.78947368, 0.84210526, 0.89473684, 0.94736842, 1.        ])"
      ]
     },
     "execution_count": 3,
     "metadata": {},
     "output_type": "execute_result"
    }
   ],
   "source": [
    "x"
   ]
  },
  {
   "cell_type": "code",
   "execution_count": 4,
   "metadata": {},
   "outputs": [
    {
     "data": {
      "text/plain": [
       "array([0.5       , 0.60526316, 0.71052632, 0.81578947, 0.92105263,\n",
       "       1.02631579, 1.13157895, 1.23684211, 1.34210526, 1.44736842,\n",
       "       1.55263158, 1.65789474, 1.76315789, 1.86842105, 1.97368421,\n",
       "       2.07894737, 2.18421053, 2.28947368, 2.39473684, 2.5       ])"
      ]
     },
     "execution_count": 4,
     "metadata": {},
     "output_type": "execute_result"
    }
   ],
   "source": [
    "y"
   ]
  },
  {
   "cell_type": "markdown",
   "metadata": {},
   "source": [
    "## Imagine that there is no line"
   ]
  },
  {
   "cell_type": "code",
   "execution_count": 5,
   "metadata": {},
   "outputs": [
    {
     "data": {
      "image/png": "[encoded data removed]",
      "text/plain": [
       "<Figure size 432x288 with 1 Axes>"
      ]
     },
     "metadata": {
      "needs_background": "light"
     },
     "output_type": "display_data"
    }
   ],
   "source": [
    "plt.scatter(x, y, s=5)\n",
    "plt.axis([-0.1, 1.1, 0, 3])\n",
    "plt.grid()"
   ]
  },
  {
   "cell_type": "code",
   "execution_count": 6,
   "metadata": {},
   "outputs": [
    {
     "name": "stdout",
     "output_type": "stream",
     "text": [
      "[0.         0.05263158 0.10526316 0.15789474 0.21052632 0.26315789\n",
      " 0.31578947 0.36842105 0.42105263 0.47368421 0.52631579 0.57894737\n",
      " 0.63157895 0.68421053 0.73684211 0.78947368 0.84210526 0.89473684\n",
      " 0.94736842 1.        ]\n"
     ]
    }
   ],
   "source": [
    "print(x)"
   ]
  },
  {
   "cell_type": "code",
   "execution_count": 7,
   "metadata": {},
   "outputs": [
    {
     "name": "stdout",
     "output_type": "stream",
     "text": [
      "[0.5        0.60526316 0.71052632 0.81578947 0.92105263 1.02631579\n",
      " 1.13157895 1.23684211 1.34210526 1.44736842 1.55263158 1.65789474\n",
      " 1.76315789 1.86842105 1.97368421 2.07894737 2.18421053 2.28947368\n",
      " 2.39473684 2.5       ]\n"
     ]
    }
   ],
   "source": [
    "print(y)"
   ]
  },
  {
   "cell_type": "markdown",
   "metadata": {},
   "source": [
    "## Ordinary Least Squares\n",
    "\n",
    "Recall that,\n",
    "\n",
    "$$\\mathbf{y} = \\mathbf{X}\\mathbf{\\beta} + \\mathbf{\\epsilon}$$\n",
    "\n",
    "and\n",
    "\n",
    "$$\\mathbf{\\hat{\\beta}} = (\\mathbf{X}^{T}\\mathbf{X})^{-1}\\mathbf{X}^{T}\\mathbf{y}$$"
   ]
  },
  {
   "cell_type": "code",
   "execution_count": 8,
   "metadata": {},
   "outputs": [
    {
     "data": {
      "text/plain": [
       "array([0.        , 0.05263158, 0.10526316, 0.15789474, 0.21052632,\n",
       "       0.26315789, 0.31578947, 0.36842105, 0.42105263, 0.47368421,\n",
       "       0.52631579, 0.57894737, 0.63157895, 0.68421053, 0.73684211,\n",
       "       0.78947368, 0.84210526, 0.89473684, 0.94736842, 1.        ])"
      ]
     },
     "execution_count": 8,
     "metadata": {},
     "output_type": "execute_result"
    }
   ],
   "source": [
    "x"
   ]
  },
  {
   "cell_type": "code",
   "execution_count": 9,
   "metadata": {},
   "outputs": [],
   "source": [
    "x = x.reshape(-1, 1)\n",
    "y = y.reshape(-1, 1)"
   ]
  },
  {
   "cell_type": "code",
   "execution_count": 10,
   "metadata": {},
   "outputs": [
    {
     "name": "stdout",
     "output_type": "stream",
     "text": [
      "[[0.        ]\n",
      " [0.05263158]\n",
      " [0.10526316]\n",
      " [0.15789474]\n",
      " [0.21052632]\n",
      " [0.26315789]\n",
      " [0.31578947]\n",
      " [0.36842105]\n",
      " [0.42105263]\n",
      " [0.47368421]\n",
      " [0.52631579]\n",
      " [0.57894737]\n",
      " [0.63157895]\n",
      " [0.68421053]\n",
      " [0.73684211]\n",
      " [0.78947368]\n",
      " [0.84210526]\n",
      " [0.89473684]\n",
      " [0.94736842]\n",
      " [1.        ]]\n"
     ]
    }
   ],
   "source": [
    "print(x)"
   ]
  },
  {
   "cell_type": "code",
   "execution_count": 11,
   "metadata": {},
   "outputs": [
    {
     "name": "stdout",
     "output_type": "stream",
     "text": [
      "[[0.5       ]\n",
      " [0.60526316]\n",
      " [0.71052632]\n",
      " [0.81578947]\n",
      " [0.92105263]\n",
      " [1.02631579]\n",
      " [1.13157895]\n",
      " [1.23684211]\n",
      " [1.34210526]\n",
      " [1.44736842]\n",
      " [1.55263158]\n",
      " [1.65789474]\n",
      " [1.76315789]\n",
      " [1.86842105]\n",
      " [1.97368421]\n",
      " [2.07894737]\n",
      " [2.18421053]\n",
      " [2.28947368]\n",
      " [2.39473684]\n",
      " [2.5       ]]\n"
     ]
    }
   ],
   "source": [
    "print(y)"
   ]
  },
  {
   "cell_type": "markdown",
   "metadata": {},
   "source": [
    "Suppose,\n",
    "\n",
    "$$a = (\\mathbf{X}^{T}\\mathbf{X})^{-1}$$\n",
    "and\n",
    "$$b = \\mathbf{X}^{T}\\mathbf{y}$$\n",
    "\n",
    "Therefore,\n",
    "\n",
    "$$\\mathbf{\\hat{\\beta}} = ab$$"
   ]
  },
  {
   "cell_type": "code",
   "execution_count": 12,
   "metadata": {},
   "outputs": [],
   "source": [
    "a = np.linalg.inv(np.dot(x.T, x))\n",
    "b = np.dot(x.T, y)\n",
    "beta_hat = np.dot(a, b)"
   ]
  },
  {
   "cell_type": "code",
   "execution_count": 13,
   "metadata": {},
   "outputs": [
    {
     "data": {
      "text/plain": [
       "array([[2.73076923]])"
      ]
     },
     "execution_count": 13,
     "metadata": {},
     "output_type": "execute_result"
    }
   ],
   "source": [
    "beta_hat"
   ]
  },
  {
   "cell_type": "markdown",
   "metadata": {},
   "source": [
    "$$\\mathbf{\\hat{y}} = \\mathbf{X}\\mathbf{\\hat{\\beta}}$$"
   ]
  },
  {
   "cell_type": "code",
   "execution_count": 14,
   "metadata": {},
   "outputs": [
    {
     "data": {
      "image/png": "[encoded data removed]",
      "text/plain": [
       "<Figure size 432x288 with 1 Axes>"
      ]
     },
     "metadata": {
      "needs_background": "light"
     },
     "output_type": "display_data"
    }
   ],
   "source": [
    "y_hat = np.dot(x, beta_hat)\n",
    "plt.scatter(x, y, s=5, label='Ground Truth')\n",
    "plt.plot(x, y_hat, 'g', label='OLS')\n",
    "plt.legend()\n",
    "plt.axis([-0.1, 1.1, 0, 3])\n",
    "plt.grid()"
   ]
  },
  {
   "cell_type": "markdown",
   "metadata": {},
   "source": [
    "# Question: What went wrong?"
   ]
  },
  {
   "cell_type": "markdown",
   "metadata": {},
   "source": [
    "## Estimating the intercept / error"
   ]
  },
  {
   "cell_type": "code",
   "execution_count": 15,
   "metadata": {},
   "outputs": [
    {
     "data": {
      "text/plain": [
       "array([[0.        ],\n",
       "       [0.05263158],\n",
       "       [0.10526316],\n",
       "       [0.15789474],\n",
       "       [0.21052632],\n",
       "       [0.26315789],\n",
       "       [0.31578947],\n",
       "       [0.36842105],\n",
       "       [0.42105263],\n",
       "       [0.47368421],\n",
       "       [0.52631579],\n",
       "       [0.57894737],\n",
       "       [0.63157895],\n",
       "       [0.68421053],\n",
       "       [0.73684211],\n",
       "       [0.78947368],\n",
       "       [0.84210526],\n",
       "       [0.89473684],\n",
       "       [0.94736842],\n",
       "       [1.        ]])"
      ]
     },
     "execution_count": 15,
     "metadata": {},
     "output_type": "execute_result"
    }
   ],
   "source": [
    "x"
   ]
  },
  {
   "cell_type": "code",
   "execution_count": 16,
   "metadata": {},
   "outputs": [],
   "source": [
    "x = np.c_[x, np.ones(x.shape)]"
   ]
  },
  {
   "cell_type": "code",
   "execution_count": 17,
   "metadata": {},
   "outputs": [
    {
     "data": {
      "text/plain": [
       "array([[0.        , 1.        ],\n",
       "       [0.05263158, 1.        ],\n",
       "       [0.10526316, 1.        ],\n",
       "       [0.15789474, 1.        ],\n",
       "       [0.21052632, 1.        ],\n",
       "       [0.26315789, 1.        ],\n",
       "       [0.31578947, 1.        ],\n",
       "       [0.36842105, 1.        ],\n",
       "       [0.42105263, 1.        ],\n",
       "       [0.47368421, 1.        ],\n",
       "       [0.52631579, 1.        ],\n",
       "       [0.57894737, 1.        ],\n",
       "       [0.63157895, 1.        ],\n",
       "       [0.68421053, 1.        ],\n",
       "       [0.73684211, 1.        ],\n",
       "       [0.78947368, 1.        ],\n",
       "       [0.84210526, 1.        ],\n",
       "       [0.89473684, 1.        ],\n",
       "       [0.94736842, 1.        ],\n",
       "       [1.        , 1.        ]])"
      ]
     },
     "execution_count": 17,
     "metadata": {},
     "output_type": "execute_result"
    }
   ],
   "source": [
    "x"
   ]
  },
  {
   "cell_type": "code",
   "execution_count": 18,
   "metadata": {},
   "outputs": [],
   "source": [
    "a = np.linalg.inv(np.dot(x.T, x))\n",
    "b = np.dot(x.T, y)\n",
    "beta_hat = np.dot(a, b)"
   ]
  },
  {
   "cell_type": "code",
   "execution_count": 19,
   "metadata": {},
   "outputs": [
    {
     "data": {
      "text/plain": [
       "array([[2. ],\n",
       "       [0.5]])"
      ]
     },
     "execution_count": 19,
     "metadata": {},
     "output_type": "execute_result"
    }
   ],
   "source": [
    "beta_hat"
   ]
  },
  {
   "cell_type": "code",
   "execution_count": 20,
   "metadata": {},
   "outputs": [],
   "source": [
    "m_hat, c_hat = beta_hat.ravel()\n",
    "y_hat = x[:, 0] * m_hat + c_hat"
   ]
  },
  {
   "cell_type": "code",
   "execution_count": 21,
   "metadata": {},
   "outputs": [
    {
     "data": {
      "image/png": "[encoded data removed]",
      "text/plain": [
       "<Figure size 432x288 with 1 Axes>"
      ]
     },
     "metadata": {
      "needs_background": "light"
     },
     "output_type": "display_data"
    }
   ],
   "source": [
    "plt.scatter(x[:, 0], y, c='b', s=5, label='Ground Truth')\n",
    "plt.plot(x[:, 0], y_hat, 'g', label='OLS')\n",
    "plt.legend()\n",
    "plt.axis([-0.1, 1.1, 0, 3])\n",
    "plt.grid()"
   ]
  },
  {
   "cell_type": "markdown",
   "metadata": {},
   "source": [
    "# Exercise: Make some noise.\n",
    "#### Step 1: Pick a random slope ($m$) in the interval $[0.5, 2]$\n",
    "#### Step 2: Pick a random intercept ($c$) in the interval $[0, 1]$\n",
    "#### Step 3: Create $y = mx + c$ and add some noise to it, with [`np.random.rand`](https://docs.scipy.org/doc/numpy-1.15.1/reference/generated/numpy.random.rand.html)\n",
    "#### Step 4: Find $m$ and $c$, verify your solution"
   ]
  },
  {
   "cell_type": "code",
   "execution_count": 37,
   "metadata": {
    "scrolled": true
   },
   "outputs": [
    {
     "data": {
      "text/plain": [
       "[<matplotlib.lines.Line2D at 0x7f91584222b0>]"
      ]
     },
     "execution_count": 37,
     "metadata": {},
     "output_type": "execute_result"
    },
    {
     "data": {
      "image/png": "[encoded data removed]",
      "text/plain": [
       "<Figure size 432x288 with 1 Axes>"
      ]
     },
     "metadata": {
      "needs_background": "light"
     },
     "output_type": "display_data"
    }
   ],
   "source": [
    "# enter code here\n",
    "m = 3.14\n",
    "c = 0.123\n",
    "\n",
    "x = np.linspace(0, 1, 20)\n",
    "y = m * x + c\n",
    "y += np.random.rand(20) * 0.1\n",
    "plt.plot(x, y)"
   ]
  },
  {
   "cell_type": "code",
   "execution_count": 38,
   "metadata": {},
   "outputs": [
    {
     "data": {
      "text/plain": [
       "array([[0.        , 1.        ],\n",
       "       [0.05263158, 1.        ],\n",
       "       [0.10526316, 1.        ],\n",
       "       [0.15789474, 1.        ],\n",
       "       [0.21052632, 1.        ],\n",
       "       [0.26315789, 1.        ],\n",
       "       [0.31578947, 1.        ],\n",
       "       [0.36842105, 1.        ],\n",
       "       [0.42105263, 1.        ],\n",
       "       [0.47368421, 1.        ],\n",
       "       [0.52631579, 1.        ],\n",
       "       [0.57894737, 1.        ],\n",
       "       [0.63157895, 1.        ],\n",
       "       [0.68421053, 1.        ],\n",
       "       [0.73684211, 1.        ],\n",
       "       [0.78947368, 1.        ],\n",
       "       [0.84210526, 1.        ],\n",
       "       [0.89473684, 1.        ],\n",
       "       [0.94736842, 1.        ],\n",
       "       [1.        , 1.        ]])"
      ]
     },
     "execution_count": 38,
     "metadata": {},
     "output_type": "execute_result"
    }
   ],
   "source": [
    "x = x.reshape(-1, 1)\n",
    "y = y.reshape(-1, 1)\n",
    "\n",
    "x = np.c_[x, np.ones((20, 1))]\n",
    "x"
   ]
  },
  {
   "cell_type": "code",
   "execution_count": 39,
   "metadata": {},
   "outputs": [],
   "source": [
    "a = np.linalg.inv(np.dot(x.T, x))\n",
    "b = np.dot(x.T, y)\n",
    "beta_hat = np.dot(a, b)\n",
    "\n",
    "m_hat, c_hat = beta_hat.ravel()"
   ]
  },
  {
   "cell_type": "code",
   "execution_count": 40,
   "metadata": {},
   "outputs": [
    {
     "data": {
      "text/plain": [
       "(3.09731675196449, 0.1910278049653389)"
      ]
     },
     "execution_count": 40,
     "metadata": {},
     "output_type": "execute_result"
    }
   ],
   "source": [
    "m_hat, c_hat"
   ]
  },
  {
   "cell_type": "code",
   "execution_count": 41,
   "metadata": {},
   "outputs": [
    {
     "data": {
      "text/plain": [
       "[<matplotlib.lines.Line2D at 0x7f91584348d0>]"
      ]
     },
     "execution_count": 41,
     "metadata": {},
     "output_type": "execute_result"
    },
    {
     "data": {
      "image/png": "[encoded data removed]",
      "text/plain": [
       "<Figure size 432x288 with 1 Axes>"
      ]
     },
     "metadata": {
      "needs_background": "light"
     },
     "output_type": "display_data"
    }
   ],
   "source": [
    "y_hat = x[:, 0] *m_hat + c_hat\n",
    "plt.plot(x[:, 0], y_hat)\n",
    "plt.plot(x[:, 0], y[:, 0])"
   ]
  },
  {
   "cell_type": "code",
   "execution_count": null,
   "metadata": {},
   "outputs": [],
   "source": []
  }
 ],
 "metadata": {
  "kernelspec": {
   "display_name": "Python 3",
   "language": "python",
   "name": "python3"
  },
  "language_info": {
   "codemirror_mode": {
    "name": "ipython",
    "version": 3
   },
   "file_extension": ".py",
   "mimetype": "text/x-python",
   "name": "python",
   "nbconvert_exporter": "python",
   "pygments_lexer": "ipython3",
   "version": "3.6.8"
  }
 },
 "nbformat": 4,
 "nbformat_minor": 4
}
