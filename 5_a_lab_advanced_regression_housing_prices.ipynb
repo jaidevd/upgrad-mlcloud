{
 "cells": [
  {
   "cell_type": "markdown",
   "metadata": {},
   "source": [
    "# Explore the [Ames Housing Dataset](http://jse.amstat.org/v19n3/decock.pdf)"
   ]
  },
  {
   "cell_type": "code",
   "execution_count": null,
   "metadata": {},
   "outputs": [],
   "source": [
    "df = spark.read.format(\"csv\")\\\n",
    "    .option(\"inferSchema\", True)\\\n",
    "    .option(\"header\", True)\\\n",
    "    .load(\"data/ames/train.csv\")\n",
    "columns_to_show = ['MSSubClass', 'MSZoning', 'LotFrontage', 'LotArea', 'Street',\n",
    "                   'Alley', 'YearBuilt', 'Foundation', 'SalePrice']\n",
    "df.select(*columns_to_show).show()"
   ]
  },
  {
   "cell_type": "code",
   "execution_count": null,
   "metadata": {},
   "outputs": [],
   "source": [
    "df.printSchema()"
   ]
  },
  {
   "cell_type": "markdown",
   "metadata": {},
   "source": [
    "## For more details on the dataset columns, see [this report](data/ames/data_description.txt)."
   ]
  },
  {
   "cell_type": "markdown",
   "metadata": {},
   "source": [
    "## Exercise 1: Find the best possible R2 on a 70-30 split of the train dataset\n",
    "### Things to Remember:\n",
    "* Perform some EDA first - find columns that correlate with the output at least visually.\n",
    "* Be careful with the data type of each column! (Values that look like integers, like pin codes, are not necessarily numeric values <p>&#128540;</p>\n",
    "* Create a simple, naive linear regression model as a benchmark.\n",
    "* Use feature selection techniques liberally - find which columns have too low variance, and which columns can be eliminated recursively.\n",
    "* Cross validate the model by using multiple random splits of the data, find optimal values of $\\lambda$ and $\\alpha$ for ElasticNet regularization (Hint: for best results, search for $\\alpha$ by placing more candidate values closer to 1 than to 0)"
   ]
  },
  {
   "cell_type": "markdown",
   "metadata": {},
   "source": [
    "## Exercise 2 (optional): Use your best model on the [test dataset](data/ames/test.csv), and submit your predictions [here](https://www.kaggle.com/c/house-prices-advanced-regression-techniques/overview)."
   ]
  }
 ],
 "metadata": {
  "kernelspec": {
   "display_name": "Python 3",
   "language": "python",
   "name": "python3"
  },
  "language_info": {
   "codemirror_mode": {
    "name": "ipython",
    "version": 3
   },
   "file_extension": ".py",
   "mimetype": "text/x-python",
   "name": "python",
   "nbconvert_exporter": "python",
   "pygments_lexer": "ipython3",
   "version": "3.6.8"
  }
 },
 "nbformat": 4,
 "nbformat_minor": 2
}
