{
 "cells": [
  {
   "cell_type": "code",
   "execution_count": 1,
   "id": "simplified-seeking",
   "metadata": {},
   "outputs": [],
   "source": [
    "from tensorflow.keras.preprocessing import text_dataset_from_directory\n",
    "from tensorflow.keras import Sequential\n",
    "from tensorflow.keras.layers import Dense\n",
    "from tensorflow.keras.optimizers import SGD\n",
    "\n",
    "import pandas as pd\n",
    "import numpy as np\n",
    "from sklearn.feature_extraction.text import TfidfVectorizer\n",
    "from sklearn.model_selection import train_test_split\n",
    "import matplotlib.pyplot as plt\n",
    "%matplotlib inline"
   ]
  },
  {
   "cell_type": "code",
   "execution_count": 2,
   "id": "postal-headquarters",
   "metadata": {},
   "outputs": [
    {
     "name": "stdout",
     "output_type": "stream",
     "text": [
      "Found 25001 files belonging to 2 classes.\n",
      "Found 25000 files belonging to 2 classes.\n"
     ]
    }
   ],
   "source": [
    "train_ds = text_dataset_from_directory('aclImdb/train')\n",
    "test_ds = text_dataset_from_directory('aclImdb/test')\n",
    "\n",
    "dfTrain = pd.DataFrame(train_ds.unbatch().as_numpy_iterator(), columns=['text', 'label'])\n",
    "dfTest = pd.DataFrame(test_ds.unbatch().as_numpy_iterator(), columns=['text', 'label'])"
   ]
  },
  {
   "cell_type": "code",
   "execution_count": 3,
   "id": "dominican-clearing",
   "metadata": {},
   "outputs": [
    {
     "data": {
      "text/html": [
       "<div>\n",
       "<style scoped>\n",
       "    .dataframe tbody tr th:only-of-type {\n",
       "        vertical-align: middle;\n",
       "    }\n",
       "\n",
       "    .dataframe tbody tr th {\n",
       "        vertical-align: top;\n",
       "    }\n",
       "\n",
       "    .dataframe thead th {\n",
       "        text-align: right;\n",
       "    }\n",
       "</style>\n",
       "<table border=\"1\" class=\"dataframe\">\n",
       "  <thead>\n",
       "    <tr style=\"text-align: right;\">\n",
       "      <th></th>\n",
       "      <th>text</th>\n",
       "      <th>label</th>\n",
       "    </tr>\n",
       "  </thead>\n",
       "  <tbody>\n",
       "    <tr>\n",
       "      <th>0</th>\n",
       "      <td>b\"The King Maker is a film about a series of real (citation needed) events that occurred during ...</td>\n",
       "      <td>0</td>\n",
       "    </tr>\n",
       "    <tr>\n",
       "      <th>1</th>\n",
       "      <td>b'Truly terrible, pretentious, endless film. Director Bellocchio seems to be infatuated with the...</td>\n",
       "      <td>0</td>\n",
       "    </tr>\n",
       "    <tr>\n",
       "      <th>2</th>\n",
       "      <td>b\"&lt;br /&gt;&lt;br /&gt;If you like rap or hip-hop, watch this movie, although it's funny if you don't get...</td>\n",
       "      <td>1</td>\n",
       "    </tr>\n",
       "    <tr>\n",
       "      <th>3</th>\n",
       "      <td>b'... but the keyword here is \"usually.\" I have been known to adore movies EVERYONE thinks are d...</td>\n",
       "      <td>0</td>\n",
       "    </tr>\n",
       "    <tr>\n",
       "      <th>4</th>\n",
       "      <td>b\"I shall not waste my time writing anything much further about how every aspect of this film is...</td>\n",
       "      <td>0</td>\n",
       "    </tr>\n",
       "  </tbody>\n",
       "</table>\n",
       "</div>"
      ],
      "text/plain": [
       "                                                                                                  text  \\\n",
       "0  b\"The King Maker is a film about a series of real (citation needed) events that occurred during ...   \n",
       "1  b'Truly terrible, pretentious, endless film. Director Bellocchio seems to be infatuated with the...   \n",
       "2  b\"<br /><br />If you like rap or hip-hop, watch this movie, although it's funny if you don't get...   \n",
       "3  b'... but the keyword here is \"usually.\" I have been known to adore movies EVERYONE thinks are d...   \n",
       "4  b\"I shall not waste my time writing anything much further about how every aspect of this film is...   \n",
       "\n",
       "   label  \n",
       "0      0  \n",
       "1      0  \n",
       "2      1  \n",
       "3      0  \n",
       "4      0  "
      ]
     },
     "execution_count": 3,
     "metadata": {},
     "output_type": "execute_result"
    }
   ],
   "source": [
    "pd.options.display.max_colwidth = 100\n",
    "dfTrain.head()"
   ]
  },
  {
   "cell_type": "code",
   "execution_count": 4,
   "id": "domestic-sheep",
   "metadata": {},
   "outputs": [
    {
     "data": {
      "text/html": [
       "<div>\n",
       "<style scoped>\n",
       "    .dataframe tbody tr th:only-of-type {\n",
       "        vertical-align: middle;\n",
       "    }\n",
       "\n",
       "    .dataframe tbody tr th {\n",
       "        vertical-align: top;\n",
       "    }\n",
       "\n",
       "    .dataframe thead th {\n",
       "        text-align: right;\n",
       "    }\n",
       "</style>\n",
       "<table border=\"1\" class=\"dataframe\">\n",
       "  <thead>\n",
       "    <tr style=\"text-align: right;\">\n",
       "      <th></th>\n",
       "      <th>text</th>\n",
       "      <th>label</th>\n",
       "    </tr>\n",
       "  </thead>\n",
       "  <tbody>\n",
       "    <tr>\n",
       "      <th>0</th>\n",
       "      <td>b\"What do you do with all the material that does not make the final edit of a film? You might ke...</td>\n",
       "      <td>0</td>\n",
       "    </tr>\n",
       "    <tr>\n",
       "      <th>1</th>\n",
       "      <td>b'Let me start by saying I don\\'t recall laughing once during this comedy. From the opening scen...</td>\n",
       "      <td>0</td>\n",
       "    </tr>\n",
       "    <tr>\n",
       "      <th>2</th>\n",
       "      <td>b'For once a sequel to \"The Karate Kid\" without Ralph Macchio! Hilary Swank did an excellent job...</td>\n",
       "      <td>1</td>\n",
       "    </tr>\n",
       "    <tr>\n",
       "      <th>3</th>\n",
       "      <td>b\"I feel as though I know these people and have known people similar to them. These days, though...</td>\n",
       "      <td>1</td>\n",
       "    </tr>\n",
       "    <tr>\n",
       "      <th>4</th>\n",
       "      <td>b\"A movie I've seen and enjoyed possibly more than any other movie. I first saw it as a kid and ...</td>\n",
       "      <td>1</td>\n",
       "    </tr>\n",
       "  </tbody>\n",
       "</table>\n",
       "</div>"
      ],
      "text/plain": [
       "                                                                                                  text  \\\n",
       "0  b\"What do you do with all the material that does not make the final edit of a film? You might ke...   \n",
       "1  b'Let me start by saying I don\\'t recall laughing once during this comedy. From the opening scen...   \n",
       "2  b'For once a sequel to \"The Karate Kid\" without Ralph Macchio! Hilary Swank did an excellent job...   \n",
       "3  b\"I feel as though I know these people and have known people similar to them. These days, though...   \n",
       "4  b\"A movie I've seen and enjoyed possibly more than any other movie. I first saw it as a kid and ...   \n",
       "\n",
       "   label  \n",
       "0      0  \n",
       "1      0  \n",
       "2      1  \n",
       "3      1  \n",
       "4      1  "
      ]
     },
     "execution_count": 4,
     "metadata": {},
     "output_type": "execute_result"
    }
   ],
   "source": [
    "dfTest.head()"
   ]
  },
  {
   "cell_type": "code",
   "execution_count": 5,
   "id": "stainless-hammer",
   "metadata": {},
   "outputs": [],
   "source": [
    "xts, _ = train_test_split(dfTest, stratify=dfTest['label'], train_size=0.25)"
   ]
  },
  {
   "cell_type": "code",
   "execution_count": 6,
   "id": "massive-exemption",
   "metadata": {},
   "outputs": [],
   "source": [
    "vect = TfidfVectorizer(stop_words='english', max_features=65536)\n",
    "XTrain = vect.fit_transform(dfTrain['text']).toarray()\n",
    "XTest = vect.transform(xts['text']).toarray()"
   ]
  },
  {
   "cell_type": "code",
   "execution_count": 7,
   "id": "altered-methodology",
   "metadata": {},
   "outputs": [],
   "source": [
    "model = Sequential([\n",
    "    Dense(128, input_shape=(65536,), activation='relu'),\n",
    "    Dense(128, activation='relu'),\n",
    "    Dense(64, activation='relu'),\n",
    "    Dense(1, activation='sigmoid')\n",
    "])\n",
    "model.compile(loss='binary_crossentropy', optimizer=SGD(lr=1e-3), metrics=['accuracy'])"
   ]
  },
  {
   "cell_type": "code",
   "execution_count": 8,
   "id": "patent-serbia",
   "metadata": {},
   "outputs": [
    {
     "name": "stdout",
     "output_type": "stream",
     "text": [
      "Epoch 1/50\n",
      "391/391 [==============================] - 5s 13ms/step - loss: 0.6931 - accuracy: 0.5027 - val_loss: 0.6932 - val_accuracy: 0.4936\n",
      "Epoch 2/50\n",
      "391/391 [==============================] - 3s 9ms/step - loss: 0.6931 - accuracy: 0.5170 - val_loss: 0.6931 - val_accuracy: 0.5179\n",
      "Epoch 3/50\n",
      "391/391 [==============================] - 3s 9ms/step - loss: 0.6930 - accuracy: 0.5357 - val_loss: 0.6930 - val_accuracy: 0.5352\n",
      "Epoch 4/50\n",
      "391/391 [==============================] - 3s 9ms/step - loss: 0.6930 - accuracy: 0.5505 - val_loss: 0.6930 - val_accuracy: 0.5458\n",
      "Epoch 5/50\n",
      "391/391 [==============================] - 3s 9ms/step - loss: 0.6929 - accuracy: 0.5589 - val_loss: 0.6929 - val_accuracy: 0.5566\n",
      "Epoch 6/50\n",
      "391/391 [==============================] - 3s 9ms/step - loss: 0.6928 - accuracy: 0.5745 - val_loss: 0.6928 - val_accuracy: 0.5683\n",
      "Epoch 7/50\n",
      "391/391 [==============================] - 3s 9ms/step - loss: 0.6927 - accuracy: 0.5853 - val_loss: 0.6928 - val_accuracy: 0.5781\n",
      "Epoch 8/50\n",
      "391/391 [==============================] - 3s 9ms/step - loss: 0.6926 - accuracy: 0.5943 - val_loss: 0.6927 - val_accuracy: 0.5866\n",
      "Epoch 9/50\n",
      "391/391 [==============================] - 3s 9ms/step - loss: 0.6925 - accuracy: 0.6071 - val_loss: 0.6926 - val_accuracy: 0.5992\n",
      "Epoch 10/50\n",
      "391/391 [==============================] - 3s 9ms/step - loss: 0.6924 - accuracy: 0.6141 - val_loss: 0.6925 - val_accuracy: 0.6094\n",
      "Epoch 11/50\n",
      "391/391 [==============================] - 3s 9ms/step - loss: 0.6923 - accuracy: 0.6136 - val_loss: 0.6923 - val_accuracy: 0.6160\n",
      "Epoch 12/50\n",
      "391/391 [==============================] - 3s 9ms/step - loss: 0.6922 - accuracy: 0.6334 - val_loss: 0.6922 - val_accuracy: 0.6277\n",
      "Epoch 13/50\n",
      "391/391 [==============================] - 3s 9ms/step - loss: 0.6920 - accuracy: 0.6459 - val_loss: 0.6921 - val_accuracy: 0.6363\n",
      "Epoch 14/50\n",
      "391/391 [==============================] - 3s 9ms/step - loss: 0.6919 - accuracy: 0.6523 - val_loss: 0.6919 - val_accuracy: 0.6432\n",
      "Epoch 15/50\n",
      "391/391 [==============================] - 3s 9ms/step - loss: 0.6917 - accuracy: 0.6604 - val_loss: 0.6918 - val_accuracy: 0.6498\n",
      "Epoch 16/50\n",
      "391/391 [==============================] - 3s 9ms/step - loss: 0.6916 - accuracy: 0.6689 - val_loss: 0.6916 - val_accuracy: 0.6518\n",
      "Epoch 17/50\n",
      "391/391 [==============================] - 3s 9ms/step - loss: 0.6914 - accuracy: 0.6714 - val_loss: 0.6915 - val_accuracy: 0.6709\n",
      "Epoch 18/50\n",
      "391/391 [==============================] - 3s 9ms/step - loss: 0.6912 - accuracy: 0.6789 - val_loss: 0.6913 - val_accuracy: 0.6830\n",
      "Epoch 19/50\n",
      "391/391 [==============================] - 3s 9ms/step - loss: 0.6910 - accuracy: 0.6956 - val_loss: 0.6911 - val_accuracy: 0.6854\n",
      "Epoch 20/50\n",
      "391/391 [==============================] - 3s 9ms/step - loss: 0.6908 - accuracy: 0.7021 - val_loss: 0.6909 - val_accuracy: 0.6942\n",
      "Epoch 21/50\n",
      "391/391 [==============================] - 3s 9ms/step - loss: 0.6906 - accuracy: 0.7067 - val_loss: 0.6907 - val_accuracy: 0.7000\n",
      "Epoch 22/50\n",
      "391/391 [==============================] - 3s 9ms/step - loss: 0.6904 - accuracy: 0.7066 - val_loss: 0.6905 - val_accuracy: 0.7070\n",
      "Epoch 23/50\n",
      "391/391 [==============================] - 3s 9ms/step - loss: 0.6902 - accuracy: 0.7202 - val_loss: 0.6903 - val_accuracy: 0.7131\n",
      "Epoch 24/50\n",
      "391/391 [==============================] - 3s 9ms/step - loss: 0.6900 - accuracy: 0.7234 - val_loss: 0.6901 - val_accuracy: 0.7163\n",
      "Epoch 25/50\n",
      "391/391 [==============================] - 3s 9ms/step - loss: 0.6898 - accuracy: 0.7237 - val_loss: 0.6899 - val_accuracy: 0.7195\n",
      "Epoch 26/50\n",
      "391/391 [==============================] - 3s 9ms/step - loss: 0.6896 - accuracy: 0.7323 - val_loss: 0.6897 - val_accuracy: 0.7253\n",
      "Epoch 27/50\n",
      "391/391 [==============================] - 3s 9ms/step - loss: 0.6893 - accuracy: 0.7344 - val_loss: 0.6894 - val_accuracy: 0.7275\n",
      "Epoch 28/50\n",
      "391/391 [==============================] - 3s 9ms/step - loss: 0.6891 - accuracy: 0.7413 - val_loss: 0.6892 - val_accuracy: 0.7336\n",
      "Epoch 29/50\n",
      "391/391 [==============================] - 3s 9ms/step - loss: 0.6888 - accuracy: 0.7427 - val_loss: 0.6890 - val_accuracy: 0.7346\n",
      "Epoch 30/50\n",
      "391/391 [==============================] - 3s 9ms/step - loss: 0.6886 - accuracy: 0.7285 - val_loss: 0.6887 - val_accuracy: 0.7379\n",
      "Epoch 31/50\n",
      "391/391 [==============================] - 3s 9ms/step - loss: 0.6883 - accuracy: 0.7508 - val_loss: 0.6885 - val_accuracy: 0.7454\n",
      "Epoch 32/50\n",
      "391/391 [==============================] - 3s 9ms/step - loss: 0.6881 - accuracy: 0.7523 - val_loss: 0.6882 - val_accuracy: 0.7485\n",
      "Epoch 33/50\n",
      "391/391 [==============================] - 3s 9ms/step - loss: 0.6878 - accuracy: 0.7556 - val_loss: 0.6879 - val_accuracy: 0.7517\n",
      "Epoch 34/50\n",
      "391/391 [==============================] - 3s 9ms/step - loss: 0.6875 - accuracy: 0.7591 - val_loss: 0.6877 - val_accuracy: 0.7507\n",
      "Epoch 35/50\n",
      "391/391 [==============================] - 3s 9ms/step - loss: 0.6872 - accuracy: 0.7614 - val_loss: 0.6874 - val_accuracy: 0.7515\n",
      "Epoch 36/50\n",
      "391/391 [==============================] - 3s 9ms/step - loss: 0.6870 - accuracy: 0.7595 - val_loss: 0.6871 - val_accuracy: 0.7597\n",
      "Epoch 37/50\n",
      "391/391 [==============================] - 3s 9ms/step - loss: 0.6867 - accuracy: 0.7612 - val_loss: 0.6868 - val_accuracy: 0.7618\n",
      "Epoch 38/50\n",
      "391/391 [==============================] - 3s 9ms/step - loss: 0.6864 - accuracy: 0.7658 - val_loss: 0.6865 - val_accuracy: 0.7637\n",
      "Epoch 39/50\n",
      "391/391 [==============================] - 3s 9ms/step - loss: 0.6860 - accuracy: 0.7665 - val_loss: 0.6862 - val_accuracy: 0.7693\n",
      "Epoch 40/50\n",
      "391/391 [==============================] - 3s 9ms/step - loss: 0.6857 - accuracy: 0.7726 - val_loss: 0.6859 - val_accuracy: 0.7634\n",
      "Epoch 41/50\n",
      "391/391 [==============================] - 3s 9ms/step - loss: 0.6854 - accuracy: 0.7691 - val_loss: 0.6856 - val_accuracy: 0.7659\n",
      "Epoch 42/50\n",
      "391/391 [==============================] - 3s 9ms/step - loss: 0.6850 - accuracy: 0.7749 - val_loss: 0.6852 - val_accuracy: 0.7619\n",
      "Epoch 43/50\n",
      "391/391 [==============================] - 3s 9ms/step - loss: 0.6847 - accuracy: 0.7663 - val_loss: 0.6849 - val_accuracy: 0.7706\n",
      "Epoch 44/50\n",
      "391/391 [==============================] - 3s 9ms/step - loss: 0.6843 - accuracy: 0.7743 - val_loss: 0.6845 - val_accuracy: 0.7715\n",
      "Epoch 45/50\n",
      "391/391 [==============================] - 3s 9ms/step - loss: 0.6840 - accuracy: 0.7749 - val_loss: 0.6842 - val_accuracy: 0.7742\n",
      "Epoch 46/50\n",
      "391/391 [==============================] - 3s 9ms/step - loss: 0.6836 - accuracy: 0.7726 - val_loss: 0.6838 - val_accuracy: 0.7768\n",
      "Epoch 47/50\n",
      "391/391 [==============================] - 3s 9ms/step - loss: 0.6832 - accuracy: 0.7802 - val_loss: 0.6834 - val_accuracy: 0.7702\n",
      "Epoch 48/50\n",
      "391/391 [==============================] - 3s 9ms/step - loss: 0.6828 - accuracy: 0.7782 - val_loss: 0.6830 - val_accuracy: 0.7707\n",
      "Epoch 49/50\n",
      "391/391 [==============================] - 3s 9ms/step - loss: 0.6824 - accuracy: 0.7752 - val_loss: 0.6826 - val_accuracy: 0.7738\n",
      "Epoch 50/50\n",
      "391/391 [==============================] - 3s 9ms/step - loss: 0.6819 - accuracy: 0.7756 - val_loss: 0.6822 - val_accuracy: 0.7803\n"
     ]
    }
   ],
   "source": [
    "history = model.fit(XTrain, dfTrain['label'], batch_size=64, validation_data=(XTest, xts['label']), epochs=50)"
   ]
  },
  {
   "cell_type": "code",
   "execution_count": 11,
   "id": "rational-deposit",
   "metadata": {},
   "outputs": [
    {
     "data": {
      "text/plain": [
       "<matplotlib.legend.Legend at 0x7f09c047af50>"
      ]
     },
     "execution_count": 11,
     "metadata": {},
     "output_type": "execute_result"
    },
    {
     "data": {
      "image/png": "[encoded data removed]",
      "text/plain": [
       "<Figure size 432x288 with 1 Axes>"
      ]
     },
     "metadata": {
      "needs_background": "light"
     },
     "output_type": "display_data"
    }
   ],
   "source": [
    "plt.plot(history.history['accuracy'], label='Train Accuracy')\n",
    "plt.plot(history.history['val_accuracy'], label='Test Accuracy')\n",
    "plt.legend()"
   ]
  }
 ],
 "metadata": {
  "kernelspec": {
   "display_name": "Python 3",
   "language": "python",
   "name": "python3"
  },
  "language_info": {
   "codemirror_mode": {
    "name": "ipython",
    "version": 3
   },
   "file_extension": ".py",
   "mimetype": "text/x-python",
   "name": "python",
   "nbconvert_exporter": "python",
   "pygments_lexer": "ipython3",
   "version": "3.7.7"
  }
 },
 "nbformat": 4,
 "nbformat_minor": 5
}
