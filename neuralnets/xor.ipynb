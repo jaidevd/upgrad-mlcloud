{
 "cells": [
  {
   "cell_type": "code",
   "execution_count": 1,
   "id": "round-maine",
   "metadata": {},
   "outputs": [],
   "source": [
    "import numpy as np"
   ]
  },
  {
   "cell_type": "code",
   "execution_count": 11,
   "id": "convenient-medicaid",
   "metadata": {},
   "outputs": [],
   "source": [
    "X = np.array([\n",
    "    [0, 0],\n",
    "    [0, 1],\n",
    "    [1, 0],\n",
    "    [1, 1]\n",
    "])\n",
    "y = np.array([0, 1, 1, 0])"
   ]
  },
  {
   "cell_type": "code",
   "execution_count": 3,
   "id": "nasty-verification",
   "metadata": {},
   "outputs": [],
   "source": [
    "def sigmoid(x):\n",
    "    return 1 / (1 + np.exp(-x))"
   ]
  },
  {
   "cell_type": "code",
   "execution_count": 33,
   "id": "increasing-arbor",
   "metadata": {},
   "outputs": [],
   "source": [
    "# w1 = np.eye(2)\n",
    "w1 = np.array([\n",
    "    [1, 1],\n",
    "    [-1, -1]\n",
    "])\n",
    "w2 = np.ones((2, 1))"
   ]
  },
  {
   "cell_type": "code",
   "execution_count": 34,
   "id": "golden-marina",
   "metadata": {},
   "outputs": [
    {
     "data": {
      "text/plain": [
       "array([[ 0.],\n",
       "       [-2.],\n",
       "       [ 2.],\n",
       "       [ 0.]])"
      ]
     },
     "execution_count": 34,
     "metadata": {},
     "output_type": "execute_result"
    }
   ],
   "source": [
    "np.dot(np.dot(X, w1), w2)"
   ]
  },
  {
   "cell_type": "code",
   "execution_count": 35,
   "id": "dramatic-relationship",
   "metadata": {},
   "outputs": [],
   "source": [
    "from tensorflow.keras.layers import Dense\n",
    "from tensorflow.keras.optimizers import SGD\n",
    "from tensorflow.keras import Sequential"
   ]
  },
  {
   "cell_type": "code",
   "execution_count": 43,
   "id": "casual-census",
   "metadata": {},
   "outputs": [],
   "source": [
    "import matplotlib.pyplot as plt\n",
    "%matplotlib inline"
   ]
  },
  {
   "cell_type": "code",
   "execution_count": 51,
   "id": "blond-justice",
   "metadata": {},
   "outputs": [],
   "source": [
    "model = Sequential([\n",
    "    Dense(2, input_shape=(2,), activation='sigmoid'),\n",
    "    Dense(1, activation='sigmoid')\n",
    "])\n",
    "model.compile(loss='binary_crossentropy', optimizer=SGD(lr=0.3), metrics='accuracy')\n",
    "h = model.fit(X, y, epochs=2000, verbose=0)"
   ]
  },
  {
   "cell_type": "code",
   "execution_count": 52,
   "id": "comparable-switch",
   "metadata": {},
   "outputs": [
    {
     "data": {
      "text/plain": [
       "[<matplotlib.lines.Line2D at 0x7fbc5433cc50>]"
      ]
     },
     "execution_count": 52,
     "metadata": {},
     "output_type": "execute_result"
    },
    {
     "data": {
      "image/png": "[encoded data removed]",
      "text/plain": [
       "<Figure size 432x288 with 1 Axes>"
      ]
     },
     "metadata": {
      "needs_background": "light"
     },
     "output_type": "display_data"
    }
   ],
   "source": [
    "plt.plot(h.history['accuracy'])"
   ]
  },
  {
   "cell_type": "code",
   "execution_count": 54,
   "id": "intimate-cargo",
   "metadata": {},
   "outputs": [
    {
     "data": {
      "text/plain": [
       "[<tf.Variable 'dense_14/kernel:0' shape=(2, 2) dtype=float32, numpy=\n",
       " array([[-3.9249365,  4.237846 ],\n",
       "        [ 4.209757 , -3.9547293]], dtype=float32)>,\n",
       " <tf.Variable 'dense_14/bias:0' shape=(2,) dtype=float32, numpy=array([2.052526 , 2.0736418], dtype=float32)>,\n",
       " <tf.Variable 'dense_15/kernel:0' shape=(2, 1) dtype=float32, numpy=\n",
       " array([[-3.7821589],\n",
       "        [-3.7891889]], dtype=float32)>,\n",
       " <tf.Variable 'dense_15/bias:0' shape=(1,) dtype=float32, numpy=array([5.393297], dtype=float32)>]"
      ]
     },
     "execution_count": 54,
     "metadata": {},
     "output_type": "execute_result"
    }
   ],
   "source": [
    "model.weights"
   ]
  },
  {
   "cell_type": "code",
   "execution_count": 80,
   "id": "ambient-american",
   "metadata": {},
   "outputs": [],
   "source": [
    "w1 = np.array([[-1, 1], [1, -1]])\n",
    "b1 = np.array([1, 1])\n",
    "w2 = np.array([[-1], [-1]])\n",
    "b2 = np.array([1])"
   ]
  },
  {
   "cell_type": "code",
   "execution_count": 81,
   "id": "applied-still",
   "metadata": {},
   "outputs": [
    {
     "data": {
      "text/plain": [
       "array([[0.3864837 ],\n",
       "       [0.40593467],\n",
       "       [0.40593467],\n",
       "       [0.3864837 ]])"
      ]
     },
     "execution_count": 81,
     "metadata": {},
     "output_type": "execute_result"
    }
   ],
   "source": [
    "sigmoid(np.dot(sigmoid(np.dot(X, w1) + b1), w2) + b2)"
   ]
  },
  {
   "cell_type": "code",
   "execution_count": 88,
   "id": "joint-queen",
   "metadata": {},
   "outputs": [
    {
     "data": {
      "text/plain": [
       "array([[3, 3],\n",
       "       [4, 2],\n",
       "       [2, 4],\n",
       "       [3, 3]])"
      ]
     },
     "execution_count": 88,
     "metadata": {},
     "output_type": "execute_result"
    }
   ],
   "source": [
    "np.dot(X, w1) + 3 * b1"
   ]
  },
  {
   "cell_type": "code",
   "execution_count": null,
   "id": "interior-farming",
   "metadata": {},
   "outputs": [],
   "source": []
  }
 ],
 "metadata": {
  "kernelspec": {
   "display_name": "Python 3",
   "language": "python",
   "name": "python3"
  },
  "language_info": {
   "codemirror_mode": {
    "name": "ipython",
    "version": 3
   },
   "file_extension": ".py",
   "mimetype": "text/x-python",
   "name": "python",
   "nbconvert_exporter": "python",
   "pygments_lexer": "ipython3",
   "version": "3.7.7"
  }
 },
 "nbformat": 4,
 "nbformat_minor": 5
}
